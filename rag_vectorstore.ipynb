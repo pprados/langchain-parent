{
 "cells": [
  {
   "cell_type": "markdown",
   "id": "4993da90",
   "metadata": {},
   "source": [
    "# RAG vectorstore"
   ]
  },
  {
   "cell_type": "markdown",
   "id": "ddf56f04",
   "metadata": {},
   "source": [
    "When splitting documents for retrieval, there are often conflicting desires:\n",
    "\n",
    "1. You may want to keep documents small, ensuring that their embeddings accurately represent their meaning. If they become too long, the embeddings can lose their meaning.\n",
    "2. You also want to maintain documents long enough to retain the context of each chunk.\n",
    "\n",
    "When you have a lot of documents, and therefore a lot of pieces, it's likely that dozens of pieces have a distance close to the question. Taking only the top 4 is not a good idea. The answer may lie in the 6 or 7 tracks. How can we improve the match between the question and a fragment? By preparing several versions of the fragment, each with an embedding. In this way, one of the versions can be closer to the question than the original fragment. This version is stripped of context. But the context is still needed to answer the question correctly. One strategy consists of breaking down each fragment into different versions, but using the retriever to return to the original fragment. \n",
    "\n",
    "The `RAGVectorStore` strikes a balance by splitting and storing small chunks and different variations of data. During retrieval, it initially retrieves the small chunks but then looks up the parent IDs for those chunks and returns the larger documents.\n",
    "\n",
    "The challenge lies in correctly managing the lifecycle of the three levels of documents:\n",
    "- Original documents\n",
    "- Chunks extracted from the original documents\n",
    "- Transformations of chunks to generate more vectors for improved retrieval\n",
    "\n",
    "The `RAGVectorStore`, in combination with other components, is designed to address this challenge."
   ]
  },
  {
   "cell_type": "markdown",
   "id": "2631007b-61df-4a1d-93d8-e1ae6d85193e",
   "metadata": {},
   "source": [
    "For the sample, we are using the set of documents from Wikipedia.\n",
    "We would like to answer questions related to mathematics."
   ]
  },
  {
   "cell_type": "code",
   "execution_count": 1,
   "outputs": [],
   "source": [
    "!pip install -q --upgrade pip langchain-rag"
   ],
   "metadata": {
    "collapsed": false,
    "ExecuteTime": {
     "end_time": "2023-11-06T09:34:56.634731762Z",
     "start_time": "2023-11-06T09:34:53.616849219Z"
    }
   },
   "id": "771c76125e1ae179"
  },
  {
   "cell_type": "code",
   "execution_count": 2,
   "outputs": [],
   "source": [
    "query = \"What is the difference between pure and applied mathematics?\""
   ],
   "metadata": {
    "collapsed": false,
    "ExecuteTime": {
     "end_time": "2023-11-06T09:34:56.635174961Z",
     "start_time": "2023-11-06T09:34:56.634492395Z"
    }
   },
   "id": "209401ccb84bfa17"
  },
  {
   "cell_type": "code",
   "execution_count": 3,
   "outputs": [],
   "source": [
    "%reload_ext autoreload\n",
    "%autoreload 2\n",
    "\n",
    "from typing import List\n",
    "from typing import Union\n",
    "\n",
    "import tempfile\n",
    "import logging\n",
    "import pathlib\n",
    "\n",
    "nb_documents_to_import = 3  # How many documents should be imported from Wikipedia?\n",
    "top_k = 4  # How many chunks should be selected to answer the question?\n",
    "\n",
    "ROOT_PATH = tempfile._gettempdir() + \"/rag\"\n",
    "\n",
    "pathlib.Path(ROOT_PATH).mkdir(exist_ok=True)"
   ],
   "metadata": {
    "collapsed": false,
    "ExecuteTime": {
     "end_time": "2023-11-06T09:34:56.644474686Z",
     "start_time": "2023-11-06T09:34:56.634879033Z"
    }
   },
   "id": "2fd8e4f1-7c3f-492b-b88f-fb2c9fb82d95"
  },
  {
   "cell_type": "code",
   "execution_count": 4,
   "outputs": [],
   "source": [
    "from langchain.schema import Document\n",
    "\n",
    "# Activate logging and prints\n",
    "logging.getLogger().setLevel(logging.INFO)\n",
    "\n",
    "CALLBACKS=[]\n",
    "def pretty_print_docs(docs: Union[str, List[Document]], metadatas=[], kind: str = \"Variations\"):\n",
    "    def print_metadata(d):\n",
    "        s = \",\\n\".join([f\"{metadata}={repr(d.metadata.get(metadata))}\" for metadata in metadatas])\n",
    "        if s:\n",
    "            return f'\\n\\033[92m{s}\\033[0m'\n",
    "        return \"\"\n",
    "\n",
    "    def print_doc(d, i):\n",
    "        r = f\"\\033[94m{kind} {i + 1}:\\n{d.page_content[:80]}\"\n",
    "        if len(d.page_content) > 80:\n",
    "            r += f\"...[:{max(0, len(d.page_content) - 80)}]\"\n",
    "        r += f'\\033[0m{print_metadata(d)}'\n",
    "        return r\n",
    "\n",
    "    if type(docs) is list:\n",
    "        print(\n",
    "            f\"\\n{'-' * 40}\\n\".join(\n",
    "                [print_doc(d, i)\n",
    "                 for i, d in enumerate(docs)]\n",
    "            )\n",
    "        )\n",
    "    else:\n",
    "        print(f'\\033[92m{docs}\\033[0m')"
   ],
   "metadata": {
    "collapsed": false,
    "ExecuteTime": {
     "end_time": "2023-11-06T09:34:57.097856956Z",
     "start_time": "2023-11-06T09:34:56.645459800Z"
    }
   },
   "id": "505aae5e89ee147e"
  },
  {
   "cell_type": "code",
   "execution_count": 5,
   "outputs": [
    {
     "name": "stdout",
     "output_type": "stream",
     "text": [
      "\u001B[94mDocuments 1:\n",
      "Mathematics is an area of knowledge that includes the topics of numbers, formula...[:9920]\u001B[0m\n",
      "----------------------------------------\n",
      "\u001B[94mDocuments 2:\n",
      "Mathematical Reviews is a journal published by the American Mathematical Society...[:4396]\u001B[0m\n",
      "----------------------------------------\n",
      "\u001B[94mDocuments 3:\n",
      "The history of mathematics deals with the origin of discoveries in mathematics a...[:9920]\u001B[0m\n"
     ]
    }
   ],
   "source": [
    "# Load documents\n",
    "!pip install -q wikipedia lark\n",
    "from langchain.retrievers import WikipediaRetriever\n",
    "\n",
    "documents = WikipediaRetriever(\n",
    "    top_k_results=nb_documents_to_import,\n",
    "    doc_content_chars_max=10000).get_relevant_documents(\"mathematic\")\n",
    "pretty_print_docs(documents, kind=\"Documents\")"
   ],
   "metadata": {
    "collapsed": false,
    "ExecuteTime": {
     "end_time": "2023-11-06T09:35:06.310772210Z",
     "start_time": "2023-11-06T09:34:57.101825918Z"
    }
   },
   "id": "af6a3c4bb3423122"
  },
  {
   "cell_type": "markdown",
   "id": "1642f89f-15f9-4a65-86ad-9c8403393d14",
   "metadata": {},
   "source": [
    "# Select provider\n",
    "## Select the LLM\n",
    "Before starting, we need to:\n",
    "- Set the environment variables\n",
    "- Choose a language model (LLM), determine the context size, and set the maximum number of tokens for generation\n",
    "- Enable all caches"
   ]
  },
  {
   "cell_type": "code",
   "execution_count": 6,
   "id": "fa8340e2-1b4a-4b93-b407-268f8a698496",
   "metadata": {
    "ExecuteTime": {
     "end_time": "2023-11-06T09:35:06.385965233Z",
     "start_time": "2023-11-06T09:35:06.311222595Z"
    }
   },
   "outputs": [],
   "source": [
    "import os\n",
    "from dotenv import load_dotenv\n",
    "\n",
    "load_dotenv(override=True)\n",
    "if \"OPENAI_API_KEY\" not in os.environ:\n",
    "    os.environ[\"OPENAI_API_KEY\"] = \"XXXXX\"\n",
    "if \"COHERE_API_KEY\" not in os.environ:\n",
    "    os.environ[\"COHERE_API_KEY\"] = \"XXXX\""
   ]
  },
  {
   "cell_type": "code",
   "execution_count": 7,
   "id": "ee04f135-a013-47e4-9d18-2fe35896787c",
   "metadata": {
    "ExecuteTime": {
     "end_time": "2023-11-06T09:35:08.951767012Z",
     "start_time": "2023-11-06T09:35:06.347925660Z"
    }
   },
   "outputs": [
    {
     "data": {
      "text/plain": "(4096, 1228, 717)"
     },
     "execution_count": 7,
     "metadata": {},
     "output_type": "execute_result"
    }
   ],
   "source": [
    "!pip install --quiet openai tiktoken lark\n",
    "from langchain.llms import OpenAI\n",
    "\n",
    "context_size = 4096  # For the demonstration use a smal context_size.\n",
    "max_tokens = int(context_size * (30 / 100))  # x% for the response\n",
    "max_input_tokens = (context_size - max_tokens) // top_k  # Need top_k fragment in the prompt\n",
    "llm = OpenAI(\n",
    "    model=\"gpt-3.5-turbo-instruct\",\n",
    "    temperature=0.2,\n",
    "    max_tokens=max_tokens,\n",
    ")\n",
    "context_size, max_tokens, max_input_tokens"
   ]
  },
  {
   "cell_type": "code",
   "execution_count": 8,
   "outputs": [],
   "source": [
    "# Add a cache\n",
    "from langchain.cache import SQLiteCache\n",
    "import langchain\n",
    "\n",
    "LANCHAIN_CACHE_PATH = ROOT_PATH + \"/cache_llm\"\n",
    "langchain.llm_cache = SQLiteCache(database_path=LANCHAIN_CACHE_PATH)\n"
   ],
   "metadata": {
    "collapsed": false,
    "ExecuteTime": {
     "end_time": "2023-11-06T09:35:09.065150989Z",
     "start_time": "2023-11-06T09:35:08.950060946Z"
    }
   },
   "id": "3e12bd3f44158a74"
  },
  {
   "cell_type": "markdown",
   "id": "9cd2a2d9-de21-4336-9711-413f1e9c83b4",
   "metadata": {},
   "source": [
    "## Select the embedding implementation"
   ]
  },
  {
   "cell_type": "code",
   "execution_count": 9,
   "id": "1e3ce9c7-fafc-493e-b5b4-93f64f81a8ea",
   "metadata": {
    "ExecuteTime": {
     "end_time": "2023-11-06T09:35:09.186162614Z",
     "start_time": "2023-11-06T09:35:09.021427501Z"
    }
   },
   "outputs": [],
   "source": [
    "from langchain.embeddings import OpenAIEmbeddings\n",
    "\n",
    "embeddings = OpenAIEmbeddings()"
   ]
  },
  {
   "cell_type": "code",
   "execution_count": 10,
   "id": "54cc5d45-573b-4540-8738-16115818a9d7",
   "metadata": {
    "ExecuteTime": {
     "end_time": "2023-11-06T09:35:09.250705644Z",
     "start_time": "2023-11-06T09:35:09.177219853Z"
    }
   },
   "outputs": [],
   "source": [
    "# Add a cache\n",
    "CACHE_EMBEDDING_PATH = ROOT_PATH + \"/cache_embedding\"\n",
    "from langchain.storage import LocalFileStore\n",
    "\n",
    "fs = LocalFileStore(CACHE_EMBEDDING_PATH)\n",
    "\n",
    "from langchain.embeddings import CacheBackedEmbeddings\n",
    "\n",
    "embeddings = CacheBackedEmbeddings.from_bytes_store(\n",
    "    embeddings, fs, namespace=embeddings.model if hasattr(embeddings, \"model\") else \"unknown\"\n",
    ")"
   ]
  },
  {
   "cell_type": "markdown",
   "id": "e20ff47d-933e-47be-9849-bccc78cf9309",
   "metadata": {},
   "source": [
    "# Transform documents\n",
    "The idea is to transform a document into multiple versions and calculate a vector for each one."
   ]
  },
  {
   "cell_type": "code",
   "execution_count": 11,
   "id": "97b6e300-50f4-41ae-a524-05030c2c865c",
   "metadata": {
    "ExecuteTime": {
     "end_time": "2023-11-06T09:35:09.264990823Z",
     "start_time": "2023-11-06T09:35:09.202983970Z"
    }
   },
   "outputs": [],
   "source": [
    "from langchain.text_splitter import *\n",
    "from langchain_rag.document_transformers import *"
   ]
  },
  {
   "cell_type": "markdown",
   "id": "99e513cf-6ac8-4121-81b9-b961afd52d6f",
   "metadata": {},
   "source": [
    "The first step is to split the document to ensure compatibility with the `max_input_tokens`. This could be a transformation pipeline, for an initial markdown split, followed by a size split for example."
   ]
  },
  {
   "cell_type": "code",
   "execution_count": 12,
   "id": "4f7a03e9-993c-4208-bfc2-b27199214fa9",
   "metadata": {
    "ExecuteTime": {
     "end_time": "2023-11-06T09:35:09.654253762Z",
     "start_time": "2023-11-06T09:35:09.235122480Z"
    }
   },
   "outputs": [],
   "source": [
    "parent_transformer = TokenTextSplitter(\n",
    "    chunk_size=max_input_tokens,\n",
    "    chunk_overlap=0\n",
    ")"
   ]
  },
  {
   "cell_type": "markdown",
   "id": "a640d55a-a466-4de1-abfe-4d5c1d2d76a3",
   "metadata": {},
   "source": [
    "Let's test the transformation."
   ]
  },
  {
   "cell_type": "code",
   "execution_count": 13,
   "id": "dbb10dc0-6cf2-4e14-b55c-bb846ba97515",
   "metadata": {
    "ExecuteTime": {
     "end_time": "2023-11-06T09:35:09.738540633Z",
     "start_time": "2023-11-06T09:35:09.645680483Z"
    }
   },
   "outputs": [
    {
     "data": {
      "text/plain": "'before:3 documents, after:9 chunks'"
     },
     "execution_count": 13,
     "metadata": {},
     "output_type": "execute_result"
    }
   ],
   "source": [
    "chunk_documents = parent_transformer.transform_documents(documents)\n",
    "f\"before:{len(documents)} documents, after:{len(chunk_documents)} chunks\""
   ]
  },
  {
   "cell_type": "markdown",
   "source": [
    "We need multiple variations for each chunk."
   ],
   "metadata": {
    "collapsed": false
   },
   "id": "79651e78d2831fcc"
  },
  {
   "cell_type": "code",
   "execution_count": 14,
   "id": "09aa4959-1325-43cd-a22e-0f7c983c8be5",
   "metadata": {
    "ExecuteTime": {
     "end_time": "2023-11-06T09:35:09.776611317Z",
     "start_time": "2023-11-06T09:35:09.682368684Z"
    }
   },
   "outputs": [],
   "source": [
    "chunk_transformer = DocumentTransformers(\n",
    "    transformers=[\n",
    "        GenerateQuestionsTransformer.from_llm(llm),\n",
    "        SummarizeTransformer.from_llm(llm),\n",
    "        CopyDocumentTransformer(),\n",
    "    ]\n",
    ")"
   ]
  },
  {
   "cell_type": "markdown",
   "id": "a74358ce-b013-4729-a71b-ee4c82f0d51f",
   "metadata": {},
   "source": [
    "> **Note:** that we require all transformations for each chunk, including the original chunk. This is why we include the `CopyDocumentTransformer()`.\n",
    "\n",
    "Now, let's test the transformation."
   ]
  },
  {
   "cell_type": "code",
   "execution_count": 15,
   "outputs": [
    {
     "name": "stdout",
     "output_type": "stream",
     "text": [
      "\u001B[94mVariations 1:\n",
      "What are the major subdisciplines of modern mathematics?\u001B[0m\n",
      "----------------------------------------\n",
      "\u001B[94mVariations 2:\n",
      "How are abstract objects used in mathematical proofs?\u001B[0m\n",
      "----------------------------------------\n",
      "\u001B[94mVariations 3:\n",
      "What is the origin and meaning of the word \"mathematics\"?\u001B[0m\n",
      "----------------------------------------\n",
      "\u001B[94mVariations 4:\n",
      "SUMMARY:\n",
      "Mathematics is a broad field that encompasses the study of numbers, for...[:527]\u001B[0m\n",
      "----------------------------------------\n",
      "\u001B[94mVariations 5:\n",
      "Mathematics is an area of knowledge that includes the topics of numbers, formula...[:3351]\u001B[0m\n"
     ]
    }
   ],
   "source": [
    "variations_of_chunks = chunk_transformer.transform_documents(chunk_documents[:1])\n",
    "# Select the variations for the first chunk\n",
    "pretty_print_docs(variations_of_chunks)"
   ],
   "metadata": {
    "collapsed": false,
    "ExecuteTime": {
     "end_time": "2023-11-06T09:35:12.710761179Z",
     "start_time": "2023-11-06T09:35:09.706236772Z"
    }
   },
   "id": "63cf0377ba48d2ad"
  },
  {
   "cell_type": "markdown",
   "source": [
    "![Tree of variations](plantuml/variations.png)"
   ],
   "metadata": {
    "collapsed": false
   },
   "id": "ff6c2f4a8b3c8248"
  },
  {
   "cell_type": "markdown",
   "id": "9a594c2a-1ddc-4eb7-a7ba-922923fe5dae",
   "metadata": {},
   "source": [
    "# Saving all Variations in a Vector Store\n",
    "Now, our goal is to store the chunks and their respective variations in a vector store. During retrieval, the process begins by fetching the smaller chunks but then involves looking up the parent IDs for those chunks and returning the original chunk.\n",
    "\n",
    "A specialized vector store is designed for this purpose: the `RAGVectorStore`.\n",
    "It's not a standalone vector store but rather a wrapper for another vector store. When you add a document, the document undergoes transformation with the `parent_transformer`, and each chunk is enriched with various versions through the `chunk_transformer`."
   ]
  },
  {
   "cell_type": "markdown",
   "source": [
    "## Build step by step\n",
    "First, we need to create some persistent components:\n",
    "- A standard vector store\n",
    "- A `Docstore` to store each original chunk returned by the *retriever* and the relationship between the document and chunks."
   ],
   "metadata": {
    "collapsed": false
   },
   "id": "4d873d0e0c5f64d9"
  },
  {
   "cell_type": "code",
   "execution_count": 16,
   "id": "dc155113-dd16-4c73-a13c-80d428bd7923",
   "metadata": {
    "ExecuteTime": {
     "end_time": "2023-11-06T09:35:13.434142873Z",
     "start_time": "2023-11-06T09:35:12.709529285Z"
    }
   },
   "outputs": [],
   "source": [
    "from langchain.vectorstores import Chroma\n",
    "\n",
    "VS_PATH = ROOT_PATH + \"/vs\"\n",
    "chroma_vectorstore = Chroma(\n",
    "    collection_name=\"all_variations_of_chunks\",\n",
    "    embedding_function=embeddings,\n",
    "    persist_directory=VS_PATH,\n",
    "\n",
    ")"
   ]
  },
  {
   "cell_type": "code",
   "execution_count": 17,
   "id": "2d189e7e-3e59-43f0-9a8c-92fd7844c393",
   "metadata": {
    "ExecuteTime": {
     "end_time": "2023-11-06T09:35:13.487488896Z",
     "start_time": "2023-11-06T09:35:13.438152688Z"
    }
   },
   "outputs": [],
   "source": [
    "DOCSTORE_PATH = ROOT_PATH + \"/chunks\"\n",
    "from langchain.storage import EncoderBackedStore\n",
    "from langchain.storage import LocalFileStore\n",
    "import pickle\n",
    "\n",
    "docstore = EncoderBackedStore[str, Document](\n",
    "    store=LocalFileStore(root_path=DOCSTORE_PATH),\n",
    "    key_encoder=lambda x: x,\n",
    "    value_serializer=pickle.dumps,\n",
    "    value_deserializer=pickle.loads\n",
    ")"
   ]
  },
  {
   "cell_type": "markdown",
   "id": "266663f2-bb6a-46dd-84cc-0ec67a5bf24e",
   "metadata": {},
   "source": [
    "All documents must have a unique ID in their metadata. \n",
    "Then, it's possible to use the advanced `RAGVectorStore`. \n",
    "It's a wrapper around a standard vector store, specialized for managing different transformations and the lifecycle of documents."
   ]
  },
  {
   "cell_type": "code",
   "execution_count": 18,
   "id": "a4fafbad-c577-40ae-8543-a145d9ca7f89",
   "metadata": {
    "ExecuteTime": {
     "end_time": "2023-11-06T09:35:13.543589962Z",
     "start_time": "2023-11-06T09:35:13.466340060Z"
    }
   },
   "outputs": [],
   "source": [
    "from langchain_rag.vectorstores import RAGVectorStore\n",
    "\n",
    "variation_k = 10\n",
    "rag_vectorstore = RAGVectorStore(\n",
    "    vectorstore=chroma_vectorstore,\n",
    "    docstore=docstore,\n",
    "    source_id_key=\"source\",  # Uniq id of documents\n",
    "    parent_transformer=parent_transformer,\n",
    "    chunk_transformer=chunk_transformer,\n",
    "    search_kwargs={\"k\": variation_k}\n",
    ")"
   ]
  },
  {
   "cell_type": "markdown",
   "id": "2039782f-9f63-4885-be09-ba9f7555b2cb",
   "metadata": {},
   "source": [
    "Now, it's time to add documents to this *special* vector store.\n",
    "- If the `parent_transformer` is set, the document is transformed into a new list of chunk documents (generally, this is a split phase).\n",
    "- Then, if the `chunk_transformer` is set, each chunk document is transformed to generate some variations.\n",
    "- Each transformation of all chunks is added to the destination vector store (in this case, it's referred to as \"chroma\").\n",
    "- All chunks are saved in the `Docstore` with the list of all associated variations.\n",
    "- All IDs of chunks generated for each document are saved in the `Docstore`. This makes it possible to remove the document and all associated chunks when needed.\n",
    "- `variation_k` variations is returned in the delegate vectorstore"
   ]
  },
  {
   "cell_type": "code",
   "execution_count": 19,
   "id": "ecd8eba9-36aa-4ed6-b32d-a7eef48289a5",
   "metadata": {
    "ExecuteTime": {
     "end_time": "2023-11-06T09:35:44.259690808Z",
     "start_time": "2023-11-06T09:35:13.501623131Z"
    }
   },
   "outputs": [
    {
     "data": {
      "text/plain": "['6d90af33d816d1b2c2a2e9d277e72862ff076c265da2756ece7d15a517070f5f',\n '59dd02283f9dcfdbb7cf7f1ae11dcbe986a8e2621aa92c5dbf31be9bc1b07d3b',\n '492c728729e2274e2af6984dbc84d61d52f4799b7215fe175ad2b4c483a95449']"
     },
     "execution_count": 19,
     "metadata": {},
     "output_type": "execute_result"
    }
   ],
   "source": [
    "ids = rag_vectorstore.add_documents(documents)\n",
    "chroma_vectorstore.persist()\n",
    "ids"
   ]
  },
  {
   "cell_type": "markdown",
   "source": [
    "While conducting the search, an embedding is computed for the query and subsequently compared to the embeddings of all the transformed chunks. The metadata for each transformed chunk contains a reference to the ID of the original chunk, allowing for the retrieval of the respective chunk."
   ],
   "metadata": {
    "collapsed": false
   },
   "id": "805a0119fbd62cda"
  },
  {
   "cell_type": "markdown",
   "id": "a5c5c65eac9a6017",
   "metadata": {
    "collapsed": false
   },
   "source": [
    "The IDs returned by `add_documents()` consist of a list of `document IDs`. You can utilize these IDs to remove all related chunks and variations.\n",
    "\n",
    "When you examine the langchain API, you may wonder where to store the document IDs from the vector store."
   ]
  },
  {
   "cell_type": "code",
   "execution_count": 20,
   "outputs": [
    {
     "name": "stdout",
     "output_type": "stream",
     "text": [
      "\u001B[94mVariations 1:\n",
      "Mathematics is an area of knowledge that includes the topics of numbers, formula...[:3351]\u001B[0m\n",
      "\u001B[92msource='https://en.wikipedia.org/wiki/Mathematics',\n",
      "_chunk_id='335c086e-0ce6-4c60-ab5c-12ac86445201'\u001B[0m\n",
      "----------------------------------------\n",
      "\u001B[94mVariations 2:\n",
      " sense. The Pythagoreans were likely the first to constrain the use of the word ...[:3182]\u001B[0m\n",
      "\u001B[92msource='https://en.wikipedia.org/wiki/Mathematics',\n",
      "_chunk_id='b5b63c28-86d7-44bc-ae08-448bb0f2099f'\u001B[0m\n",
      "----------------------------------------\n",
      "\u001B[94mVariations 3:\n",
      "The history of mathematics deals with the origin of discoveries in mathematics a...[:3543]\u001B[0m\n",
      "\u001B[92msource='https://en.wikipedia.org/wiki/History_of_mathematics',\n",
      "_chunk_id='e6df4c94-0274-47cc-9817-b6ea8b715144'\u001B[0m\n"
     ]
    }
   ],
   "source": [
    "pretty_print_docs(rag_vectorstore.search(query=query, search_type=\"similarity\"), [\"source\", \"_chunk_id\"])"
   ],
   "metadata": {
    "collapsed": false,
    "ExecuteTime": {
     "end_time": "2023-11-06T09:35:44.567038180Z",
     "start_time": "2023-11-06T09:35:44.226501197Z"
    }
   },
   "id": "a15b4c8ac0660246"
  },
  {
   "cell_type": "code",
   "execution_count": 21,
   "outputs": [],
   "source": [
    "rag_vectorstore.delete(ids=ids)\n",
    "chroma_vectorstore.persist()"
   ],
   "metadata": {
    "collapsed": false,
    "ExecuteTime": {
     "end_time": "2023-11-06T09:35:44.643710751Z",
     "start_time": "2023-11-06T09:35:44.559596562Z"
    }
   },
   "id": "f23ad52eae299824"
  },
  {
   "cell_type": "markdown",
   "id": "96ba9eb40d3768f7",
   "metadata": {
    "collapsed": false
   },
   "source": [
    "# Index Vector Store\n",
    "To manage the lifecycle of the documents in the vector store, you can utilize an `index()`.\n",
    "A `RecordManager` can keep track of the evolution of each document. Use `index()` to import the documents."
   ]
  },
  {
   "cell_type": "code",
   "execution_count": 22,
   "id": "6d3ea4486d47ea54",
   "metadata": {
    "collapsed": false,
    "ExecuteTime": {
     "end_time": "2023-11-06T09:35:44.738328850Z",
     "start_time": "2023-11-06T09:35:44.616050971Z"
    }
   },
   "outputs": [],
   "source": [
    "from langchain.indexes import index, SQLRecordManager\n",
    "\n",
    "record_manager = SQLRecordManager(\n",
    "    namespace=\"record_manager_cache\",\n",
    "    db_url=f\"sqlite:///{ROOT_PATH}/record_manager.db\"\n",
    ")\n",
    "record_manager.create_schema()"
   ]
  },
  {
   "cell_type": "code",
   "execution_count": 23,
   "id": "29511638aa0cf089",
   "metadata": {
    "collapsed": false,
    "ExecuteTime": {
     "end_time": "2023-11-06T09:35:44.950650968Z",
     "start_time": "2023-11-06T09:35:44.694453421Z"
    }
   },
   "outputs": [],
   "source": [
    "# Save all the information in:\n",
    "# - record manager\n",
    "# - docstore\n",
    "# - vectorstore\n",
    "index_kwargs = {\n",
    "    \"record_manager\": record_manager,\n",
    "    \"vector_store\": rag_vectorstore,\n",
    "    \"source_id_key\": \"source\"\n",
    "}\n",
    "index(\n",
    "    docs_source=documents,\n",
    "    cleanup=\"incremental\",\n",
    "    **index_kwargs\n",
    ")\n",
    "chroma_vectorstore.persist()"
   ]
  },
  {
   "cell_type": "markdown",
   "source": [
    "## Alternative factory\n",
    "To simplify the creation of the persistance ecosystem, you can use the `from_vs_in_memory` method for in-memory usage only, and `from_vs_in_sql` for usage with SQL."
   ],
   "metadata": {
    "collapsed": false
   },
   "id": "be721fb41e1d9103"
  },
  {
   "cell_type": "markdown",
   "source": [
    "```python\n",
    "rag_vectorstore, index_kwargs = RAGVectorStore.from_vs_in_memory(\n",
    "    vectorstore=chroma_vectorstore,\n",
    "    parent_transformer=parent_transformer,\n",
    "    chunk_transformer=chunk_transformer,\n",
    "    source_id_key=\"source\",\n",
    ")\n",
    "index(\n",
    "    docs_source=documents,\n",
    "    cleanup=\"incremental\",\n",
    "    **index_kwargs\n",
    ")\n",
    "``"
   ],
   "metadata": {
    "collapsed": false
   },
   "id": "e98aaaa84ea1149c"
  },
  {
   "cell_type": "markdown",
   "source": [
    "```python\n",
    "rag_vectorstore, index_kwargs = RAGVectorStore.from_vs_in_sql(\n",
    "    vectorstore=chroma_vectorstore,\n",
    "    parent_transformer=parent_transformer,\n",
    "    chunk_transformer=chunk_transformer,\n",
    "    source_id_key=\"source\",\n",
    "    db_url=f\"sqlite:///{ROOT_PATH}/record_manager.db\",\n",
    ")\n",
    "index(\n",
    "    docs_source=documents,\n",
    "    cleanup=\"incremental\",\n",
    "    **index_kwargs\n",
    ")\n",
    "```"
   ],
   "metadata": {
    "collapsed": false
   },
   "id": "3a84d627e4f9eb33"
  },
  {
   "cell_type": "markdown",
   "source": [
    "If you import the same documents, you will notice that all documents are skipped. Without using `index()`, in a classical vector store, the same document will be present twice. This has the same effect as dividing the `top_k` by two during the search!"
   ],
   "metadata": {
    "collapsed": false
   },
   "id": "d95ff9c58b897997"
  },
  {
   "cell_type": "code",
   "execution_count": 24,
   "outputs": [],
   "source": [
    "index(\n",
    "    docs_source=documents,\n",
    "    cleanup=\"incremental\",\n",
    "    **index_kwargs\n",
    ")\n",
    "chroma_vectorstore.persist()"
   ],
   "metadata": {
    "collapsed": false,
    "ExecuteTime": {
     "end_time": "2023-11-06T09:35:45.010124095Z",
     "start_time": "2023-11-06T09:35:44.937141212Z"
    }
   },
   "id": "ea7c3fdc0ec4c5fd"
  },
  {
   "cell_type": "markdown",
   "source": [
    "If your document is changed, the previous version is deleted.\n",
    "> **Note:** Only the updated document is transformed ! So you save on treatments."
   ],
   "metadata": {
    "collapsed": false
   },
   "id": "e4926718dd8c6b87"
  },
  {
   "cell_type": "code",
   "execution_count": 25,
   "outputs": [],
   "source": [
    "documents[0].page_content += \" Is changed.\"\n",
    "index(\n",
    "    docs_source=documents,\n",
    "    cleanup=\"incremental\",\n",
    "    **index_kwargs\n",
    ")\n",
    "chroma_vectorstore.persist()"
   ],
   "metadata": {
    "collapsed": false,
    "ExecuteTime": {
     "end_time": "2023-11-06T09:35:47.910309680Z",
     "start_time": "2023-11-06T09:35:44.984713665Z"
    }
   },
   "id": "892dd66e8de8dc70"
  },
  {
   "cell_type": "markdown",
   "source": [
    "To delete the old records, use the `full` strategy."
   ],
   "metadata": {
    "collapsed": false
   },
   "id": "348aa8c04f101a3b"
  },
  {
   "cell_type": "code",
   "execution_count": 26,
   "outputs": [],
   "source": [
    "del documents[-1]\n",
    "index(\n",
    "    docs_source=documents,\n",
    "    cleanup=\"full\",\n",
    "    **index_kwargs\n",
    ")\n",
    "chroma_vectorstore.persist()"
   ],
   "metadata": {
    "collapsed": false,
    "ExecuteTime": {
     "end_time": "2023-11-06T09:35:47.965597087Z",
     "start_time": "2023-11-06T09:35:47.892882797Z"
    }
   },
   "id": "849c68d044cfeef5"
  },
  {
   "cell_type": "markdown",
   "id": "53ec51edafcdd6d2",
   "metadata": {
    "collapsed": false
   },
   "source": [
    "It's important to note that there are three ways to save parts of the data:\n",
    "\n",
    "- In the *vector store*: this includes the bucket, metadata, and the associated embedding vectors.\n",
    "- In the *doc store*: this covers the original bucket and the relationship between parent and chunks before the *chunk transformations*.\n",
    "- In the *SQLRecordManager*: this involves the references of the parent document or chunks.\n",
    "\n",
    "> **Note:** Each source does not manage transactions. If a problem occurs while adding a document, it is highly likely that the sources will be inconsistent."
   ]
  },
  {
   "cell_type": "markdown",
   "id": "2981b01e756e9096",
   "metadata": {
    "collapsed": false
   },
   "source": [
    "# Use advanced retrievers\n",
    "Just like with the standard vector store, you can convert the `RAGVectorStore` into a `Retriever`."
   ]
  },
  {
   "cell_type": "code",
   "execution_count": 27,
   "id": "ec70b4b3dcc80eb8",
   "metadata": {
    "collapsed": false,
    "ExecuteTime": {
     "end_time": "2023-11-06T09:35:48.391613160Z",
     "start_time": "2023-11-06T09:35:47.951666742Z"
    }
   },
   "outputs": [
    {
     "name": "stdout",
     "output_type": "stream",
     "text": [
      "\u001B[94mVariations 1:\n",
      "Mathematics is an area of knowledge that includes the topics of numbers, formula...[:3351]\u001B[0m\n",
      "\u001B[92msource='https://en.wikipedia.org/wiki/Mathematics',\n",
      "_chunk_id='45bd709f-9845-4532-a45b-0575609a9fd7'\u001B[0m\n",
      "----------------------------------------\n",
      "\u001B[94mVariations 2:\n",
      " sense. The Pythagoreans were likely the first to constrain the use of the word ...[:3182]\u001B[0m\n",
      "\u001B[92msource='https://en.wikipedia.org/wiki/Mathematics',\n",
      "_chunk_id='6d0dc809-3301-46a1-872e-b961d4d5d7e0'\u001B[0m\n",
      "----------------------------------------\n",
      "\u001B[94mVariations 3:\n",
      " \n",
      "    \n",
      "    {\\displaystyle (\\mathbb {N} ),}\n",
      "   and later expanded to integers \n",
      "  ...[:2733]\u001B[0m\n",
      "\u001B[92msource='https://en.wikipedia.org/wiki/Mathematics',\n",
      "_chunk_id='d1328434-05fa-43ef-bca4-12639618f83b'\u001B[0m\n",
      "----------------------------------------\n",
      "\u001B[94mVariations 4:\n",
      "Mathematical Reviews is a journal published by the American Mathematical Society...[:3354]\u001B[0m\n",
      "\u001B[92msource='https://en.wikipedia.org/wiki/Mathematical_Reviews',\n",
      "_chunk_id='58ef25c4-dac1-4ba4-adb9-165f3cee6547'\u001B[0m\n"
     ]
    }
   ],
   "source": [
    "rag_retriever = rag_vectorstore.as_retriever()\n",
    "selected_chunks = rag_retriever.get_relevant_documents(query)\n",
    "pretty_print_docs(selected_chunks,[\"source\", \"_chunk_id\"])"
   ]
  },
  {
   "cell_type": "markdown",
   "id": "4d79dba17a046faa",
   "metadata": {
    "collapsed": false
   },
   "source": [
    "### Specialized Retrievers\n",
    "It's possible to combine multiple retrievers or use specialized retrievers for advanced applications."
   ]
  },
  {
   "cell_type": "markdown",
   "source": [
    "The `SelfQueryRetriever` can generate a metadata filter. We use it to provide the option to filter the chunks by the title of the original document."
   ],
   "metadata": {
    "collapsed": false
   },
   "id": "da5f219067ca4a98"
  },
  {
   "cell_type": "code",
   "execution_count": 28,
   "outputs": [
    {
     "name": "stdout",
     "output_type": "stream",
     "text": []
    }
   ],
   "source": [
    "from langchain.chains.query_constructor.schema import AttributeInfo\n",
    "from langchain.retrievers.self_query.base import SelfQueryRetriever\n",
    "\n",
    "metadata_field_info = [\n",
    "    AttributeInfo(\n",
    "        name=\"title\",\n",
    "        description=\"The title of the document.\",\n",
    "        type=\"string\",\n",
    "    ),\n",
    "]\n",
    "document_content_description = \"Documents on mathematics\"\n",
    "self_retriever = SelfQueryRetriever.from_llm(\n",
    "    llm,\n",
    "    rag_vectorstore,\n",
    "    document_content_description,\n",
    "    metadata_field_info,\n",
    "    use_original_query=True,\n",
    "    verbose=True)\n",
    "\n",
    "pretty_print_docs(self_retriever.get_relevant_documents(\"In the document 'History of mathematics', \" + query),\n",
    "                  [\"title\"],kind=\"Chunk\")"
   ],
   "metadata": {
    "collapsed": false,
    "ExecuteTime": {
     "end_time": "2023-11-06T09:35:49.948815935Z",
     "start_time": "2023-11-06T09:35:48.390281940Z"
    }
   },
   "id": "d3b8ab4707aef773"
  },
  {
   "cell_type": "markdown",
   "source": [
    "> **Note:** We set `use_original_query` because, otherwise, the question can be modified if there is no filter on the metadata to be applied. Which is irrelevant.\n",
    "\n",
    "It's possible to use it with the variations, but you must directly use the `chroma_vectorstore`."
   ],
   "metadata": {
    "collapsed": false
   },
   "id": "715f98bdc3a46341"
  },
  {
   "cell_type": "code",
   "execution_count": 29,
   "outputs": [
    {
     "name": "stdout",
     "output_type": "stream",
     "text": [
      "\u001B[94mVariations 1:\n",
      "SUMMARY:\n",
      "The term \"mathematics\" has evolved over time, with its meaning changing...[:280]\u001B[0m\n",
      "\u001B[92mtransformer='SummarizeTransformer',\n",
      "title='Mathematics'\u001B[0m\n",
      "----------------------------------------\n",
      "\u001B[94mVariations 2:\n",
      "SUMMARY:\n",
      "Number theory is a branch of mathematics that studies the properties of...[:726]\u001B[0m\n",
      "\u001B[92mtransformer='SummarizeTransformer',\n",
      "title='Mathematics'\u001B[0m\n",
      "----------------------------------------\n",
      "\u001B[94mVariations 3:\n",
      "SUMMARY:\n",
      "Mathematics is a broad field that encompasses the study of numbers, for...[:527]\u001B[0m\n",
      "\u001B[92mtransformer='SummarizeTransformer',\n",
      "title='Mathematics'\u001B[0m\n",
      "----------------------------------------\n",
      "\u001B[94mVariations 4:\n",
      "SUMMARY:\n",
      "The introduction of Cartesian coordinates by René Descartes in the 17th...[:308]\u001B[0m\n",
      "\u001B[92mtransformer='SummarizeTransformer',\n",
      "title='Mathematics'\u001B[0m\n"
     ]
    }
   ],
   "source": [
    "from langchain.chains.query_constructor.schema import AttributeInfo\n",
    "from langchain.retrievers.self_query.base import SelfQueryRetriever\n",
    "\n",
    "metadata_field_info = [\n",
    "    AttributeInfo(\n",
    "        name=\"title\",\n",
    "        description=\"The title of the document.\",\n",
    "        type=\"string\",\n",
    "    ),\n",
    "    AttributeInfo(\n",
    "        name=\"transformer\",\n",
    "        description=\"The transformations of the documents. \"\n",
    "                    \"Must be GenerateQuestionsTransformer or SummarizeTransformer.\",\n",
    "        type=\"string\",\n",
    "    ),\n",
    "]\n",
    "document_content_description = \"documents on mathematics\"\n",
    "chroma_retriever = SelfQueryRetriever.from_llm(\n",
    "    llm,\n",
    "    chroma_vectorstore,  # In this case, use the chroma vectorstore, to retrieve the variations\n",
    "    document_content_description,\n",
    "    metadata_field_info,\n",
    "    use_original_query=True,\n",
    "    verbose=True)\n",
    "\n",
    "pretty_print_docs(chroma_retriever.get_relevant_documents(\"Sumarize of 'History of mathematic\"),\n",
    "                  [\"transformer\", \"title\"])"
   ],
   "metadata": {
    "collapsed": false,
    "ExecuteTime": {
     "end_time": "2023-11-06T09:35:51.096622760Z",
     "start_time": "2023-11-06T09:35:49.948559508Z"
    }
   },
   "id": "bb37cd27f4cf4b92"
  },
  {
   "cell_type": "markdown",
   "source": [
    "With filter, we can obtain a retriever specialized in summaries."
   ],
   "metadata": {
    "collapsed": false
   },
   "id": "161e243eadf938e2"
  },
  {
   "cell_type": "code",
   "execution_count": 30,
   "outputs": [
    {
     "name": "stdout",
     "output_type": "stream",
     "text": [
      "\u001B[94mVariations 1:\n",
      "SUMMARY:\n",
      "Mathematics is a broad field that encompasses the study of numbers, for...[:527]\u001B[0m\n",
      "\u001B[92mtransformer='SummarizeTransformer'\u001B[0m\n",
      "----------------------------------------\n",
      "\u001B[94mVariations 2:\n",
      "SUMMARY:\n",
      "The term \"mathematics\" has evolved over time, with its meaning changing...[:280]\u001B[0m\n",
      "\u001B[92mtransformer='SummarizeTransformer'\u001B[0m\n",
      "----------------------------------------\n",
      "\u001B[94mVariations 3:\n",
      "SUMMARY:\n",
      "Number theory is a branch of mathematics that studies the properties of...[:726]\u001B[0m\n",
      "\u001B[92mtransformer='SummarizeTransformer'\u001B[0m\n",
      "----------------------------------------\n",
      "\u001B[94mVariations 4:\n",
      "SUMMARY:\n",
      "The introduction of Cartesian coordinates by René Descartes in the 17th...[:308]\u001B[0m\n",
      "\u001B[92mtransformer='SummarizeTransformer'\u001B[0m\n"
     ]
    }
   ],
   "source": [
    "summary_retriever = chroma_vectorstore.as_retriever(\n",
    "    search_kwargs={\"filter\": {\"transformer\": {\"$eq\": \"SummarizeTransformer\"}}})\n",
    "pretty_print_docs(summary_retriever.get_relevant_documents(query), [\"transformer\"])"
   ],
   "metadata": {
    "collapsed": false,
    "ExecuteTime": {
     "end_time": "2023-11-06T09:35:51.360777362Z",
     "start_time": "2023-11-06T09:35:51.097367712Z"
    }
   },
   "id": "29aca35b60b7c847"
  },
  {
   "cell_type": "markdown",
   "source": [
    "Just for the demo, we will combine it with the chunk retriever."
   ],
   "metadata": {
    "collapsed": false
   },
   "id": "30c261a17c2a969d"
  },
  {
   "cell_type": "code",
   "execution_count": 31,
   "outputs": [
    {
     "name": "stdout",
     "output_type": "stream",
     "text": [
      "\u001B[94mChunk 1:\n",
      "Mathematics is an area of knowledge that includes the topics of numbers, formula...[:3351]\u001B[0m\n",
      "\u001B[92mtransformer=None\u001B[0m\n",
      "----------------------------------------\n",
      "\u001B[94mChunk 2:\n",
      "SUMMARY:\n",
      "Mathematics is a broad field that encompasses the study of numbers, for...[:527]\u001B[0m\n",
      "\u001B[92mtransformer='SummarizeTransformer'\u001B[0m\n",
      "----------------------------------------\n",
      "\u001B[94mChunk 3:\n",
      " sense. The Pythagoreans were likely the first to constrain the use of the word ...[:3182]\u001B[0m\n",
      "\u001B[92mtransformer=None\u001B[0m\n",
      "----------------------------------------\n",
      "\u001B[94mChunk 4:\n",
      "SUMMARY:\n",
      "The term \"mathematics\" has evolved over time, with its meaning changing...[:280]\u001B[0m\n",
      "\u001B[92mtransformer='SummarizeTransformer'\u001B[0m\n",
      "----------------------------------------\n",
      "\u001B[94mChunk 5:\n",
      " \n",
      "    \n",
      "    {\\displaystyle (\\mathbb {N} ),}\n",
      "   and later expanded to integers \n",
      "  ...[:2733]\u001B[0m\n",
      "\u001B[92mtransformer=None\u001B[0m\n",
      "----------------------------------------\n",
      "\u001B[94mChunk 6:\n",
      "SUMMARY:\n",
      "Number theory is a branch of mathematics that studies the properties of...[:726]\u001B[0m\n",
      "\u001B[92mtransformer='SummarizeTransformer'\u001B[0m\n",
      "----------------------------------------\n",
      "\u001B[94mChunk 7:\n",
      "Mathematical Reviews is a journal published by the American Mathematical Society...[:3354]\u001B[0m\n",
      "\u001B[92mtransformer=None\u001B[0m\n",
      "----------------------------------------\n",
      "\u001B[94mChunk 8:\n",
      "SUMMARY:\n",
      "The introduction of Cartesian coordinates by René Descartes in the 17th...[:308]\u001B[0m\n",
      "\u001B[92mtransformer='SummarizeTransformer'\u001B[0m\n"
     ]
    }
   ],
   "source": [
    "from langchain.retrievers.merger_retriever import MergerRetriever\n",
    "\n",
    "merge_retriever = MergerRetriever(retrievers=[self_retriever, summary_retriever])\n",
    "pretty_print_docs(merge_retriever.get_relevant_documents(query), [\"transformer\"],kind=\"Chunk\")"
   ],
   "metadata": {
    "collapsed": false,
    "ExecuteTime": {
     "end_time": "2023-11-06T09:35:52.913643533Z",
     "start_time": "2023-11-06T09:35:51.364044330Z"
    }
   },
   "id": "5bdf6111bcbfc6c2"
  },
  {
   "cell_type": "markdown",
   "source": [
    "Retrieval results may vary with minor changes in query phrasing or if the embeddings do not accurately capture the data's semantics. The `MultiQueryRetriever` streamlines the prompt-tuning process by employing an LLM to generate multiple queries from diverse perspectives based on a user input query. For each query, it retrieves a collection of pertinent documents and combines the unique results from all queries to obtain a larger set of potentially relevant documents."
   ],
   "metadata": {
    "collapsed": false
   },
   "id": "5577ae97cec80e50"
  },
  {
   "cell_type": "code",
   "execution_count": 32,
   "outputs": [
    {
     "name": "stdout",
     "output_type": "stream",
     "text": [
      "\u001B[94mVariations 1:\n",
      "Mathematics is an area of knowledge that includes the topics of numbers, formula...[:3351]\u001B[0m\n",
      "\u001B[92mtransformer=None\u001B[0m\n",
      "----------------------------------------\n",
      "\u001B[94mVariations 2:\n",
      "SUMMARY:\n",
      "Mathematics is a broad field that encompasses the study of numbers, for...[:527]\u001B[0m\n",
      "\u001B[92mtransformer='SummarizeTransformer'\u001B[0m\n",
      "----------------------------------------\n",
      "\u001B[94mVariations 3:\n",
      " sense. The Pythagoreans were likely the first to constrain the use of the word ...[:3182]\u001B[0m\n",
      "\u001B[92mtransformer=None\u001B[0m\n",
      "----------------------------------------\n",
      "\u001B[94mVariations 4:\n",
      "SUMMARY:\n",
      "The term \"mathematics\" has evolved over time, with its meaning changing...[:280]\u001B[0m\n",
      "\u001B[92mtransformer='SummarizeTransformer'\u001B[0m\n",
      "----------------------------------------\n",
      "\u001B[94mVariations 5:\n",
      " \n",
      "    \n",
      "    {\\displaystyle (\\mathbb {N} ),}\n",
      "   and later expanded to integers \n",
      "  ...[:2733]\u001B[0m\n",
      "\u001B[92mtransformer=None\u001B[0m\n",
      "----------------------------------------\n",
      "\u001B[94mVariations 6:\n",
      "SUMMARY:\n",
      "Number theory is a branch of mathematics that studies the properties of...[:726]\u001B[0m\n",
      "\u001B[92mtransformer='SummarizeTransformer'\u001B[0m\n",
      "----------------------------------------\n",
      "\u001B[94mVariations 7:\n",
      "SUMMARY:\n",
      "The introduction of Cartesian coordinates by René Descartes in the 17th...[:308]\u001B[0m\n",
      "\u001B[92mtransformer='SummarizeTransformer'\u001B[0m\n"
     ]
    }
   ],
   "source": [
    "from langchain.retrievers.multi_query import MultiQueryRetriever\n",
    "\n",
    "# Generate 3 questions from the user questions, and these version to find a better candidats in vectorstore\n",
    "multi_query_retriever = MultiQueryRetriever.from_llm(\n",
    "    llm=llm,\n",
    "    retriever=merge_retriever,\n",
    ")\n",
    "\n",
    "pretty_print_docs(multi_query_retriever.get_relevant_documents(query), [\"transformer\"])\n",
    "final_retriever = multi_query_retriever"
   ],
   "metadata": {
    "collapsed": false,
    "ExecuteTime": {
     "end_time": "2023-11-06T09:35:57.965249637Z",
     "start_time": "2023-11-06T09:35:52.897843311Z"
    }
   },
   "id": "a3be992243890cc9"
  },
  {
   "cell_type": "markdown",
   "source": [
    "At this stage, when we employ the retriever:\n",
    "\n",
    "- Multiple queries are generated to locate the relevant documents (via `multi_query_retriever`).\n",
    "- For each query:\n",
    "    - Variations are used for better selection of chunks\n",
    "    - Both the original chunk and the chunk summary are retrieved.\n",
    "    - If feasible, a metadata filter is applied (via `self_retriever`)\n",
    "- Only this selected candidate can be used to answer a question."
   ],
   "metadata": {
    "collapsed": false
   },
   "id": "3369a18f602a1b83"
  },
  {
   "cell_type": "markdown",
   "id": "e231bfd97367dc51",
   "metadata": {
    "collapsed": false
   },
   "source": [
    "# Use a compressor\n",
    "It's possible to use a *compressor*, to filter the selection.\n",
    "\n",
    "You can combine some filter in a pipeline.\n",
    "- The [EmbeddingsFilter](https://python.langchain.com/docs/modules/data_connection/retrievers/contextual_compression#embeddingsfilter) can add a similarity threshold between the query and documents\n",
    "- The [CohereRerank](https://python.langchain.com/docs/integrations/retrievers/cohere-reranker) can rank the chunks.\n",
    "- The [LLMChainFilter](https://python.langchain.com/docs/modules/data_connection/retrievers/contextual_compression#llmchainfilter) decide which of the initially retrieved documents to filter out and which ones to return, without manipulating the document contents.\n",
    "- THe [LongContextReorder](https://python.langchain.com/docs/integrations/retrievers/merger_retriever#re-order-results-to-avoid-performance-degradation) to reorder the selected documents\n",
    "- ..."
   ]
  },
  {
   "cell_type": "code",
   "execution_count": 33,
   "id": "67cbede89e25ee4",
   "metadata": {
    "collapsed": false,
    "ExecuteTime": {
     "end_time": "2023-11-06T09:36:00.594615768Z",
     "start_time": "2023-11-06T09:35:57.964682232Z"
    }
   },
   "outputs": [],
   "source": [
    "! pip install -q simsimd\n",
    "from langchain.retrievers.document_compressors import EmbeddingsFilter\n",
    "\n",
    "embeddings_filter = EmbeddingsFilter(\n",
    "    embeddings=embeddings,\n",
    "    similarity_threshold=0.7  # Threshold for determining when two documents are redundant.\n",
    ")"
   ]
  },
  {
   "cell_type": "code",
   "execution_count": 34,
   "outputs": [],
   "source": [
    "from langchain.document_transformers import LongContextReorder\n",
    "\n",
    "long_context_reorder = LongContextReorder()"
   ],
   "metadata": {
    "collapsed": false,
    "ExecuteTime": {
     "end_time": "2023-11-06T09:36:00.640261264Z",
     "start_time": "2023-11-06T09:36:00.580900063Z"
    }
   },
   "id": "fd165fb056847283"
  },
  {
   "cell_type": "code",
   "execution_count": 35,
   "outputs": [],
   "source": [
    "# Combine compressors\n",
    "from langchain.retrievers.document_compressors import DocumentCompressorPipeline\n",
    "\n",
    "compressor = DocumentCompressorPipeline(\n",
    "    transformers=[\n",
    "        # embeddings_filter,\n",
    "        long_context_reorder,\n",
    "    ]\n",
    ")"
   ],
   "metadata": {
    "collapsed": false,
    "ExecuteTime": {
     "end_time": "2023-11-06T09:36:00.686824959Z",
     "start_time": "2023-11-06T09:36:00.629136288Z"
    }
   },
   "id": "2d1371cafbc000ab"
  },
  {
   "cell_type": "markdown",
   "source": [
    "> **Note:** We do not use `embeddings_filter`, because a fragment can have a proximity < 0.7, but one of its variations a higher proximity. We want to keep the fragment in this case."
   ],
   "metadata": {
    "collapsed": false
   },
   "id": "4784853ec5a5e5b5"
  },
  {
   "cell_type": "markdown",
   "source": [
    "Now, we can add a filter with our pipeline."
   ],
   "metadata": {
    "collapsed": false
   },
   "id": "a10c8c0a080849fd"
  },
  {
   "cell_type": "code",
   "execution_count": 36,
   "outputs": [
    {
     "name": "stdout",
     "output_type": "stream",
     "text": [
      "\u001B[94mVariations 1:\n",
      "Mathematics is an area of knowledge that includes the topics of numbers, formula...[:3351]\u001B[0m\n",
      "----------------------------------------\n",
      "\u001B[94mVariations 2:\n",
      " sense. The Pythagoreans were likely the first to constrain the use of the word ...[:3182]\u001B[0m\n",
      "----------------------------------------\n",
      "\u001B[94mVariations 3:\n",
      " \n",
      "    \n",
      "    {\\displaystyle (\\mathbb {N} ),}\n",
      "   and later expanded to integers \n",
      "  ...[:2733]\u001B[0m\n",
      "----------------------------------------\n",
      "\u001B[94mVariations 4:\n",
      "SUMMARY:\n",
      "The introduction of Cartesian coordinates by René Descartes in the 17th...[:308]\u001B[0m\n",
      "----------------------------------------\n",
      "\u001B[94mVariations 5:\n",
      "SUMMARY:\n",
      "Number theory is a branch of mathematics that studies the properties of...[:726]\u001B[0m\n",
      "----------------------------------------\n",
      "\u001B[94mVariations 6:\n",
      "SUMMARY:\n",
      "The term \"mathematics\" has evolved over time, with its meaning changing...[:280]\u001B[0m\n",
      "----------------------------------------\n",
      "\u001B[94mVariations 7:\n",
      "SUMMARY:\n",
      "Mathematics is a broad field that encompasses the study of numbers, for...[:527]\u001B[0m\n"
     ]
    }
   ],
   "source": [
    "from langchain.retrievers import ContextualCompressionRetriever\n",
    "\n",
    "compression_retriever = ContextualCompressionRetriever(\n",
    "    base_compressor=compressor,\n",
    "    base_retriever=multi_query_retriever\n",
    ")\n",
    "\n",
    "pretty_print_docs(compression_retriever.get_relevant_documents(query))"
   ],
   "metadata": {
    "collapsed": false,
    "ExecuteTime": {
     "end_time": "2023-11-06T09:36:02.477141275Z",
     "start_time": "2023-11-06T09:36:00.657481497Z"
    }
   },
   "id": "537aa32a60d7b71d"
  },
  {
   "cell_type": "code",
   "execution_count": 37,
   "outputs": [],
   "source": [
    "final_retriever = compression_retriever"
   ],
   "metadata": {
    "collapsed": false,
    "ExecuteTime": {
     "end_time": "2023-11-06T09:36:02.513975602Z",
     "start_time": "2023-11-06T09:36:02.470490573Z"
    }
   },
   "id": "c613c2674527f644"
  },
  {
   "cell_type": "markdown",
   "source": [
    "![Chain of retrievers](plantuml/all_retrievers.png)"
   ],
   "metadata": {
    "collapsed": false
   },
   "id": "169c4be830f438ca"
  },
  {
   "cell_type": "markdown",
   "id": "13e195db90457352",
   "metadata": {
    "collapsed": false
   },
   "source": [
    "# Asking a Question\n",
    "\n",
    "Now, it's possible to utilize this architecture to pose a question."
   ]
  },
  {
   "cell_type": "markdown",
   "source": [
    "A problem can arise if the number of documents to be analysed is too large for the size of the prompt.\n",
    "Several strategies are available to manage this, identified by the \n",
    "[`chain_type`](https://python.langchain.com/docs/use_cases/question_answering/vector_db_qa#chain-type) parameter.\n",
    "\n",
    "> **Note 1**: The version `load_qa_chain()` and `RetrievalQAWithSourcesChain` are subject to hallucinations. They can respond without using the documents provided. This is not the case for `RetrievalQAWithReferencesChain` and `RetrievalQAWithReferencesAndVerbatimsChain`.\n",
    "\n",
    "> **Note 2**: The `map_reduce` chain type, use an approach similar to *compressor*, but working recursively to keep the number of tokens below a threshold. "
   ],
   "metadata": {
    "collapsed": false
   },
   "id": "e146b3fb5aa1a8c4"
  },
  {
   "cell_type": "code",
   "execution_count": 38,
   "outputs": [
    {
     "name": "stdout",
     "output_type": "stream",
     "text": [
      " Pure mathematics focuses on abstract concepts and theories, while applied mathematics applies these concepts to real-world problems and situations.\n"
     ]
    }
   ],
   "source": [
    "from langchain.chains.question_answering import load_qa_chain\n",
    "\n",
    "chain = load_qa_chain(\n",
    "    llm,\n",
    "    chain_type=\"map_reduce\",  # \"stuff\", \"map_reduce\", \"refine\", \"map_rerank\"\n",
    ")\n",
    "result = chain(\n",
    "    {\n",
    "        \"input_documents\": final_retriever.get_relevant_documents(query),\n",
    "        \"question\": query,\n",
    "    },\n",
    "    callbacks=CALLBACKS,\n",
    ")\n",
    "print(result[\"output_text\"])"
   ],
   "metadata": {
    "collapsed": false,
    "ExecuteTime": {
     "end_time": "2023-11-06T09:36:07.335958757Z",
     "start_time": "2023-11-06T09:36:02.498768784Z"
    }
   },
   "id": "528d6cea511e95c6"
  },
  {
   "cell_type": "markdown",
   "source": [
    "If the documents have `sources` and the URLs are not too large, you can use `RetrievalQAWithSourcesChain`."
   ],
   "metadata": {
    "collapsed": false
   },
   "id": "c5178548aed66397"
  },
  {
   "cell_type": "code",
   "execution_count": 39,
   "outputs": [
    {
     "name": "stdout",
     "output_type": "stream",
     "text": [
      " Pure mathematics focuses on abstract concepts and theories, while applied mathematics applies these concepts to real-world problems and situations.\n",
      "\n",
      "\u001B[92mhttps://en.wikipedia.org/wiki/Mathematics\u001B[0m\n"
     ]
    }
   ],
   "source": [
    "from langchain.chains import RetrievalQAWithSourcesChain\n",
    "\n",
    "chain = RetrievalQAWithSourcesChain.from_chain_type(\n",
    "    llm=llm,\n",
    "    chain_type=\"map_reduce\",  # \"stuff\", \"map_reduce\", \"refine\", \"map_rerank\"\n",
    "    retriever=final_retriever,\n",
    "    callbacks=CALLBACKS,\n",
    ")\n",
    "result = chain(query)\n",
    "print(result[\"answer\"])\n",
    "pretty_print_docs(result[\"sources\"])"
   ],
   "metadata": {
    "collapsed": false,
    "ExecuteTime": {
     "end_time": "2023-11-06T09:36:11.480819610Z",
     "start_time": "2023-11-06T09:36:07.337074270Z"
    }
   },
   "id": "82d24ebb6d278bac"
  },
  {
   "cell_type": "markdown",
   "source": [
    "For more precise control over the document references used, opt for `RetrievalQAWithReferencesChain`. Only the chunk used are returned."
   ],
   "metadata": {
    "collapsed": false
   },
   "id": "3c4b2b04514f3b73"
  },
  {
   "cell_type": "code",
   "execution_count": 40,
   "outputs": [
    {
     "name": "stdout",
     "output_type": "stream",
     "text": [
      "Pure mathematics is the study of abstract concepts and structures, while applied mathematics uses mathematical theories and techniques to solve practical problems.\n",
      "\u001B[94mChunk 1:\n",
      "Mathematics is an area of knowledge that includes the topics of numbers, formula...[:3351]\u001B[0m\n",
      "\u001B[92msource='https://en.wikipedia.org/wiki/Mathematics'\u001B[0m\n",
      "----------------------------------------\n",
      "\u001B[94mChunk 2:\n",
      " sense. The Pythagoreans were likely the first to constrain the use of the word ...[:3182]\u001B[0m\n",
      "\u001B[92msource='https://en.wikipedia.org/wiki/Mathematics'\u001B[0m\n",
      "----------------------------------------\n",
      "\u001B[94mChunk 3:\n",
      "SUMMARY:\n",
      "Number theory is a branch of mathematics that studies the properties of...[:726]\u001B[0m\n",
      "\u001B[92msource='https://en.wikipedia.org/wiki/Mathematics'\u001B[0m\n",
      "----------------------------------------\n",
      "\u001B[94mChunk 4:\n",
      "SUMMARY:\n",
      "The term \"mathematics\" has evolved over time, with its meaning changing...[:280]\u001B[0m\n",
      "\u001B[92msource='https://en.wikipedia.org/wiki/Mathematics'\u001B[0m\n",
      "----------------------------------------\n",
      "\u001B[94mChunk 5:\n",
      "SUMMARY:\n",
      "Mathematics is a broad field that encompasses the study of numbers, for...[:527]\u001B[0m\n",
      "\u001B[92msource='https://en.wikipedia.org/wiki/Mathematics'\u001B[0m\n"
     ]
    }
   ],
   "source": [
    "!pip install -q langchain_qa_with_references\n",
    "from langchain_qa_with_references.chains import RetrievalQAWithReferencesChain\n",
    "\n",
    "chain = RetrievalQAWithReferencesChain.from_chain_type(\n",
    "    llm=llm,\n",
    "    chain_type=\"map_reduce\",  # \"stuff\", \"map_reduce\", \"refine\", \"map_rerank\"\n",
    "    retriever=final_retriever,\n",
    "    callbacks=CALLBACKS,\n",
    ")\n",
    "result = chain(query)\n",
    "print(result[\"answer\"])\n",
    "pretty_print_docs(result[\"source_documents\"], ['source'], kind=\"Chunk\")"
   ],
   "metadata": {
    "collapsed": false,
    "ExecuteTime": {
     "end_time": "2023-11-06T09:36:20.561185768Z",
     "start_time": "2023-11-06T09:36:11.482454569Z"
    }
   },
   "id": "7eeda26fec5e810a"
  },
  {
   "cell_type": "markdown",
   "source": [
    "Lastly, if you wish to identify the specific text fragments utilized by the LLM to formulate its response, select the `RetrievalQAWithReferencesAndVerbatimsChain` option."
   ],
   "metadata": {
    "collapsed": false
   },
   "id": "2bcd89050a21022f"
  },
  {
   "cell_type": "code",
   "execution_count": 41,
   "outputs": [
    {
     "name": "stdout",
     "output_type": "stream",
     "text": [
      "Pure mathematics is the study of mathematical concepts independently of any application outside mathematics. Applied mathematics is the study of mathematical methods that are used in science, engineering, business, computer science, and industry. The difference between pure and applied mathematics is that pure mathematics focuses on the abstract study of mathematical concepts, while applied mathematics focuses on the practical application of mathematical methods in various fields. \n",
      "\u001B[94mVariations 1:\n",
      "Mathematics is an area of knowledge that includes the topics of numbers, formula...[:3351]\u001B[0m\n",
      "\u001B[92msource='https://en.wikipedia.org/wiki/Mathematics',\n",
      "verbatims=['Some areas of mathematics, such as statistics and game theory, are developed in close correlation with their applications and are often grouped under applied mathematics. Other areas are developed independently from any application (and are therefore called pure mathematics), but often later find practical applications.']\u001B[0m\n"
     ]
    }
   ],
   "source": [
    "!pip install -q langchain_qa_with_references\n",
    "from langchain_qa_with_references.chains import RetrievalQAWithReferencesAndVerbatimsChain\n",
    "\n",
    "chain = RetrievalQAWithReferencesAndVerbatimsChain.from_chain_type(\n",
    "    llm=llm,\n",
    "    chain_type=\"map_reduce\",\n",
    "    retriever=final_retriever,\n",
    "    callbacks=CALLBACKS,\n",
    ")\n",
    "result = chain(query)\n",
    "print(result[\"answer\"])\n",
    "pretty_print_docs(result[\"source_documents\"], [\"source\", \"verbatims\"])"
   ],
   "metadata": {
    "collapsed": false,
    "ExecuteTime": {
     "end_time": "2023-11-06T09:36:32.441312836Z",
     "start_time": "2023-11-06T09:36:20.551069556Z"
    }
   },
   "id": "48e8463e7d781f6"
  },
  {
   "cell_type": "code",
   "execution_count": 42,
   "outputs": [],
   "source": [
    "# Clean up\n",
    "import shutil\n",
    "\n",
    "shutil.rmtree(ROOT_PATH)"
   ],
   "metadata": {
    "collapsed": false,
    "ExecuteTime": {
     "end_time": "2023-11-06T09:36:32.464516753Z",
     "start_time": "2023-11-06T09:36:32.394464523Z"
    }
   },
   "id": "49beb23b22096ce2"
  }
 ],
 "metadata": {
  "kernelspec": {
   "display_name": "langchain-parent",
   "language": "python",
   "name": "langchain-parent"
  },
  "language_info": {
   "codemirror_mode": {
    "name": "ipython",
    "version": 3
   },
   "file_extension": ".py",
   "mimetype": "text/x-python",
   "name": "python",
   "nbconvert_exporter": "python",
   "pygments_lexer": "ipython3",
   "version": "3.10.12"
  }
 },
 "nbformat": 4,
 "nbformat_minor": 5
}
