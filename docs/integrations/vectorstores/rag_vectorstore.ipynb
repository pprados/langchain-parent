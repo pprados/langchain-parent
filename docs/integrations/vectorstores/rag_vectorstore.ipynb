{
 "cells": [
  {
   "cell_type": "markdown",
   "id": "4993da90",
   "metadata": {
    "editable": true,
    "slideshow": {
     "slide_type": ""
    },
    "tags": []
   },
   "source": [
    "# RAG vectorstore\n",
    "\n",
    "[![Open in Colab](colab-badge.svg)](https://colab.research.google.com/github/pprados/langchain-rag/blob/master/docs/integrations/vectorstores/rag_vectorstore.ipynb)\n"
   ]
  },
  {
   "cell_type": "markdown",
   "id": "ddf56f04",
   "metadata": {
    "editable": true,
    "slideshow": {
     "slide_type": ""
    },
    "tags": []
   },
   "source": [
    "RAG architectures are very popular. They can be quickly demonstrated on a few documents. For a production project, more effort is needed to achieve an effective architecture.\n",
    "\n",
    "The basic principle is to divide a document into chunks, place them in a vector database, then select the chunks closest to the question and inject them into a prompt.\n",
    "\n",
    "When splitting documents for retrieval, there are often conflicting desires:\n",
    "\n",
    "1. You may want to keep documents small, ensuring that their embeddings accurately represent their meaning. If they become too long, the embeddings can lose their meaning.\n",
    "2. You also want to maintain documents long enough to retain the context of each chunk.\n",
    "\n",
    "When you have a lot of documents, and therefore a lot of pieces, it's likely that dozens of pieces have a distance close to the question. Taking only the top 4 is not a good idea. The answer may lie in the 6 or 7 tracks. How can we improve the match between the question and a fragment? By preparing several versions of the fragment, each with an embedding. In this way, one of the versions can be closer to the question than the original fragment. This version is stripped of context. But the context is still needed to answer the question correctly. One strategy consists of breaking down each fragment into different versions, but using the retriever to return to the original fragment. \n",
    "\n",
    "The `RAGVectorStore` strikes a balance by splitting and storing small chunks and different variations of data. During retrieval, it initially retrieves the small chunks but then looks up the parent IDs for those chunks and returns the larger documents.\n",
    "\n",
    "The challenge lies in correctly managing the lifecycle of the three levels of documents:\n",
    "- Original documents\n",
    "- Chunks extracted from the original documents\n",
    "- Transformations of chunks to generate more vectors for improved retrieval\n",
    "\n",
    "The `RAGVectorStore`, in combination with other components, is designed to address this challenge."
   ]
  },
  {
   "cell_type": "markdown",
   "id": "2631007b-61df-4a1d-93d8-e1ae6d85193e",
   "metadata": {
    "editable": true,
    "slideshow": {
     "slide_type": ""
    },
    "tags": []
   },
   "source": [
    "For the sample, we are using the set of documents from Wikipedia.\n",
    "We would like to answer questions related to mathematics."
   ]
  },
  {
   "cell_type": "markdown",
   "id": "5e66ec62-500b-44a9-b14c-bc942801260c",
   "metadata": {
    "editable": true,
    "slideshow": {
     "slide_type": ""
    },
    "tags": []
   },
   "source": [
    "> This notebook is not intended to demonstrate the relevance of each optimisation approach. The example is based on too few documents for that. It is simply intended to illustrate an implementation of an advanced RAG."
   ]
  },
  {
   "cell_type": "code",
   "execution_count": 1,
   "id": "771c76125e1ae179",
   "metadata": {
    "ExecuteTime": {
     "end_time": "2023-11-07T08:03:47.190485919Z",
     "start_time": "2023-11-07T08:03:41.732044814Z"
    },
    "collapsed": false,
    "editable": true,
    "jupyter": {
     "outputs_hidden": false
    },
    "slideshow": {
     "slide_type": ""
    },
    "tags": []
   },
   "outputs": [
    {
     "name": "stdout",
     "output_type": "stream",
     "text": [
      "Note: you may need to restart the kernel to use updated packages.\n"
     ]
    }
   ],
   "source": [
    "%pip install -q --upgrade pip langchain-rag langchain-openai langchain_qa_with_references python-dotenv wikipedia chromadb lark"
   ]
  },
  {
   "cell_type": "code",
   "execution_count": 2,
   "id": "209401ccb84bfa17",
   "metadata": {
    "ExecuteTime": {
     "end_time": "2023-11-07T08:03:47.197368723Z",
     "start_time": "2023-11-07T08:03:47.193455730Z"
    },
    "collapsed": false,
    "editable": true,
    "jupyter": {
     "outputs_hidden": false
    },
    "slideshow": {
     "slide_type": ""
    },
    "tags": []
   },
   "outputs": [],
   "source": [
    "query = \"What is the difference between pure and applied mathematics?\""
   ]
  },
  {
   "cell_type": "markdown",
   "id": "9b86beba-b0bd-4690-a77b-ae133d3750be",
   "metadata": {
    "editable": true,
    "slideshow": {
     "slide_type": ""
    },
    "tags": []
   },
   "source": [
    "# Prepare the environment"
   ]
  },
  {
   "cell_type": "markdown",
   "id": "fe3a365c-24a7-4deb-8349-2effde6df90b",
   "metadata": {
    "editable": true,
    "slideshow": {
     "slide_type": ""
    },
    "tags": []
   },
   "source": [
    "To start with, we create a working directory to store all sorts of things."
   ]
  },
  {
   "cell_type": "markdown",
   "id": "84786a92-1c31-4c8c-9543-22e467d9dfd4",
   "metadata": {
    "editable": true,
    "slideshow": {
     "slide_type": ""
    },
    "tags": []
   },
   "source": [
    "Then we add a small function to display lists of documents, with a selection of metadata."
   ]
  },
  {
   "cell_type": "code",
   "execution_count": 45,
   "id": "505aae5e89ee147e",
   "metadata": {
    "ExecuteTime": {
     "end_time": "2023-11-07T08:03:47.704306061Z",
     "start_time": "2023-11-07T08:03:47.238860740Z"
    },
    "editable": true,
    "slideshow": {
     "slide_type": ""
    },
    "tags": []
   },
   "outputs": [],
   "source": [
    "from langchain_core.documents import Document\n",
    "import logging\n",
    "import pathlib\n",
    "import tempfile\n",
    "import tiktoken\n",
    "from typing import List, Union\n",
    "\n",
    "# Activate logging and prints\n",
    "logging.basicConfig(level=logging.WARN)\n",
    "\n",
    "CALLBACKS = []\n",
    "encoding = tiktoken.encoding_for_model(\"gpt-3.5-turbo\")\n",
    "\n",
    "def pretty_print_docs(\n",
    "        docs: Union[str, List[Document]], metadatas=[], kind: str = \"Variations\"\n",
    "):\n",
    "    def print_metadata(d):\n",
    "        s = \",\\n\".join(\n",
    "            [f\"{metadata}={repr(d.metadata.get(metadata))}\" for metadata in metadatas]\n",
    "        )\n",
    "        if s:\n",
    "            return f\"\\n\\033[92m{s}\\033[0m\"\n",
    "        return \"\"\n",
    "\n",
    "    def print_doc(d, i):\n",
    "        r = f\"\\033[94m{kind} {i + 1}:\\n{d.page_content[:80]}\"\n",
    "        if len(d.page_content) > 80:\n",
    "            r += f\"...[:{max(0, len(d.page_content) - 80)}]\"\n",
    "        r+=f\" {len(encoding.encode(d.page_content))} toks\"\n",
    "        r += f\"\\033[0m{print_metadata(d)}\"\n",
    "        return r\n",
    "\n",
    "    if isinstance(docs, list):\n",
    "        print(f\"\\n{'-' * 40}\\n\".join([print_doc(d, i) for i, d in enumerate(docs)]))\n",
    "    else:\n",
    "        print(f\"\\033[92m{docs}\\033[0m\")\n",
    "\n",
    "ROOT_PATH = tempfile._gettempdir() + \"/rag\"\n",
    "pathlib.Path(ROOT_PATH).mkdir(exist_ok=True)"
   ]
  },
  {
   "cell_type": "markdown",
   "id": "629c1609-51c9-4983-be9f-7e470965a2b8",
   "metadata": {
    "editable": true,
    "slideshow": {
     "slide_type": ""
    },
    "tags": []
   },
   "source": [
    "# Select providers"
   ]
  },
  {
   "cell_type": "code",
   "execution_count": 4,
   "id": "fa8340e2-1b4a-4b93-b407-268f8a698496",
   "metadata": {
    "ExecuteTime": {
     "end_time": "2023-11-07T08:03:59.342857414Z",
     "start_time": "2023-11-07T08:03:56.557551019Z"
    },
    "editable": true,
    "slideshow": {
     "slide_type": ""
    },
    "tags": []
   },
   "outputs": [],
   "source": [
    "import os\n",
    "from dotenv import load_dotenv\n",
    "\n",
    "load_dotenv(override=True)\n",
    "if \"OPENAI_API_KEY\" not in os.environ:\n",
    "    os.environ[\"OPENAI_API_KEY\"] = \"\"  # Set api key\""
   ]
  },
  {
   "cell_type": "markdown",
   "id": "9cd2a2d9-de21-4336-9711-413f1e9c83b4",
   "metadata": {
    "editable": true,
    "slideshow": {
     "slide_type": ""
    },
    "tags": []
   },
   "source": [
    "## Select the embedding implementation"
   ]
  },
  {
   "cell_type": "code",
   "execution_count": 5,
   "id": "1e3ce9c7-fafc-493e-b5b4-93f64f81a8ea",
   "metadata": {
    "ExecuteTime": {
     "end_time": "2023-11-07T08:04:03.681716547Z",
     "start_time": "2023-11-07T08:04:03.553903409Z"
    },
    "editable": true,
    "slideshow": {
     "slide_type": ""
    },
    "tags": []
   },
   "outputs": [],
   "source": [
    "# Select OpenAI implementation\n",
    "from langchain_openai import OpenAIEmbeddings\n",
    "\n",
    "openai_embeddings = OpenAIEmbeddings()"
   ]
  },
  {
   "cell_type": "code",
   "execution_count": 6,
   "id": "54cc5d45-573b-4540-8738-16115818a9d7",
   "metadata": {
    "ExecuteTime": {
     "end_time": "2023-11-07T08:04:05.757238652Z",
     "start_time": "2023-11-07T08:04:05.656916897Z"
    },
    "editable": true,
    "slideshow": {
     "slide_type": ""
    },
    "tags": []
   },
   "outputs": [],
   "source": [
    "# Add a cache for embeddings\n",
    "from langchain.storage import LocalFileStore\n",
    "from langchain.embeddings import CacheBackedEmbeddings\n",
    "\n",
    "CACHE_EMBEDDING_PATH = ROOT_PATH + \"/cache_embedding\"\n",
    "fs = LocalFileStore(CACHE_EMBEDDING_PATH)\n",
    "\n",
    "\n",
    "embeddings = CacheBackedEmbeddings.from_bytes_store(\n",
    "    openai_embeddings,\n",
    "    fs,\n",
    "    namespace=openai_embeddings.model if hasattr(openai_embeddings, \"model\") else \"unknown\",\n",
    ")"
   ]
  },
  {
   "cell_type": "code",
   "execution_count": 7,
   "id": "eae5c786-0352-48c6-8629-7b6f0eee6129",
   "metadata": {
    "ExecuteTime": {
     "end_time": "2023-11-07T08:03:59.445791002Z",
     "start_time": "2023-11-07T08:03:59.385375329Z"
    },
    "editable": true,
    "slideshow": {
     "slide_type": ""
    },
    "tags": []
   },
   "outputs": [
    {
     "name": "stdout",
     "output_type": "stream",
     "text": [
      "top_k=4 context_size=4096 prompt_tokens=409, doc_tokens=717, input_tokens=3277, output_tokens=819\n"
     ]
    }
   ],
   "source": [
    "# Calculates the parameters\n",
    "nb_documents_to_import = 3  # How many documents should be imported from Wikipedia?\n",
    "top_k = 4  # How many chunks should be injected in the prompt to answer the question?\n",
    "\n",
    "embeddings_tokens_limit= openai_embeddings.embedding_ctx_length\n",
    "\n",
    "context_size = 4096  # The GPT3.5 limit\n",
    "\n",
    "# 10% for the prompt without context\n",
    "prompt_tokens = int(context_size * (10 / 100))  \n",
    "\n",
    "# 20% for the response\n",
    "output_tokens = int(context_size * (20 / 100))  \n",
    "\n",
    "# Minimum tokens for one document\n",
    "min_doc_tokens = 200\n",
    "\n",
    "# Maximum size for each documents to inject\n",
    "doc_tokens = (context_size - prompt_tokens - output_tokens ) // top_k\n",
    "if doc_tokens > embeddings_tokens_limit:\n",
    "    top_k = (context_size - prompt_tokens - output_tokens ) // embeddings_tokens_limit\n",
    "elif doc_tokens < min_doc_tokens:\n",
    "    top_k = (context_size - prompt_tokens - output_tokens ) // min_doc_tokens\n",
    "\n",
    "# Then, the maximum nomber of tokens for the prompt\n",
    "input_tokens = context_size - output_tokens\n",
    "\n",
    "print(f\"{top_k=} {context_size=} {prompt_tokens=}, {doc_tokens=}, {input_tokens=}, {output_tokens=}\")"
   ]
  },
  {
   "cell_type": "markdown",
   "id": "8e39c804-d033-4bb3-adf0-ec8f5e0d9168",
   "metadata": {
    "editable": true,
    "slideshow": {
     "slide_type": ""
    },
    "tags": []
   },
   "source": [
    "## Select the LLM\n",
    "Before starting, we need to:\n",
    "- Set the environment variables\n",
    "- Choose a language model (LLM), determine the context size, and set the maximum number of tokens for generation\n",
    "- Enable all caches"
   ]
  },
  {
   "cell_type": "code",
   "execution_count": 8,
   "id": "53237ba8-cd7c-4cfc-bafe-d980a53ddbbd",
   "metadata": {
    "ExecuteTime": {
     "end_time": "2023-11-07T08:03:59.445791002Z",
     "start_time": "2023-11-07T08:03:59.385375329Z"
    },
    "editable": true,
    "slideshow": {
     "slide_type": ""
    },
    "tags": []
   },
   "outputs": [],
   "source": [
    "from langchain_openai import OpenAI\n",
    "llm = OpenAI(\n",
    "    model=\"gpt-3.5-turbo-instruct\",\n",
    "    temperature=0.2,\n",
    "    max_tokens=output_tokens,  # Maximum possible\n",
    ")"
   ]
  },
  {
   "cell_type": "code",
   "execution_count": 9,
   "id": "3e12bd3f44158a74",
   "metadata": {
    "ExecuteTime": {
     "end_time": "2023-11-07T08:03:59.568160829Z",
     "start_time": "2023-11-07T08:03:59.436817391Z"
    },
    "editable": true,
    "slideshow": {
     "slide_type": ""
    },
    "tags": []
   },
   "outputs": [],
   "source": [
    "# Add a cache\n",
    "from langchain_core import globals\n",
    "from langchain_community.cache import SQLiteCache\n",
    "\n",
    "LANCHAIN_CACHE_PATH = ROOT_PATH + \"/cache_llm\"\n",
    "globals.set_llm_cache(SQLiteCache(database_path=LANCHAIN_CACHE_PATH))"
   ]
  },
  {
   "cell_type": "markdown",
   "id": "7a0bea32-373d-400d-a887-9aadc2485ab6",
   "metadata": {
    "editable": true,
    "slideshow": {
     "slide_type": ""
    },
    "tags": []
   },
   "source": [
    "# Load the documents\n",
    "\n",
    "We want to retrieve documents about mathematics from wikipedia."
   ]
  },
  {
   "cell_type": "code",
   "execution_count": 46,
   "id": "af6a3c4bb3423122",
   "metadata": {
    "ExecuteTime": {
     "end_time": "2023-11-07T08:03:56.556266941Z",
     "start_time": "2023-11-07T08:03:47.707137514Z"
    },
    "editable": true,
    "slideshow": {
     "slide_type": ""
    },
    "tags": []
   },
   "outputs": [
    {
     "name": "stdout",
     "output_type": "stream",
     "text": [
      "\u001b[94mDocuments 1:\n",
      "Mathematics is an area of knowledge that includes the topics of numbers, formula...[:9920] tokens:1977\u001b[0m\n",
      "----------------------------------------\n",
      "\u001b[94mDocuments 2:\n",
      "Mathematical Reviews is a journal published by the American Mathematical Society...[:4397] tokens:906\u001b[0m\n",
      "----------------------------------------\n",
      "\u001b[94mDocuments 3:\n",
      "The history of mathematics deals with the origin of discoveries in mathematics a...[:9920] tokens:1998\u001b[0m\n"
     ]
    }
   ],
   "source": [
    "from langchain_community.retrievers import WikipediaRetriever\n",
    "\n",
    "documents = WikipediaRetriever(\n",
    "    top_k_results=nb_documents_to_import, \n",
    "    doc_content_chars_max=10000\n",
    ").get_relevant_documents(\"mathematic\")\n",
    "pretty_print_docs(documents, kind=\"Documents\")"
   ]
  },
  {
   "cell_type": "markdown",
   "id": "e20ff47d-933e-47be-9849-bccc78cf9309",
   "metadata": {
    "editable": true,
    "slideshow": {
     "slide_type": ""
    },
    "tags": []
   },
   "source": [
    "# Transform documents\n",
    "The idea is to transform a document into multiple versions and calculate a vector for each one."
   ]
  },
  {
   "cell_type": "code",
   "execution_count": 11,
   "id": "97b6e300-50f4-41ae-a524-05030c2c865c",
   "metadata": {
    "ExecuteTime": {
     "end_time": "2023-11-07T08:04:08.571058526Z",
     "start_time": "2023-11-07T08:04:08.501203180Z"
    },
    "editable": true,
    "slideshow": {
     "slide_type": ""
    },
    "tags": []
   },
   "outputs": [],
   "source": [
    "from langchain.text_splitter import *\n",
    "from langchain_rag.document_transformers import *\n",
    "from langchain_rag.document_transformers import DocumentTransformerPipeline"
   ]
  },
  {
   "cell_type": "markdown",
   "id": "99e513cf-6ac8-4121-81b9-b961afd52d6f",
   "metadata": {
    "editable": true,
    "slideshow": {
     "slide_type": ""
    },
    "tags": []
   },
   "source": [
    "The first step is to split the document to ensure compatibility with the `max_input_tokens`. This could be a transformation pipeline, for an initial wiki split, followed by a size split for example."
   ]
  },
  {
   "cell_type": "code",
   "execution_count": 12,
   "id": "8ff426ce-ffe1-4f90-927f-af83ce37cef6",
   "metadata": {
    "editable": true,
    "slideshow": {
     "slide_type": ""
    },
    "tags": []
   },
   "outputs": [],
   "source": [
    "wiki_splitter = RecursiveCharacterTextSplitter(\n",
    "    separators=[\n",
    "        \"={1,6} .* ={1,6}\",  # See https://en.wikipedia.org/wiki/Help:Wikitext\n",
    "        \"\\n----+\\n\",            \n",
    "        \"\\n\\n\",\n",
    "        \"\\n\",\n",
    "    ],\n",
    "    is_separator_regex=True)\n",
    "\n",
    "token_splitter = TokenTextSplitter(chunk_size=doc_tokens, chunk_overlap=0)\n",
    "parent_transformer = DocumentTransformerPipeline(transformers=[wiki_splitter,token_splitter])"
   ]
  },
  {
   "cell_type": "markdown",
   "id": "a640d55a-a466-4de1-abfe-4d5c1d2d76a3",
   "metadata": {
    "editable": true,
    "slideshow": {
     "slide_type": ""
    },
    "tags": []
   },
   "source": [
    "Let's test the transformations."
   ]
  },
  {
   "cell_type": "code",
   "execution_count": 13,
   "id": "dbb10dc0-6cf2-4e14-b55c-bb846ba97515",
   "metadata": {
    "ExecuteTime": {
     "end_time": "2023-11-07T08:04:13.137057093Z",
     "start_time": "2023-11-07T08:04:12.982998692Z"
    },
    "editable": true,
    "slideshow": {
     "slide_type": ""
    },
    "tags": []
   },
   "outputs": [
    {
     "data": {
      "text/plain": [
       "'before:3 documents, after:14 chunks'"
      ]
     },
     "execution_count": 13,
     "metadata": {},
     "output_type": "execute_result"
    }
   ],
   "source": [
    "chunk_documents = parent_transformer.transform_documents(documents)\n",
    "f\"before:{len(documents)} documents, after:{len(chunk_documents)} chunks\""
   ]
  },
  {
   "cell_type": "code",
   "execution_count": 14,
   "id": "8b9ef168-4892-400f-be6a-fc714f95c325",
   "metadata": {
    "editable": true,
    "slideshow": {
     "slide_type": ""
    },
    "tags": []
   },
   "outputs": [
    {
     "name": "stdout",
     "output_type": "stream",
     "text": [
      "\u001b[94mChunk 1:\n",
      "Mathematics is an area of knowledge that includes the topics of numbers, formula...[:2623]\u001b[0m\n",
      "----------------------------------------\n",
      "\u001b[94mChunk 2:\n",
      "== Etymology ==\n",
      "The word mathematics comes from Ancient Greek máthēma (μάθημα), ...[:3025]\u001b[0m\n",
      "----------------------------------------\n",
      "\u001b[94mChunk 3:\n",
      "iomatic method led to an explosion of new areas of mathematics. The 2020 Mathema...[:610]\u001b[0m\n",
      "----------------------------------------\n",
      "\u001b[94mChunk 4:\n",
      "=== Number theory ===\n",
      "\n",
      "Number theory began with the manipulation of numbers, tha...[:2444]\u001b[0m\n",
      "----------------------------------------\n",
      "\u001b[94mChunk 5:\n",
      "postulates), or are part of the definition of the subject of study (axioms). Thi...[:892]\u001b[0m\n",
      "----------------------------------------\n",
      "\u001b[94mChunk 6:\n",
      "The history of mathematics deals with the origin of discoveries in mathematics a...[:3018]\u001b[0m\n",
      "----------------------------------------\n",
      "\u001b[94mChunk 7:\n",
      "== Prehistoric ==\n",
      "The origins of mathematical thought lie in the concepts of num...[:1926]\u001b[0m\n",
      "----------------------------------------\n",
      "\u001b[94mChunk 8:\n",
      "== Babylonian ==\n",
      "\n",
      "Babylonian mathematics refers to any mathematics of the people...[:599]\u001b[0m\n",
      "----------------------------------------\n",
      "\u001b[94mChunk 9:\n",
      "In contrast to the sparsity of sources in Egyptian mathematics, knowledge of Bab...[:3444]\u001b[0m\n",
      "----------------------------------------\n",
      "\u001b[94mChunk 10:\n",
      " of a problem, and most importantly, no explicit statement of the need for proof...[:24]\u001b[0m\n",
      "----------------------------------------\n",
      "\u001b[94mChunk 11:\n",
      "== Egyptian ==\n",
      "\n",
      "Egyptian mathematics refers to mathematics written in the Egypti...[:498]\u001b[0m\n",
      "----------------------------------------\n",
      "\u001b[94mChunk 12:\n",
      "Mathematical Reviews is a journal published by the American Mathematical Society...[:3352]\u001b[0m\n",
      "----------------------------------------\n",
      "\u001b[94mChunk 13:\n",
      " or lower MCQ than average. The 2018 All Journal MCQ is 0.41.\n",
      "\n",
      "\n",
      "== Current Mathe...[:472]\u001b[0m\n",
      "----------------------------------------\n",
      "\u001b[94mChunk 14:\n",
      "== See also ==\n",
      "\n",
      "Referativnyi Zhurnal, published in former Soviet Union and now i...[:603]\u001b[0m\n"
     ]
    }
   ],
   "source": [
    "pretty_print_docs(chunk_documents, kind=\"Chunk\")"
   ]
  },
  {
   "cell_type": "markdown",
   "id": "79651e78d2831fcc",
   "metadata": {
    "collapsed": false,
    "editable": true,
    "jupyter": {
     "outputs_hidden": false
    },
    "slideshow": {
     "slide_type": ""
    },
    "tags": []
   },
   "source": [
    "We need multiple variations for each chunk."
   ]
  },
  {
   "cell_type": "code",
   "execution_count": 15,
   "id": "09aa4959-1325-43cd-a22e-0f7c983c8be5",
   "metadata": {
    "ExecuteTime": {
     "end_time": "2023-11-07T08:04:14.960026452Z",
     "start_time": "2023-11-07T08:04:14.840806923Z"
    },
    "editable": true,
    "slideshow": {
     "slide_type": ""
    },
    "tags": []
   },
   "outputs": [],
   "source": [
    "chunk_transformer = DocumentTransformers(\n",
    "    transformers=[\n",
    "        GenerateQuestionsTransformer.from_llm(llm),\n",
    "        SummarizeTransformer.from_llm(llm),\n",
    "        CopyDocumentTransformer(),\n",
    "    ]\n",
    ")"
   ]
  },
  {
   "cell_type": "markdown",
   "id": "a74358ce-b013-4729-a71b-ee4c82f0d51f",
   "metadata": {
    "editable": true,
    "slideshow": {
     "slide_type": ""
    },
    "tags": []
   },
   "source": [
    "> **Note:** that we require all transformations for each chunk, including the original chunk. This is why we include the `CopyDocumentTransformer()`.\n",
    "\n",
    "Now, let's test the transformation for the first document."
   ]
  },
  {
   "cell_type": "code",
   "execution_count": 16,
   "id": "63cf0377ba48d2ad",
   "metadata": {
    "ExecuteTime": {
     "end_time": "2023-11-07T08:04:19.569634368Z",
     "start_time": "2023-11-07T08:04:16.909028939Z"
    },
    "collapsed": false,
    "editable": true,
    "jupyter": {
     "outputs_hidden": false
    },
    "slideshow": {
     "slide_type": ""
    },
    "tags": []
   },
   "outputs": [
    {
     "name": "stdout",
     "output_type": "stream",
     "text": [
      "\u001b[94mVariations 1:\n",
      "What are the major subdisciplines of modern mathematics?\u001b[0m\n",
      "----------------------------------------\n",
      "\u001b[94mVariations 2:\n",
      "How are abstract objects used in mathematical proofs?\u001b[0m\n",
      "----------------------------------------\n",
      "\u001b[94mVariations 3:\n",
      "What was the impact of the foundational crisis of mathematics on the development...[:19]\u001b[0m\n",
      "----------------------------------------\n",
      "\u001b[94mVariations 4:\n",
      "SUMMARY:\n",
      "Mathematics is a complex and diverse field of study that encompasses nu...[:407]\u001b[0m\n",
      "----------------------------------------\n",
      "\u001b[94mVariations 5:\n",
      "Mathematics is an area of knowledge that includes the topics of numbers, formula...[:2623]\u001b[0m\n"
     ]
    }
   ],
   "source": [
    "variations_of_chunks = chunk_transformer.transform_documents(chunk_documents[:1])\n",
    "# Select the variations for the first chunk\n",
    "pretty_print_docs(variations_of_chunks)"
   ]
  },
  {
   "cell_type": "markdown",
   "id": "3be062dd-cf9c-423b-be8b-67a8566b354e",
   "metadata": {
    "editable": true,
    "slideshow": {
     "slide_type": ""
    },
    "tags": []
   },
   "source": [
    "We see 3 questions, a summary of the chunk and the original chunk."
   ]
  },
  {
   "cell_type": "markdown",
   "id": "ff6c2f4a8b3c8248",
   "metadata": {
    "collapsed": false,
    "editable": true,
    "jupyter": {
     "outputs_hidden": false
    },
    "slideshow": {
     "slide_type": ""
    },
    "tags": []
   },
   "source": [
    "![Tree of variations](plantuml/variations.png)"
   ]
  },
  {
   "cell_type": "markdown",
   "id": "9a594c2a-1ddc-4eb7-a7ba-922923fe5dae",
   "metadata": {
    "editable": true,
    "slideshow": {
     "slide_type": ""
    },
    "tags": []
   },
   "source": [
    "# Saving all Variations in a Vector Store\n",
    "Now, our goal is to store the chunks and their respective variations in a vector store. During retrieval, the process begins by fetching the smaller chunks but then involves looking up the parent IDs for those chunks and returning the original chunk.\n",
    "\n",
    "A specialized vector store is designed for this purpose: the `RAGVectorStore`.\n",
    "It's not a standalone vector store but rather a wrapper for another vector store. When you add a document, the document undergoes transformation with the `parent_transformer`, and each chunk is enriched with various versions through the `chunk_transformer`. Each parameter is optional."
   ]
  },
  {
   "cell_type": "markdown",
   "id": "4d873d0e0c5f64d9",
   "metadata": {
    "collapsed": false,
    "editable": true,
    "jupyter": {
     "outputs_hidden": false
    },
    "slideshow": {
     "slide_type": ""
    },
    "tags": []
   },
   "source": [
    "## Build step by step\n",
    "First, we need to create some persistent components:\n",
    "- A standard vector store\n",
    "- A `Docstore` to store each original chunk returned by the *retriever* and the relationship between the document and chunks."
   ]
  },
  {
   "cell_type": "code",
   "execution_count": 17,
   "id": "dc155113-dd16-4c73-a13c-80d428bd7923",
   "metadata": {
    "ExecuteTime": {
     "end_time": "2023-11-07T08:04:36.993535865Z",
     "start_time": "2023-11-07T08:04:23.555522777Z"
    },
    "editable": true,
    "slideshow": {
     "slide_type": ""
    },
    "tags": []
   },
   "outputs": [],
   "source": [
    "from langchain.vectorstores import Chroma\n",
    "import chromadb.segment.impl.metadata.sqlite\n",
    "import chromadb.segment.impl.vector.local_persistent_hnsw\n",
    "chromadb.segment.impl.metadata.sqlite.logger.setLevel(logging.ERROR)\n",
    "chromadb.segment.impl.vector.local_persistent_hnsw.logger.setLevel(logging.ERROR)\n",
    "\n",
    "VS_PATH = ROOT_PATH + \"/vs\"\n",
    "chroma_vectorstore = Chroma(\n",
    "    collection_name=\"all_variations_of_chunks\",\n",
    "    embedding_function=embeddings,\n",
    "    persist_directory=VS_PATH,\n",
    ")"
   ]
  },
  {
   "cell_type": "code",
   "execution_count": 18,
   "id": "2d189e7e-3e59-43f0-9a8c-92fd7844c393",
   "metadata": {
    "ExecuteTime": {
     "end_time": "2023-11-07T08:04:37.073854784Z",
     "start_time": "2023-11-07T08:04:36.999149893Z"
    },
    "editable": true,
    "slideshow": {
     "slide_type": ""
    },
    "tags": []
   },
   "outputs": [],
   "source": [
    "DOCSTORE_PATH = ROOT_PATH + \"/chunks\"\n",
    "from langchain.storage import EncoderBackedStore,LocalFileStore\n",
    "import pickle\n",
    "\n",
    "docstore = EncoderBackedStore[str, Document](\n",
    "    store=LocalFileStore(root_path=DOCSTORE_PATH),\n",
    "    key_encoder=lambda x: x,\n",
    "    value_serializer=pickle.dumps,\n",
    "    value_deserializer=pickle.loads,\n",
    ")"
   ]
  },
  {
   "cell_type": "markdown",
   "id": "266663f2-bb6a-46dd-84cc-0ec67a5bf24e",
   "metadata": {
    "editable": true,
    "slideshow": {
     "slide_type": ""
    },
    "tags": []
   },
   "source": [
    "All documents must have a unique ID in their metadata. \n",
    "Then, it's possible to use the advanced `RAGVectorStore`. \n",
    "It's a wrapper around a standard vector store, specialized for managing different transformations and the lifecycle of documents."
   ]
  },
  {
   "cell_type": "code",
   "execution_count": 19,
   "id": "a4fafbad-c577-40ae-8543-a145d9ca7f89",
   "metadata": {
    "ExecuteTime": {
     "end_time": "2023-11-07T08:04:37.104918687Z",
     "start_time": "2023-11-07T08:04:37.044010878Z"
    },
    "editable": true,
    "slideshow": {
     "slide_type": ""
    },
    "tags": []
   },
   "outputs": [],
   "source": [
    "from langchain_rag.vectorstores import RAGVectorStore\n",
    "\n",
    "variation_k = 10\n",
    "rag_vectorstore = RAGVectorStore(\n",
    "    vectorstore=chroma_vectorstore,\n",
    "    docstore=docstore,\n",
    "    source_id_key=\"source\",  # Uniq id of documents\n",
    "    parent_transformer=parent_transformer,\n",
    "    chunk_transformer=chunk_transformer,\n",
    "    #search_kwargs={\"k\": variation_k},\n",
    ")"
   ]
  },
  {
   "cell_type": "markdown",
   "id": "2039782f-9f63-4885-be09-ba9f7555b2cb",
   "metadata": {
    "editable": true,
    "slideshow": {
     "slide_type": ""
    },
    "tags": []
   },
   "source": [
    "Now, it's time to add documents to this *special* vector store.\n",
    "- If the `parent_transformer` is set, the document is transformed into a new list of chunk documents (generally, this is a split phase).\n",
    "- Then, if the `chunk_transformer` is set, each chunk document is transformed to generate some variations.\n",
    "- Each transformation of all chunks is added to the destination vector store (in this case, it's referred to as \"chroma\").\n",
    "- All chunks are saved in the `Docstore` with the list of all associated variations.\n",
    "- All IDs of chunks generated for each document are saved in the `Docstore`. This makes it possible to remove the document and all associated chunks when needed.\n",
    "- `variation_k` variations is returned in the delegate vectorstore\n",
    "\n",
    "> This takes time, because the transformations are carried out when the documents are added. Among other things, an LLM must be invoked to produce a summary of each chunk."
   ]
  },
  {
   "cell_type": "code",
   "execution_count": 20,
   "id": "ecd8eba9-36aa-4ed6-b32d-a7eef48289a5",
   "metadata": {
    "ExecuteTime": {
     "end_time": "2023-11-07T08:05:02.443934619Z",
     "start_time": "2023-11-07T08:04:37.087990324Z"
    },
    "editable": true,
    "slideshow": {
     "slide_type": ""
    },
    "tags": []
   },
   "outputs": [
    {
     "data": {
      "text/plain": [
       "['6d90af33d816d1b2c2a2e9d277e72862ff076c265da2756ece7d15a517070f5f',\n",
       " '492c728729e2274e2af6984dbc84d61d52f4799b7215fe175ad2b4c483a95449',\n",
       " '59dd02283f9dcfdbb7cf7f1ae11dcbe986a8e2621aa92c5dbf31be9bc1b07d3b']"
      ]
     },
     "execution_count": 20,
     "metadata": {},
     "output_type": "execute_result"
    }
   ],
   "source": [
    "ids = rag_vectorstore.add_documents(documents)\n",
    "chroma_vectorstore.persist()\n",
    "ids"
   ]
  },
  {
   "cell_type": "markdown",
   "id": "805a0119fbd62cda",
   "metadata": {
    "collapsed": false,
    "editable": true,
    "jupyter": {
     "outputs_hidden": false
    },
    "slideshow": {
     "slide_type": ""
    },
    "tags": []
   },
   "source": [
    "While conducting the search, an embedding is computed for the query and subsequently compared to the embeddings of all the transformed chunks. The metadata for each transformed chunk contains a reference to the ID of the original chunk, allowing for the retrieval of the respective chunk."
   ]
  },
  {
   "cell_type": "markdown",
   "id": "a5c5c65eac9a6017",
   "metadata": {
    "collapsed": false,
    "jupyter": {
     "outputs_hidden": false
    }
   },
   "source": [
    "The IDs returned by `add_documents()` consist of a list of `document IDs`. You can utilize these IDs to remove all documents, related chunks and variations.\n",
    "\n",
    "When you examine the langchain API, you may wonder where to store the document IDs from the vector store."
   ]
  },
  {
   "cell_type": "code",
   "execution_count": 21,
   "id": "a15b4c8ac0660246",
   "metadata": {
    "ExecuteTime": {
     "end_time": "2023-11-07T08:05:02.809719832Z",
     "start_time": "2023-11-07T08:05:02.340261577Z"
    },
    "collapsed": false,
    "editable": true,
    "jupyter": {
     "outputs_hidden": false
    },
    "slideshow": {
     "slide_type": ""
    },
    "tags": []
   },
   "outputs": [
    {
     "name": "stdout",
     "output_type": "stream",
     "text": [
      "\u001b[94mChunk 1:\n",
      "Mathematics is an area of knowledge that includes the topics of numbers, formula...[:2623]\u001b[0m\n",
      "\u001b[92msource='https://en.wikipedia.org/wiki/Mathematics',\n",
      "_chunk_id='e4d947b5-4676-4eb6-926c-eea05f52447e'\u001b[0m\n",
      "----------------------------------------\n",
      "\u001b[94mChunk 2:\n",
      "Mathematics is an area of knowledge that includes the topics of numbers, formula...[:2623]\u001b[0m\n",
      "\u001b[92msource='https://en.wikipedia.org/wiki/Mathematics',\n",
      "_chunk_id='384ed35a-2d85-4705-acc1-f5b894666601'\u001b[0m\n",
      "----------------------------------------\n",
      "\u001b[94mChunk 3:\n",
      "== Etymology ==\n",
      "The word mathematics comes from Ancient Greek máthēma (μάθημα), ...[:3025]\u001b[0m\n",
      "\u001b[92msource='https://en.wikipedia.org/wiki/Mathematics',\n",
      "_chunk_id='f0269dbf-9c4c-498e-8779-02d2e401fc5f'\u001b[0m\n",
      "----------------------------------------\n",
      "\u001b[94mChunk 4:\n",
      "== Etymology ==\n",
      "The word mathematics comes from Ancient Greek máthēma (μάθημα), ...[:3025]\u001b[0m\n",
      "\u001b[92msource='https://en.wikipedia.org/wiki/Mathematics',\n",
      "_chunk_id='26c010c8-08b7-4e03-ab19-df4bf6c58ad2'\u001b[0m\n"
     ]
    }
   ],
   "source": [
    "pretty_print_docs(\n",
    "    rag_vectorstore.search(query=query, search_type=\"similarity\"),\n",
    "    [\"source\", \"_chunk_id\"],\n",
    "    kind=\"Chunk\",\n",
    ")"
   ]
  },
  {
   "cell_type": "markdown",
   "id": "9ed899bb-3582-44da-bbcb-b2b92e6f6eca",
   "metadata": {},
   "source": [
    "We can compare with and without chunks transformations."
   ]
  },
  {
   "cell_type": "code",
   "execution_count": 22,
   "id": "251fd284-e7fe-4940-9cad-4e2cf61824d7",
   "metadata": {},
   "outputs": [
    {
     "data": {
      "text/plain": [
       "['6d90af33d816d1b2c2a2e9d277e72862ff076c265da2756ece7d15a517070f5f',\n",
       " '492c728729e2274e2af6984dbc84d61d52f4799b7215fe175ad2b4c483a95449',\n",
       " '59dd02283f9dcfdbb7cf7f1ae11dcbe986a8e2621aa92c5dbf31be9bc1b07d3b']"
      ]
     },
     "execution_count": 22,
     "metadata": {},
     "output_type": "execute_result"
    }
   ],
   "source": [
    "# Create another RAGVectorStore in memory, to compare\n",
    "from langchain.storage.in_memory import InMemoryBaseStore\n",
    "\n",
    "rag_vectorstore_without_chunk_transformer = RAGVectorStore(\n",
    "    vectorstore=Chroma(\n",
    "        embedding_function=embeddings,\n",
    "    ),\n",
    "    docstore=InMemoryBaseStore(),\n",
    "    source_id_key=\"source\",  # Uniq id of documents\n",
    "    parent_transformer=parent_transformer,\n",
    "    chunk_transformer=None,\n",
    ")\n",
    "rag_vectorstore_without_chunk_transformer.add_documents(documents)"
   ]
  },
  {
   "cell_type": "code",
   "execution_count": 23,
   "id": "f23ad52eae299824",
   "metadata": {
    "ExecuteTime": {
     "end_time": "2023-11-07T08:05:13.241888129Z",
     "start_time": "2023-11-07T08:05:13.110065388Z"
    },
    "collapsed": false,
    "editable": true,
    "jupyter": {
     "outputs_hidden": false
    },
    "slideshow": {
     "slide_type": ""
    },
    "tags": []
   },
   "outputs": [],
   "source": [
    "# Delete documents, chunks and variations\n",
    "rag_vectorstore.delete(ids=ids)\n",
    "chroma_vectorstore.persist()"
   ]
  },
  {
   "cell_type": "markdown",
   "id": "96ba9eb40d3768f7",
   "metadata": {
    "collapsed": false,
    "editable": true,
    "jupyter": {
     "outputs_hidden": false
    },
    "slideshow": {
     "slide_type": ""
    },
    "tags": []
   },
   "source": [
    "# Index Vector Store\n",
    "To manage the lifecycle of the documents in the vector store, you can utilize an `index()`.\n",
    "A `RecordManager` can keep track of the evolution of each document. Use langchain `index()` to import the documents."
   ]
  },
  {
   "cell_type": "code",
   "execution_count": 24,
   "id": "6d3ea4486d47ea54",
   "metadata": {
    "ExecuteTime": {
     "end_time": "2023-11-07T08:05:15.019016282Z",
     "start_time": "2023-11-07T08:05:14.908310637Z"
    },
    "collapsed": false,
    "editable": true,
    "jupyter": {
     "outputs_hidden": false
    },
    "slideshow": {
     "slide_type": ""
    },
    "tags": []
   },
   "outputs": [],
   "source": [
    "from langchain.indexes import index, SQLRecordManager\n",
    "\n",
    "record_manager = SQLRecordManager(\n",
    "    namespace=\"record_manager_cache\", db_url=f\"sqlite:///{ROOT_PATH}/record_manager.db\"\n",
    ")\n",
    "record_manager.create_schema()"
   ]
  },
  {
   "cell_type": "code",
   "execution_count": 25,
   "id": "29511638aa0cf089",
   "metadata": {
    "ExecuteTime": {
     "end_time": "2023-11-07T08:05:16.808873792Z",
     "start_time": "2023-11-07T08:05:16.538123415Z"
    },
    "collapsed": false,
    "jupyter": {
     "outputs_hidden": false
    }
   },
   "outputs": [
    {
     "data": {
      "text/plain": [
       "{'num_added': 0, 'num_updated': 0, 'num_skipped': 3, 'num_deleted': 0}"
      ]
     },
     "execution_count": 25,
     "metadata": {},
     "output_type": "execute_result"
    }
   ],
   "source": [
    "# Save all the information in:\n",
    "# - record manager\n",
    "# - docstore\n",
    "# - vectorstore\n",
    "index_kwargs = {\n",
    "    \"record_manager\": record_manager,\n",
    "    \"vector_store\": rag_vectorstore,\n",
    "    \"source_id_key\": \"source\",\n",
    "}\n",
    "result = index(docs_source=documents, cleanup=\"incremental\", **index_kwargs)\n",
    "chroma_vectorstore.persist()\n",
    "result"
   ]
  },
  {
   "cell_type": "markdown",
   "id": "be721fb41e1d9103",
   "metadata": {
    "collapsed": false,
    "jupyter": {
     "outputs_hidden": false
    }
   },
   "source": [
    "## Alternative factory\n",
    "To simplify the creation of the persistance ecosystem, you can use the `from_vs_in_memory` method for in-memory usage only, and `from_vs_in_sql` for usage with SQL."
   ]
  },
  {
   "cell_type": "markdown",
   "id": "e98aaaa84ea1149c",
   "metadata": {
    "collapsed": false,
    "jupyter": {
     "outputs_hidden": false
    }
   },
   "source": [
    "```python\n",
    "rag_vectorstore, index_kwargs = RAGVectorStore.from_vs_in_memory(\n",
    "    vectorstore=chroma_vectorstore,\n",
    "    parent_transformer=parent_transformer,\n",
    "    chunk_transformer=chunk_transformer,\n",
    "    source_id_key=\"source\",\n",
    ")\n",
    "index(\n",
    "    docs_source=documents,\n",
    "    cleanup=\"incremental\",\n",
    "    **index_kwargs\n",
    ")\n",
    "```"
   ]
  },
  {
   "cell_type": "markdown",
   "id": "3a84d627e4f9eb33",
   "metadata": {
    "collapsed": false,
    "editable": true,
    "jupyter": {
     "outputs_hidden": false
    },
    "slideshow": {
     "slide_type": ""
    },
    "tags": []
   },
   "source": [
    "```python\n",
    "rag_vectorstore, index_kwargs = RAGVectorStore.from_vs_in_sql(\n",
    "    vectorstore=chroma_vectorstore,\n",
    "    parent_transformer=parent_transformer,\n",
    "    chunk_transformer=chunk_transformer,\n",
    "    source_id_key=\"source\",\n",
    "    db_url=f\"sqlite:///{ROOT_PATH}/record_manager.db\",\n",
    ")\n",
    "index(\n",
    "    docs_source=documents,\n",
    "    cleanup=\"incremental\",\n",
    "    **index_kwargs\n",
    ")\n",
    "```"
   ]
  },
  {
   "cell_type": "markdown",
   "id": "d95ff9c58b897997",
   "metadata": {
    "collapsed": false,
    "jupyter": {
     "outputs_hidden": false
    }
   },
   "source": [
    "If you import the same documents, you will notice that all documents are skipped. \n",
    "> Without using `index()`, in a classical vector store, the same document will be present twice. This has the same effect as dividing the `top_k` by two during the search! Because 2 different documents with the same content are returned by the vectorstore."
   ]
  },
  {
   "cell_type": "code",
   "execution_count": 26,
   "id": "ea7c3fdc0ec4c5fd",
   "metadata": {
    "ExecuteTime": {
     "end_time": "2023-11-07T08:05:25.489420077Z",
     "start_time": "2023-11-07T08:05:25.387303162Z"
    },
    "collapsed": false,
    "jupyter": {
     "outputs_hidden": false
    }
   },
   "outputs": [
    {
     "data": {
      "text/plain": [
       "{'num_added': 0, 'num_updated': 0, 'num_skipped': 3, 'num_deleted': 0}"
      ]
     },
     "execution_count": 26,
     "metadata": {},
     "output_type": "execute_result"
    }
   ],
   "source": [
    "result = index(docs_source=documents, cleanup=\"incremental\", **index_kwargs)\n",
    "chroma_vectorstore.persist()\n",
    "result"
   ]
  },
  {
   "cell_type": "markdown",
   "id": "e4926718dd8c6b87",
   "metadata": {
    "collapsed": false,
    "jupyter": {
     "outputs_hidden": false
    }
   },
   "source": [
    "If your document is changed, the previous version is deleted.\n",
    "> **Note:** Only the updated document is transformed ! So you save on treatments."
   ]
  },
  {
   "cell_type": "code",
   "execution_count": 27,
   "id": "892dd66e8de8dc70",
   "metadata": {
    "ExecuteTime": {
     "end_time": "2023-11-07T08:05:29.866292849Z",
     "start_time": "2023-11-07T08:05:27.314901745Z"
    },
    "collapsed": false,
    "jupyter": {
     "outputs_hidden": false
    }
   },
   "outputs": [
    {
     "data": {
      "text/plain": [
       "{'num_added': 1, 'num_updated': 0, 'num_skipped': 2, 'num_deleted': 1}"
      ]
     },
     "execution_count": 27,
     "metadata": {},
     "output_type": "execute_result"
    }
   ],
   "source": [
    "documents[0].page_content += \" Is changed.\"\n",
    "result = index(docs_source=documents, cleanup=\"incremental\", **index_kwargs)\n",
    "chroma_vectorstore.persist()\n",
    "result"
   ]
  },
  {
   "cell_type": "markdown",
   "id": "348aa8c04f101a3b",
   "metadata": {
    "collapsed": false,
    "jupyter": {
     "outputs_hidden": false
    }
   },
   "source": [
    "To delete the old records, use the `full` strategy."
   ]
  },
  {
   "cell_type": "code",
   "execution_count": 28,
   "id": "849c68d044cfeef5",
   "metadata": {
    "ExecuteTime": {
     "end_time": "2023-11-07T08:05:32.436953786Z",
     "start_time": "2023-11-07T08:05:32.349266936Z"
    },
    "collapsed": false,
    "jupyter": {
     "outputs_hidden": false
    }
   },
   "outputs": [
    {
     "data": {
      "text/plain": [
       "{'num_added': 0, 'num_updated': 0, 'num_skipped': 2, 'num_deleted': 1}"
      ]
     },
     "execution_count": 28,
     "metadata": {},
     "output_type": "execute_result"
    }
   ],
   "source": [
    "del documents[-1]\n",
    "result = index(docs_source=documents, cleanup=\"full\", **index_kwargs)\n",
    "chroma_vectorstore.persist()\n",
    "result"
   ]
  },
  {
   "cell_type": "markdown",
   "id": "372d1a1a-6ca2-490d-9086-5ecf221981a4",
   "metadata": {},
   "source": [
    "To delete the all records, use the full strategy and an empty list."
   ]
  },
  {
   "cell_type": "code",
   "execution_count": 29,
   "id": "f3dbd925-fb40-4a1f-887d-b3cdfce8019d",
   "metadata": {},
   "outputs": [
    {
     "data": {
      "text/plain": [
       "{'num_added': 0, 'num_updated': 0, 'num_skipped': 0, 'num_deleted': 2}"
      ]
     },
     "execution_count": 29,
     "metadata": {},
     "output_type": "execute_result"
    }
   ],
   "source": [
    "result = index(docs_source=[], cleanup=\"full\", **index_kwargs)\n",
    "chroma_vectorstore.persist()\n",
    "result"
   ]
  },
  {
   "cell_type": "code",
   "execution_count": 30,
   "id": "fb9d91de-2c2d-4171-9fc0-99a0ed631e2b",
   "metadata": {},
   "outputs": [
    {
     "data": {
      "text/plain": [
       "{'num_added': 2, 'num_updated': 0, 'num_skipped': 0, 'num_deleted': 0}"
      ]
     },
     "execution_count": 30,
     "metadata": {},
     "output_type": "execute_result"
    }
   ],
   "source": [
    "# Re-import all documents\n",
    "result = index(docs_source=documents, cleanup=\"incremental\", **index_kwargs)\n",
    "chroma_vectorstore.persist()\n",
    "result"
   ]
  },
  {
   "cell_type": "markdown",
   "id": "53ec51edafcdd6d2",
   "metadata": {
    "collapsed": false,
    "jupyter": {
     "outputs_hidden": false
    }
   },
   "source": [
    "It's important to note that there are three ways to save parts of the data:\n",
    "\n",
    "- In the *vector store*: this includes the bucket, metadata, and the associated embedding vectors.\n",
    "- In the *doc store*: this covers the original bucket and the relationship between parent and chunks before the *chunk transformations*.\n",
    "- In the *SQLRecordManager*: this involves the references of the parent document or chunks.\n",
    "\n",
    "> **Note:** Each source does not manage transactions. If a problem occurs while adding a document, it is highly likely that the sources will be inconsistent."
   ]
  },
  {
   "cell_type": "markdown",
   "id": "2981b01e756e9096",
   "metadata": {
    "collapsed": false,
    "jupyter": {
     "outputs_hidden": false
    }
   },
   "source": [
    "# Use advanced retrievers\n",
    "Just like with the standard vector store, you can convert the `RAGVectorStore` into a `Retriever`."
   ]
  },
  {
   "cell_type": "code",
   "execution_count": 31,
   "id": "ec70b4b3dcc80eb8",
   "metadata": {
    "ExecuteTime": {
     "end_time": "2023-11-07T08:05:38.615637927Z",
     "start_time": "2023-11-07T08:05:38.175162770Z"
    },
    "collapsed": false,
    "editable": true,
    "jupyter": {
     "outputs_hidden": false
    },
    "slideshow": {
     "slide_type": ""
    },
    "tags": []
   },
   "outputs": [
    {
     "name": "stdout",
     "output_type": "stream",
     "text": [
      "\u001b[94mChunk 1:\n",
      "Mathematics is an area of knowledge that includes the topics of numbers, formula...[:2623]\u001b[0m\n",
      "\u001b[92msource='https://en.wikipedia.org/wiki/Mathematics',\n",
      "_chunk_id='9261d71a-62a2-485b-952a-a64bd80bfc32'\u001b[0m\n",
      "----------------------------------------\n",
      "\u001b[94mChunk 2:\n",
      "== Etymology ==\n",
      "The word mathematics comes from Ancient Greek máthēma (μάθημα), ...[:3025]\u001b[0m\n",
      "\u001b[92msource='https://en.wikipedia.org/wiki/Mathematics',\n",
      "_chunk_id='0cf3a858-85eb-4ef6-ba70-531bfd2267e1'\u001b[0m\n",
      "----------------------------------------\n",
      "\u001b[94mChunk 3:\n",
      "The history of mathematics deals with the origin of discoveries in mathematics a...[:3018]\u001b[0m\n",
      "\u001b[92msource='https://en.wikipedia.org/wiki/History_of_mathematics',\n",
      "_chunk_id='99a8d515-c7ca-4d59-ab53-9b3f07b70b88'\u001b[0m\n"
     ]
    }
   ],
   "source": [
    "rag_retriever = rag_vectorstore.as_retriever()\n",
    "selected_chunks = rag_retriever.get_relevant_documents(query)\n",
    "pretty_print_docs(selected_chunks, [\"source\", \"_chunk_id\"], \"Chunk\")"
   ]
  },
  {
   "cell_type": "markdown",
   "id": "4d79dba17a046faa",
   "metadata": {
    "collapsed": false,
    "editable": true,
    "jupyter": {
     "outputs_hidden": false
    },
    "slideshow": {
     "slide_type": ""
    },
    "tags": []
   },
   "source": [
    "# Specialized Retrievers\n",
    "It's possible to combine multiple retrievers or use specialized retrievers for advanced applications."
   ]
  },
  {
   "cell_type": "markdown",
   "id": "da5f219067ca4a98",
   "metadata": {
    "collapsed": false,
    "jupyter": {
     "outputs_hidden": false
    }
   },
   "source": [
    "## SelfQueryRetriever\n",
    "The `SelfQueryRetriever` can generate a metadata filter. We use it to provide the option to filter the chunks by the title of the original document."
   ]
  },
  {
   "cell_type": "code",
   "execution_count": 32,
   "id": "d3b8ab4707aef773",
   "metadata": {
    "ExecuteTime": {
     "end_time": "2023-11-07T08:05:42.427426818Z",
     "start_time": "2023-11-07T08:05:41.137292364Z"
    },
    "collapsed": false,
    "jupyter": {
     "outputs_hidden": false
    }
   },
   "outputs": [
    {
     "name": "stdout",
     "output_type": "stream",
     "text": [
      "\u001b[94mChunk 1:\n",
      "The history of mathematics deals with the origin of discoveries in mathematics a...[:3018]\u001b[0m\n",
      "\u001b[92mtitle='History of mathematics'\u001b[0m\n",
      "----------------------------------------\n",
      "\u001b[94mChunk 2:\n",
      "== Prehistoric ==\n",
      "The origins of mathematical thought lie in the concepts of num...[:1926]\u001b[0m\n",
      "\u001b[92mtitle='History of mathematics'\u001b[0m\n",
      "----------------------------------------\n",
      "\u001b[94mChunk 3:\n",
      "== Babylonian ==\n",
      "\n",
      "Babylonian mathematics refers to any mathematics of the people...[:599]\u001b[0m\n",
      "\u001b[92mtitle='History of mathematics'\u001b[0m\n"
     ]
    }
   ],
   "source": [
    "from langchain.chains.query_constructor.schema import AttributeInfo\n",
    "from langchain.retrievers.self_query.base import SelfQueryRetriever\n",
    "\n",
    "metadata_field_info = [\n",
    "    AttributeInfo(\n",
    "        name=\"title\",\n",
    "        description=\"The title of the document.\",\n",
    "        type=\"string\",\n",
    "    ),\n",
    "]\n",
    "document_content_description = \"Documents on mathematics\"\n",
    "self_retriever = SelfQueryRetriever.from_llm(\n",
    "    llm,\n",
    "    rag_vectorstore,\n",
    "    document_content_description,\n",
    "    metadata_field_info,\n",
    "    use_original_query=True,\n",
    "    verbose=True,\n",
    ")\n",
    "\n",
    "pretty_print_docs(\n",
    "    self_retriever.get_relevant_documents(\n",
    "        \"In the document 'History of mathematics', \" + query\n",
    "    ),\n",
    "    [\"title\"],\n",
    "    kind=\"Chunk\",\n",
    ")"
   ]
  },
  {
   "cell_type": "markdown",
   "id": "715f98bdc3a46341",
   "metadata": {
    "collapsed": false,
    "jupyter": {
     "outputs_hidden": false
    }
   },
   "source": [
    "> **Note:** We set `use_original_query` because, otherwise, the question can be modified if there is no filter on the metadata to be applied. Which is irrelevant (see [ticket](https://github.com/langchain-ai/langchain/pull/9309) )"
   ]
  },
  {
   "cell_type": "markdown",
   "id": "161e243eadf938e2",
   "metadata": {
    "collapsed": false,
    "jupyter": {
     "outputs_hidden": false
    }
   },
   "source": [
    "## MergerRetriever\n",
    "With filter, we can obtain a retriever specialized in summaries. But then you have to use chroma directly, in order to query the variations."
   ]
  },
  {
   "cell_type": "code",
   "execution_count": 33,
   "id": "29aca35b60b7c847",
   "metadata": {
    "ExecuteTime": {
     "end_time": "2023-11-07T08:05:44.755742366Z",
     "start_time": "2023-11-07T08:05:44.459787863Z"
    },
    "collapsed": false,
    "editable": true,
    "jupyter": {
     "outputs_hidden": false
    },
    "slideshow": {
     "slide_type": ""
    },
    "tags": []
   },
   "outputs": [
    {
     "name": "stdout",
     "output_type": "stream",
     "text": [
      "\u001b[94mVariations 1:\n",
      "SUMMARY:\n",
      "Mathematics is a complex and diverse field of study that encompasses nu...[:407]\u001b[0m\n",
      "\u001b[92mtransformer='SummarizeTransformer'\u001b[0m\n",
      "----------------------------------------\n",
      "\u001b[94mVariations 2:\n",
      "SUMMARY:\n",
      "The word mathematics comes from the Ancient Greek word máthēma, meaning...[:527]\u001b[0m\n",
      "\u001b[92mtransformer='SummarizeTransformer'\u001b[0m\n",
      "----------------------------------------\n",
      "\u001b[94mVariations 3:\n",
      "SUMMARY:\n",
      "Number theory is the study of numbers, including natural numbers, integ...[:623]\u001b[0m\n",
      "\u001b[92mtransformer='SummarizeTransformer'\u001b[0m\n",
      "----------------------------------------\n",
      "\u001b[94mVariations 4:\n",
      "SUMMARY:\n",
      "The history of mathematics is the study of its origins, methods, and no...[:680]\u001b[0m\n",
      "\u001b[92mtransformer='SummarizeTransformer'\u001b[0m\n"
     ]
    }
   ],
   "source": [
    "summary_retriever = chroma_vectorstore.as_retriever(\n",
    "    search_kwargs={\"filter\": {\"transformer\": {\"$in\": ['SummarizeTransformer']}}}\n",
    ")\n",
    "pretty_print_docs(summary_retriever.get_relevant_documents(query), [\"transformer\"])"
   ]
  },
  {
   "cell_type": "markdown",
   "id": "30c261a17c2a969d",
   "metadata": {
    "collapsed": false,
    "jupyter": {
     "outputs_hidden": false
    }
   },
   "source": [
    "Just for the demo, we will combine it with the chunk retriever."
   ]
  },
  {
   "cell_type": "code",
   "execution_count": 34,
   "id": "5bdf6111bcbfc6c2",
   "metadata": {
    "ExecuteTime": {
     "end_time": "2023-11-07T08:05:49.101813406Z",
     "start_time": "2023-11-07T08:05:48.095294103Z"
    },
    "collapsed": false,
    "jupyter": {
     "outputs_hidden": false
    }
   },
   "outputs": [
    {
     "name": "stdout",
     "output_type": "stream",
     "text": [
      "\u001b[94mChunk 1:\n",
      "Mathematics is an area of knowledge that includes the topics of numbers, formula...[:2623]\u001b[0m\n",
      "\u001b[92mtransformer=None\u001b[0m\n",
      "----------------------------------------\n",
      "\u001b[94mChunk 2:\n",
      "SUMMARY:\n",
      "Mathematics is a complex and diverse field of study that encompasses nu...[:407]\u001b[0m\n",
      "\u001b[92mtransformer='SummarizeTransformer'\u001b[0m\n",
      "----------------------------------------\n",
      "\u001b[94mChunk 3:\n",
      "== Etymology ==\n",
      "The word mathematics comes from Ancient Greek máthēma (μάθημα), ...[:3025]\u001b[0m\n",
      "\u001b[92mtransformer=None\u001b[0m\n",
      "----------------------------------------\n",
      "\u001b[94mChunk 4:\n",
      "SUMMARY:\n",
      "The word mathematics comes from the Ancient Greek word máthēma, meaning...[:527]\u001b[0m\n",
      "\u001b[92mtransformer='SummarizeTransformer'\u001b[0m\n",
      "----------------------------------------\n",
      "\u001b[94mChunk 5:\n",
      "The history of mathematics deals with the origin of discoveries in mathematics a...[:3018]\u001b[0m\n",
      "\u001b[92mtransformer=None\u001b[0m\n",
      "----------------------------------------\n",
      "\u001b[94mChunk 6:\n",
      "SUMMARY:\n",
      "Number theory is the study of numbers, including natural numbers, integ...[:623]\u001b[0m\n",
      "\u001b[92mtransformer='SummarizeTransformer'\u001b[0m\n",
      "----------------------------------------\n",
      "\u001b[94mChunk 7:\n",
      "SUMMARY:\n",
      "The history of mathematics is the study of its origins, methods, and no...[:680]\u001b[0m\n",
      "\u001b[92mtransformer='SummarizeTransformer'\u001b[0m\n"
     ]
    }
   ],
   "source": [
    "from langchain.retrievers.merger_retriever import MergerRetriever\n",
    "\n",
    "merge_retriever = MergerRetriever(retrievers=[self_retriever, summary_retriever])\n",
    "pretty_print_docs(\n",
    "    merge_retriever.get_relevant_documents(query), [\"transformer\"], kind=\"Chunk\"\n",
    ")"
   ]
  },
  {
   "cell_type": "markdown",
   "id": "5577ae97cec80e50",
   "metadata": {
    "collapsed": false,
    "jupyter": {
     "outputs_hidden": false
    }
   },
   "source": [
    "## MultiQueryRetriever\n",
    "Retrieval results may vary with minor changes in query phrasing or if the embeddings do not accurately capture the data's semantics. The `MultiQueryRetriever` streamlines the prompt-tuning process by employing an LLM to generate multiple queries from diverse perspectives based on a user input query. For each query, it retrieves a collection of pertinent documents and combines the unique results from all queries to obtain a larger set of potentially relevant documents."
   ]
  },
  {
   "cell_type": "code",
   "execution_count": 35,
   "id": "a3be992243890cc9",
   "metadata": {
    "ExecuteTime": {
     "end_time": "2023-11-07T08:05:53.976165884Z",
     "start_time": "2023-11-07T08:05:49.950948885Z"
    },
    "collapsed": false,
    "editable": true,
    "jupyter": {
     "outputs_hidden": false
    },
    "slideshow": {
     "slide_type": ""
    },
    "tags": []
   },
   "outputs": [
    {
     "name": "stderr",
     "output_type": "stream",
     "text": [
      "INFO:langchain.retrievers.multi_query:Generated queries: ['1. How does pure mathematics differ from applied mathematics?', '2. Can you explain the distinction between pure and applied mathematics?', '3. In what ways are pure and applied mathematics different?']\n"
     ]
    },
    {
     "name": "stdout",
     "output_type": "stream",
     "text": [
      "\u001b[94mChunk 1:\n",
      "Mathematics is an area of knowledge that includes the topics of numbers, formula...[:2623]\u001b[0m\n",
      "\u001b[92mtransformer=None\u001b[0m\n",
      "----------------------------------------\n",
      "\u001b[94mChunk 2:\n",
      "SUMMARY:\n",
      "Mathematics is a complex and diverse field of study that encompasses nu...[:407]\u001b[0m\n",
      "\u001b[92mtransformer='SummarizeTransformer'\u001b[0m\n",
      "----------------------------------------\n",
      "\u001b[94mChunk 3:\n",
      "== Etymology ==\n",
      "The word mathematics comes from Ancient Greek máthēma (μάθημα), ...[:3025]\u001b[0m\n",
      "\u001b[92mtransformer=None\u001b[0m\n",
      "----------------------------------------\n",
      "\u001b[94mChunk 4:\n",
      "SUMMARY:\n",
      "The word mathematics comes from the Ancient Greek word máthēma, meaning...[:527]\u001b[0m\n",
      "\u001b[92mtransformer='SummarizeTransformer'\u001b[0m\n",
      "----------------------------------------\n",
      "\u001b[94mChunk 5:\n",
      "The history of mathematics deals with the origin of discoveries in mathematics a...[:3018]\u001b[0m\n",
      "\u001b[92mtransformer=None\u001b[0m\n",
      "----------------------------------------\n",
      "\u001b[94mChunk 6:\n",
      "SUMMARY:\n",
      "Number theory is the study of numbers, including natural numbers, integ...[:623]\u001b[0m\n",
      "\u001b[92mtransformer='SummarizeTransformer'\u001b[0m\n",
      "----------------------------------------\n",
      "\u001b[94mChunk 7:\n",
      "SUMMARY:\n",
      "The history of mathematics is the study of its origins, methods, and no...[:680]\u001b[0m\n",
      "\u001b[92mtransformer='SummarizeTransformer'\u001b[0m\n",
      "----------------------------------------\n",
      "\u001b[94mChunk 8:\n",
      "== Prehistoric ==\n",
      "The origins of mathematical thought lie in the concepts of num...[:1926]\u001b[0m\n",
      "\u001b[92mtransformer=None\u001b[0m\n"
     ]
    }
   ],
   "source": [
    "from langchain.retrievers.multi_query import MultiQueryRetriever,logger\n",
    "logger.setLevel(logging.INFO)\n",
    "\n",
    "query = \"What is the difference between pure and applied mathematics?\"\n",
    "\n",
    "# Generate 3 questions from the user questions, and these version to find a better candidats in vectorstore\n",
    "multi_query_retriever = MultiQueryRetriever.from_llm(\n",
    "    llm=llm,\n",
    "    retriever=merge_retriever,\n",
    ")\n",
    "\n",
    "pretty_print_docs(multi_query_retriever.get_relevant_documents(query), [\"transformer\"],kind=\"Chunk\")\n",
    "final_retriever = multi_query_retriever"
   ]
  },
  {
   "cell_type": "markdown",
   "id": "ee7c70d5449684d8",
   "metadata": {
    "collapsed": false,
    "jupyter": {
     "outputs_hidden": false
    }
   },
   "source": [
    "## Others...\n",
    "Other strategies can be added. This depends on the project, and above all on their relevance to the quality of the documents handled.\n",
    "\n",
    "- The `EnsembleRetriever` takes a list of retrievers as input and ensemble the results of their `get_relevant_documents()` methods and rerank the results based on the [Reciprocal Rank Fusion algorithm](https://plg.uwaterloo.ca/~gvcormac/cormacksigir09-rrf.pdf).\n",
    "- ..."
   ]
  },
  {
   "cell_type": "markdown",
   "id": "3369a18f602a1b83",
   "metadata": {
    "collapsed": false,
    "jupyter": {
     "outputs_hidden": false
    }
   },
   "source": [
    "At this stage, when we employ the retriever:\n",
    "\n",
    "- Multiple queries are generated to locate the relevant documents (via `multi_query_retriever`).\n",
    "- For each query:\n",
    "    - Variations are used for better selection of chunks (via ̀`RagVectorstore`)\n",
    "    - Both the original chunk and the chunk summary are retrieved (via `MergeRetriever`).\n",
    "    - If feasible, a metadata filter is applied (via `SelfQueryRetriever`)\n",
    "- Only this selected candidate can be used to answer a question."
   ]
  },
  {
   "cell_type": "markdown",
   "id": "e231bfd97367dc51",
   "metadata": {
    "collapsed": false,
    "jupyter": {
     "outputs_hidden": false
    }
   },
   "source": [
    "# Use a compressor\n",
    "It's possible to use a *compressor*, to filter the selection, and reduce the volume of each chunks.\n",
    "\n",
    "You can combine some filters in a pipeline.\n",
    "- The [EmbeddingsFilter](https://python.langchain.com/docs/modules/data_connection/retrievers/contextual_compression#embeddingsfilter) can add a similarity threshold between the query and documents\n",
    "- The [CohereRerank](https://python.langchain.com/docs/integrations/retrievers/cohere-reranker) can re-rank the chunks (Need API key).\n",
    "- The [LLMChainFilter](https://python.langchain.com/docs/modules/data_connection/retrievers/contextual_compression#llmchainfilter) decide which of the initially retrieved documents to filter out and which ones to return, without manipulating the document contents.\n",
    "- THe [LongContextReorder](https://python.langchain.com/docs/integrations/retrievers/merger_retriever#re-order-results-to-avoid-performance-degradation) to reorder the selected documents\n",
    "- ..."
   ]
  },
  {
   "cell_type": "code",
   "execution_count": 36,
   "id": "67cbede89e25ee4",
   "metadata": {
    "ExecuteTime": {
     "start_time": "2023-11-07T07:41:47.403950808Z"
    },
    "collapsed": false,
    "jupyter": {
     "outputs_hidden": false
    }
   },
   "outputs": [],
   "source": [
    "#! pip install -q simsimd\n",
    "from langchain.retrievers.document_compressors import EmbeddingsFilter\n",
    "\n",
    "embeddings_filter = EmbeddingsFilter(\n",
    "    embeddings=embeddings,\n",
    "    similarity_threshold=0.7,  # Threshold for determining when two documents are redundant.\n",
    ")"
   ]
  },
  {
   "cell_type": "code",
   "execution_count": 37,
   "id": "fd165fb056847283",
   "metadata": {
    "ExecuteTime": {
     "start_time": "2023-11-07T07:41:47.404023357Z"
    },
    "collapsed": false,
    "jupyter": {
     "outputs_hidden": false
    }
   },
   "outputs": [],
   "source": [
    "from langchain_community.document_transformers import LongContextReorder\n",
    "\n",
    "long_context_reorder = LongContextReorder()"
   ]
  },
  {
   "cell_type": "code",
   "execution_count": 38,
   "id": "2d1371cafbc000ab",
   "metadata": {
    "ExecuteTime": {
     "start_time": "2023-11-07T07:41:47.404094104Z"
    },
    "collapsed": false,
    "jupyter": {
     "outputs_hidden": false
    }
   },
   "outputs": [],
   "source": [
    "# Combine compressors\n",
    "from langchain.retrievers.document_compressors import DocumentCompressorPipeline\n",
    "\n",
    "compressor = DocumentCompressorPipeline(\n",
    "    transformers=[\n",
    "        # embeddings_filter, # Deactivated, so as not to conflict with RAGVectorstore\n",
    "        long_context_reorder,\n",
    "    ]\n",
    ")"
   ]
  },
  {
   "cell_type": "markdown",
   "id": "4784853ec5a5e5b5",
   "metadata": {
    "collapsed": false,
    "jupyter": {
     "outputs_hidden": false
    }
   },
   "source": [
    "> **Note:** We do not use `embeddings_filter`, because a fragment can have a proximity < 0.7, but one of its variations a higher proximity. We want to keep the fragment in this case."
   ]
  },
  {
   "cell_type": "markdown",
   "id": "a10c8c0a080849fd",
   "metadata": {
    "collapsed": false,
    "jupyter": {
     "outputs_hidden": false
    }
   },
   "source": [
    "Now, we can add a filter with our pipeline."
   ]
  },
  {
   "cell_type": "code",
   "execution_count": 39,
   "id": "537aa32a60d7b71d",
   "metadata": {
    "ExecuteTime": {
     "start_time": "2023-11-07T07:41:47.404164493Z"
    },
    "collapsed": false,
    "editable": true,
    "jupyter": {
     "outputs_hidden": false
    },
    "slideshow": {
     "slide_type": ""
    },
    "tags": []
   },
   "outputs": [
    {
     "name": "stderr",
     "output_type": "stream",
     "text": [
      "INFO:langchain.retrievers.multi_query:Generated queries: ['1. How does pure mathematics differ from applied mathematics?', '2. Can you explain the distinction between pure and applied mathematics?', '3. In what ways are pure and applied mathematics different?']\n"
     ]
    },
    {
     "name": "stdout",
     "output_type": "stream",
     "text": [
      "\u001b[94mVariations 1:\n",
      "SUMMARY:\n",
      "Mathematics is a complex and diverse field of study that encompasses nu...[:407]\u001b[0m\n",
      "----------------------------------------\n",
      "\u001b[94mVariations 2:\n",
      "SUMMARY:\n",
      "The word mathematics comes from the Ancient Greek word máthēma, meaning...[:527]\u001b[0m\n",
      "----------------------------------------\n",
      "\u001b[94mVariations 3:\n",
      "SUMMARY:\n",
      "Number theory is the study of numbers, including natural numbers, integ...[:623]\u001b[0m\n",
      "----------------------------------------\n",
      "\u001b[94mVariations 4:\n",
      "== Prehistoric ==\n",
      "The origins of mathematical thought lie in the concepts of num...[:1926]\u001b[0m\n",
      "----------------------------------------\n",
      "\u001b[94mVariations 5:\n",
      "SUMMARY:\n",
      "The history of mathematics is the study of its origins, methods, and no...[:680]\u001b[0m\n",
      "----------------------------------------\n",
      "\u001b[94mVariations 6:\n",
      "The history of mathematics deals with the origin of discoveries in mathematics a...[:3018]\u001b[0m\n",
      "----------------------------------------\n",
      "\u001b[94mVariations 7:\n",
      "== Etymology ==\n",
      "The word mathematics comes from Ancient Greek máthēma (μάθημα), ...[:3025]\u001b[0m\n",
      "----------------------------------------\n",
      "\u001b[94mVariations 8:\n",
      "Mathematics is an area of knowledge that includes the topics of numbers, formula...[:2623]\u001b[0m\n"
     ]
    }
   ],
   "source": [
    "from langchain.retrievers import ContextualCompressionRetriever\n",
    "\n",
    "query = \"What is the difference between pure and applied mathematics?\"\n",
    "\n",
    "compression_retriever = ContextualCompressionRetriever(\n",
    "    base_compressor=compressor, base_retriever=multi_query_retriever\n",
    ")\n",
    "\n",
    "pretty_print_docs(compression_retriever.get_relevant_documents(query))"
   ]
  },
  {
   "cell_type": "code",
   "execution_count": 40,
   "id": "c613c2674527f644",
   "metadata": {
    "ExecuteTime": {
     "end_time": "2023-11-07T07:41:47.517405275Z",
     "start_time": "2023-11-07T07:41:47.450639283Z"
    },
    "collapsed": false,
    "jupyter": {
     "outputs_hidden": false
    }
   },
   "outputs": [],
   "source": [
    "final_retriever = compression_retriever"
   ]
  },
  {
   "cell_type": "markdown",
   "id": "169c4be830f438ca",
   "metadata": {
    "collapsed": false,
    "jupyter": {
     "outputs_hidden": false
    }
   },
   "source": [
    "The final map is:\n",
    "\n",
    "![Chain of retrievers](plantuml/all_retrievers.png)"
   ]
  },
  {
   "cell_type": "markdown",
   "id": "13e195db90457352",
   "metadata": {
    "collapsed": false,
    "jupyter": {
     "outputs_hidden": false
    }
   },
   "source": [
    "# Asking a Question\n",
    "\n",
    "Now, it's possible to utilize this architecture to pose a question. We hope that all these optimisations will lead to a better selection of chunks, based on the user's question."
   ]
  },
  {
   "cell_type": "markdown",
   "id": "e146b3fb5aa1a8c4",
   "metadata": {
    "collapsed": false,
    "jupyter": {
     "outputs_hidden": false
    }
   },
   "source": [
    "A problem can arise if the number of documents to be analysed is too large for the size of the prompt.\n",
    "Several strategies are available to manage this, identified by the \n",
    "[`chain_type`](https://python.langchain.com/docs/use_cases/question_answering/vector_db_qa#chain-type) parameter.\n",
    "\n",
    "> **Note 1**: The version `load_qa_chain()` and `RetrievalQAWithSourcesChain` are subject to hallucinations. They can respond without using the documents provided. This is not the case for `RetrievalQAWithReferencesChain` and `RetrievalQAWithReferencesAndVerbatimsChain`.\n",
    "\n",
    "> **Note 2**: The `map_reduce` chain type, use an approach similar to *compressor*, but working recursively to keep the number of tokens below a threshold. "
   ]
  },
  {
   "cell_type": "code",
   "execution_count": 41,
   "id": "528d6cea511e95c6",
   "metadata": {
    "ExecuteTime": {
     "start_time": "2023-11-07T07:41:47.450908550Z"
    },
    "collapsed": false,
    "editable": true,
    "jupyter": {
     "outputs_hidden": false
    },
    "slideshow": {
     "slide_type": ""
    },
    "tags": []
   },
   "outputs": [
    {
     "name": "stderr",
     "output_type": "stream",
     "text": [
      "INFO:langchain.retrievers.multi_query:Generated queries: ['1. How does pure mathematics differ from applied mathematics?', '2. Can you explain the distinction between pure and applied mathematics?', '3. In what ways are pure and applied mathematics different?']\n"
     ]
    },
    {
     "name": "stdout",
     "output_type": "stream",
     "text": [
      " The difference between pure and applied mathematics is that pure mathematics focuses on abstract concepts and structures, while applied mathematics uses mathematical methods to solve real-world problems.\n"
     ]
    }
   ],
   "source": [
    "from langchain.chains.question_answering import load_qa_chain\n",
    "query = \"What is the difference between pure and applied mathematics?\"\n",
    "\n",
    "chain = load_qa_chain(\n",
    "    llm,\n",
    "    \n",
    "    chain_type=\"map_reduce\",  # \"stuff\", \"map_reduce\", \"refine\", \"map_rerank\"\n",
    ")\n",
    "result = chain.invoke(\n",
    "    {\n",
    "        \"input_documents\": final_retriever.get_relevant_documents(query),\n",
    "        \"question\": query,\n",
    "    },\n",
    "    callbacks=CALLBACKS,\n",
    ")\n",
    "print(result[\"output_text\"])"
   ]
  },
  {
   "cell_type": "markdown",
   "id": "c5178548aed66397",
   "metadata": {
    "collapsed": false,
    "jupyter": {
     "outputs_hidden": false
    }
   },
   "source": [
    "If the documents have `sources` and the URLs are not too large, you can use `RetrievalQAWithSourcesChain`."
   ]
  },
  {
   "cell_type": "code",
   "execution_count": 42,
   "id": "82d24ebb6d278bac",
   "metadata": {
    "ExecuteTime": {
     "start_time": "2023-11-07T07:41:47.451007431Z"
    },
    "collapsed": false,
    "jupyter": {
     "outputs_hidden": false
    }
   },
   "outputs": [
    {
     "name": "stderr",
     "output_type": "stream",
     "text": [
      "INFO:langchain.retrievers.multi_query:Generated queries: ['1. How does pure mathematics differ from applied mathematics?', '2. Can you explain the distinction between pure and applied mathematics?', '3. In what ways are pure and applied mathematics different?']\n"
     ]
    },
    {
     "name": "stdout",
     "output_type": "stream",
     "text": [
      " Pure mathematics is the study of abstract concepts and structures, while applied mathematics is the use of mathematical methods to solve real-world problems. Pure mathematics is more theoretical, while applied mathematics is more practical. \n",
      "\n",
      "\u001b[92mhttps://en.wikipedia.org/wiki/Mathematics\u001b[0m\n"
     ]
    }
   ],
   "source": [
    "from langchain.chains import RetrievalQAWithSourcesChain\n",
    "\n",
    "chain = RetrievalQAWithSourcesChain.from_chain_type(\n",
    "    llm=llm,\n",
    "    chain_type=\"map_reduce\",  # \"stuff\", \"map_reduce\", \"refine\", \"map_rerank\"\n",
    "    retriever=final_retriever,\n",
    "    callbacks=CALLBACKS,\n",
    ")\n",
    "result = chain.invoke(query)\n",
    "print(result[\"answer\"])\n",
    "pretty_print_docs(result[\"sources\"])"
   ]
  },
  {
   "cell_type": "markdown",
   "id": "3c4b2b04514f3b73",
   "metadata": {
    "collapsed": false,
    "jupyter": {
     "outputs_hidden": false
    }
   },
   "source": [
    "For more precise control over the document references used, opt for `RetrievalQAWithReferencesChain`. Only the chunk used are returned."
   ]
  },
  {
   "cell_type": "code",
   "execution_count": 43,
   "id": "7eeda26fec5e810a",
   "metadata": {
    "ExecuteTime": {
     "start_time": "2023-11-07T07:41:47.451096148Z"
    },
    "collapsed": false,
    "jupyter": {
     "outputs_hidden": false
    }
   },
   "outputs": [
    {
     "name": "stderr",
     "output_type": "stream",
     "text": [
      "INFO:langchain.retrievers.multi_query:Generated queries: ['1. How does pure mathematics differ from applied mathematics?', '2. Can you explain the distinction between pure and applied mathematics?', '3. In what ways are pure and applied mathematics different?']\n"
     ]
    },
    {
     "name": "stdout",
     "output_type": "stream",
     "text": [
      "Pure mathematics is the study of abstract concepts and structures, while applied mathematics is the study of how these concepts and structures can be used in practical applications.\n",
      "\u001b[94mChunk 1:\n",
      "SUMMARY:\n",
      "Number theory is the study of numbers, including natural numbers, integ...[:623]\u001b[0m\n",
      "\u001b[92msource='https://en.wikipedia.org/wiki/Mathematics'\u001b[0m\n",
      "----------------------------------------\n",
      "\u001b[94mChunk 2:\n",
      "== Etymology ==\n",
      "The word mathematics comes from Ancient Greek máthēma (μάθημα), ...[:3025]\u001b[0m\n",
      "\u001b[92msource='https://en.wikipedia.org/wiki/Mathematics'\u001b[0m\n"
     ]
    }
   ],
   "source": [
    "from langchain_qa_with_references.chains import RetrievalQAWithReferencesChain\n",
    "\n",
    "chain = RetrievalQAWithReferencesChain.from_chain_type(\n",
    "    llm=llm,\n",
    "    chain_type=\"map_reduce\",  # \"stuff\", \"map_reduce\", \"refine\", \"map_rerank\"\n",
    "    retriever=final_retriever,\n",
    "    callbacks=CALLBACKS,\n",
    ")\n",
    "result = chain.invoke(query)\n",
    "print(result[\"answer\"])\n",
    "pretty_print_docs(result[\"source_documents\"], [\"source\"], kind=\"Chunk\")"
   ]
  },
  {
   "cell_type": "code",
   "execution_count": 44,
   "id": "49beb23b22096ce2",
   "metadata": {
    "ExecuteTime": {
     "start_time": "2023-11-07T07:41:47.451241156Z"
    },
    "collapsed": false,
    "editable": true,
    "jupyter": {
     "outputs_hidden": false
    },
    "slideshow": {
     "slide_type": ""
    },
    "tags": []
   },
   "outputs": [],
   "source": [
    "# Clean up\n",
    "import shutil\n",
    "\n",
    "shutil.rmtree(ROOT_PATH)"
   ]
  },
  {
   "cell_type": "markdown",
   "id": "62089560-bf04-4426-a5f3-acfa656edbd5",
   "metadata": {
    "ExecuteTime": {
     "start_time": "2023-11-07T07:41:47.451317026Z"
    },
    "collapsed": false,
    "editable": true,
    "jupyter": {
     "outputs_hidden": false
    },
    "slideshow": {
     "slide_type": ""
    },
    "tags": []
   },
   "source": [
    "# References\n",
    "- [Why Your RAG Is Not Reliable in a Production Environment](https://towardsdatascience.com/why-your-rag-is-not-reliable-in-a-production-environment-9e6a73b3eddb)\n",
    "- [Forget RAG, the Future is RAG-Fusion](https://towardsdatascience.com/forget-rag-the-future-is-rag-fusion-1147298d8ad1)\n",
    "- [A first intro to Complex RAG](https://medium.com/enterprise-rag/a-first-intro-to-complex-rag-retrieval-augmented-generation-a8624d70090f)\n",
    "- [Advanced RAG Techniques: an Illustrated Overview](https://pub.towardsai.net/advanced-rag-techniques-an-illustrated-overview-04d193d8fec6)"
   ]
  }
 ],
 "metadata": {
  "kernelspec": {
   "display_name": "langchain-rag",
   "language": "python",
   "name": "langchain-rag"
  },
  "language_info": {
   "codemirror_mode": {
    "name": "ipython",
    "version": 3
   },
   "file_extension": ".py",
   "mimetype": "text/x-python",
   "name": "python",
   "nbconvert_exporter": "python",
   "pygments_lexer": "ipython3",
   "version": "3.11.4"
  }
 },
 "nbformat": 4,
 "nbformat_minor": 5
}
