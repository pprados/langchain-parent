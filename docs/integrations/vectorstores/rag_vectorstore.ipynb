{
 "cells": [
  {
   "cell_type": "markdown",
   "id": "4993da90",
   "metadata": {
    "editable": true,
    "slideshow": {
     "slide_type": ""
    },
    "tags": []
   },
   "source": [
    "# RAG vectorstore\n",
    "\n",
    "[![Open in Colab](colab-badge.svg)](https://colab.research.google.com/github/pprados/langchain-rag/blob/master/docs/integrations/vectorstores/rag_vectorstore.ipynb)\n"
   ]
  },
  {
   "cell_type": "markdown",
   "id": "ddf56f04",
   "metadata": {
    "editable": true,
    "slideshow": {
     "slide_type": ""
    },
    "tags": []
   },
   "source": [
    "RAG architectures are very popular. They can be quickly demonstrated on a few documents. For a production project, more effort is needed to achieve an effective architecture.\n",
    "\n",
    "The basic principle is to divide a document into chunks, place them in a vector database, then select the chunks closest to the question and inject them into a prompt.\n",
    "\n",
    "When splitting documents for retrieval, there are often conflicting desires:\n",
    "\n",
    "1. You may want to keep documents small, ensuring that their embeddings accurately represent their meaning. If they become too long, the embeddings can lose their meaning.\n",
    "2. You also want to maintain documents long enough to retain the context of each chunk.\n",
    "\n",
    "When you have a lot of documents, and therefore a lot of pieces, it's likely that dozens of pieces have a distance close to the question. Taking only the top 4 is not a good idea. The answer may lie in the 6 or 7 tracks. How can we improve the match between the question and a fragment? By preparing several versions of the fragment, each with an embedding. In this way, one of the versions can be closer to the question than the original fragment. This version is stripped of context. But the context is still needed to answer the question correctly. One strategy consists of breaking down each fragment into different versions, but using the retriever to return to the original fragment. \n",
    "\n",
    "The `RAGVectorStore` strikes a balance by splitting and storing small chunks and different variations of data. During retrieval, it initially retrieves the small chunks but then looks up the parent IDs for those chunks and returns the larger documents.\n",
    "\n",
    "The challenge lies in correctly managing the lifecycle of the three levels of documents:\n",
    "- Original documents\n",
    "- Chunks extracted from the original documents\n",
    "- Transformations of chunks to generate more vectors for improved retrieval\n",
    "\n",
    "The `RAGVectorStore`, in combination with other components, is designed to address this challenge."
   ]
  },
  {
   "metadata": {},
   "cell_type": "code",
   "outputs": [],
   "execution_count": null,
   "source": "",
   "id": "c501389c59b5435b"
  },
  {
   "cell_type": "markdown",
   "id": "2631007b-61df-4a1d-93d8-e1ae6d85193e",
   "metadata": {
    "editable": true,
    "slideshow": {
     "slide_type": ""
    },
    "tags": []
   },
   "source": [
    "For the sample, we are using the set of documents from Wikipedia.\n",
    "We would like to answer questions related to mathematics."
   ]
  },
  {
   "cell_type": "markdown",
   "id": "5e66ec62-500b-44a9-b14c-bc942801260c",
   "metadata": {
    "editable": true,
    "slideshow": {
     "slide_type": ""
    },
    "tags": []
   },
   "source": [
    "> This notebook is not intended to demonstrate the relevance of each optimisation approach. The example is based on too few documents for that. It is simply intended to illustrate an implementation of an advanced RAG."
   ]
  },
  {
   "cell_type": "code",
   "id": "771c76125e1ae179",
   "metadata": {
    "collapsed": false,
    "editable": true,
    "jupyter": {
     "outputs_hidden": false
    },
    "slideshow": {
     "slide_type": ""
    },
    "tags": [],
    "ExecuteTime": {
     "end_time": "2024-06-14T08:56:11.694511Z",
     "start_time": "2024-06-14T08:56:04.087353Z"
    }
   },
   "source": [
    "%pip install -q --upgrade pip\n",
    "%pip install -q chromadb kaleido python-multipart wikipedia lark cohere\n",
    "%pip install -q langchain_rag langchain_core langchain_community langchain-openai langchain_qa_with_references"
   ],
   "outputs": [
    {
     "name": "stdout",
     "output_type": "stream",
     "text": [
      "/bin/bash: warning: setlocale: LC_ALL: cannot change locale (en_US.UTF-8)\r\n",
      "Note: you may need to restart the kernel to use updated packages.\n",
      "/bin/bash: warning: setlocale: LC_ALL: cannot change locale (en_US.UTF-8)\r\n",
      "Note: you may need to restart the kernel to use updated packages.\n",
      "/bin/bash: warning: setlocale: LC_ALL: cannot change locale (en_US.UTF-8)\r\n",
      "Note: you may need to restart the kernel to use updated packages.\n"
     ]
    }
   ],
   "execution_count": 3
  },
  {
   "cell_type": "code",
   "id": "209401ccb84bfa17",
   "metadata": {
    "collapsed": false,
    "editable": true,
    "jupyter": {
     "outputs_hidden": false
    },
    "slideshow": {
     "slide_type": ""
    },
    "tags": [],
    "ExecuteTime": {
     "end_time": "2024-06-14T08:56:32.041648Z",
     "start_time": "2024-06-14T08:56:32.038878Z"
    }
   },
   "source": [
    "query = \"What is the difference between pure and applied mathematics?\""
   ],
   "outputs": [],
   "execution_count": 4
  },
  {
   "cell_type": "markdown",
   "id": "9b86beba-b0bd-4690-a77b-ae133d3750be",
   "metadata": {
    "editable": true,
    "slideshow": {
     "slide_type": ""
    },
    "tags": []
   },
   "source": [
    "# Prepare the environment"
   ]
  },
  {
   "cell_type": "markdown",
   "id": "fe3a365c-24a7-4deb-8349-2effde6df90b",
   "metadata": {
    "editable": true,
    "slideshow": {
     "slide_type": ""
    },
    "tags": []
   },
   "source": [
    "To start with, we create a working directory to store all sorts of things."
   ]
  },
  {
   "cell_type": "markdown",
   "id": "84786a92-1c31-4c8c-9543-22e467d9dfd4",
   "metadata": {
    "editable": true,
    "slideshow": {
     "slide_type": ""
    },
    "tags": []
   },
   "source": [
    "Then we add a small function to display lists of documents, with a selection of metadata."
   ]
  },
  {
   "cell_type": "code",
   "id": "505aae5e89ee147e",
   "metadata": {
    "editable": true,
    "slideshow": {
     "slide_type": ""
    },
    "tags": [],
    "ExecuteTime": {
     "end_time": "2024-06-14T08:56:38.535670Z",
     "start_time": "2024-06-14T08:56:35.193922Z"
    }
   },
   "source": [
    "from langchain_core.documents import Document\n",
    "import logging\n",
    "import pathlib\n",
    "import tempfile\n",
    "import tiktoken\n",
    "from typing import List, Union\n",
    "\n",
    "# Activate logging and prints\n",
    "logging.basicConfig(level=logging.WARN)\n",
    "\n",
    "CALLBACKS = []\n",
    "encoding = tiktoken.encoding_for_model(\"gpt-3.5-turbo\")\n",
    "\n",
    "def pretty_print_docs(\n",
    "        docs: Union[str, List[Document]], metadatas=[], kind: str = \"Variations\"\n",
    "):\n",
    "    def print_metadata(d):\n",
    "        s = \",\\n\".join(\n",
    "            [f\"{metadata}={repr(d.metadata.get(metadata))}\" for metadata in metadatas]\n",
    "        )\n",
    "        if s:\n",
    "            return f\"\\n\\033[92m{s}\\033[0m\"\n",
    "        return \"\"\n",
    "\n",
    "    def print_doc(d, i):\n",
    "        r = f\"\\033[94m{kind} {i + 1}:\\n{d.page_content[:80]}\"\n",
    "        if len(d.page_content) > 80:\n",
    "            r += f\"...[:{max(0, len(d.page_content) - 80)}]\"\n",
    "        r+=f\" {len(encoding.encode(d.page_content))} toks\"\n",
    "        r += f\"\\033[0m{print_metadata(d)}\"\n",
    "        return r\n",
    "\n",
    "    if isinstance(docs, list):\n",
    "        print(f\"\\n{'-' * 40}\\n\".join([print_doc(d, i) for i, d in enumerate(docs)]))\n",
    "    else:\n",
    "        print(f\"\\033[92m{docs}\\033[0m\")\n",
    "\n",
    "ROOT_PATH = tempfile._gettempdir() + \"/rag\"\n",
    "pathlib.Path(ROOT_PATH).mkdir(exist_ok=True)"
   ],
   "outputs": [],
   "execution_count": 5
  },
  {
   "cell_type": "markdown",
   "id": "629c1609-51c9-4983-be9f-7e470965a2b8",
   "metadata": {
    "editable": true,
    "slideshow": {
     "slide_type": ""
    },
    "tags": []
   },
   "source": [
    "# Select providers"
   ]
  },
  {
   "cell_type": "code",
   "id": "fa8340e2-1b4a-4b93-b407-268f8a698496",
   "metadata": {
    "editable": true,
    "slideshow": {
     "slide_type": ""
    },
    "tags": [],
    "ExecuteTime": {
     "end_time": "2024-06-14T08:56:40.624941Z",
     "start_time": "2024-06-14T08:56:40.608791Z"
    }
   },
   "source": [
    "import os\n",
    "from dotenv import load_dotenv\n",
    "\n",
    "load_dotenv(override=True)\n",
    "if \"OPENAI_API_KEY\" not in os.environ:\n",
    "    os.environ[\"OPENAI_API_KEY\"] = \"\"  # Set api key\""
   ],
   "outputs": [],
   "execution_count": 6
  },
  {
   "cell_type": "markdown",
   "id": "9cd2a2d9-de21-4336-9711-413f1e9c83b4",
   "metadata": {
    "editable": true,
    "slideshow": {
     "slide_type": ""
    },
    "tags": []
   },
   "source": [
    "## Select the embedding implementation"
   ]
  },
  {
   "cell_type": "code",
   "id": "1e3ce9c7-fafc-493e-b5b4-93f64f81a8ea",
   "metadata": {
    "editable": true,
    "slideshow": {
     "slide_type": ""
    },
    "tags": [],
    "ExecuteTime": {
     "end_time": "2024-06-14T08:56:43.771314Z",
     "start_time": "2024-06-14T08:56:43.299680Z"
    }
   },
   "source": [
    "# Select OpenAI implementation\n",
    "from langchain_openai import *\n",
    "\n",
    "model_id=\"gpt-3.5-turbo-instruct\"\n",
    "\n",
    "openai_embeddings = OpenAIEmbeddings()"
   ],
   "outputs": [],
   "execution_count": 7
  },
  {
   "cell_type": "code",
   "id": "54cc5d45-573b-4540-8738-16115818a9d7",
   "metadata": {
    "editable": true,
    "slideshow": {
     "slide_type": ""
    },
    "tags": [],
    "ExecuteTime": {
     "end_time": "2024-06-14T08:56:45.130403Z",
     "start_time": "2024-06-14T08:56:45.120537Z"
    }
   },
   "source": [
    "# Add a cache for embeddings\n",
    "from langchain.storage import LocalFileStore\n",
    "from langchain.embeddings import CacheBackedEmbeddings\n",
    "\n",
    "CACHE_EMBEDDING_PATH = ROOT_PATH + \"/cache_embedding\"\n",
    "fs = LocalFileStore(CACHE_EMBEDDING_PATH)\n",
    "\n",
    "\n",
    "embeddings = CacheBackedEmbeddings.from_bytes_store(\n",
    "    openai_embeddings,\n",
    "    fs,\n",
    "    namespace=openai_embeddings.model if hasattr(openai_embeddings, \"model\") else \"unknown\",\n",
    ")"
   ],
   "outputs": [],
   "execution_count": 8
  },
  {
   "cell_type": "code",
   "id": "eae5c786-0352-48c6-8629-7b6f0eee6129",
   "metadata": {
    "editable": true,
    "slideshow": {
     "slide_type": ""
    },
    "tags": [],
    "ExecuteTime": {
     "end_time": "2024-06-14T09:05:31.614027Z",
     "start_time": "2024-06-14T09:05:31.609968Z"
    }
   },
   "source": [
    "# Calculates the parameters\n",
    "nb_documents_to_import = 5  # How many documents should be imported from Wikipedia?\n",
    "top_k = 4  # How many chunks should be injected in the prompt to answer the question?\n",
    "doc_content_chars_max=4000   # First chars for wikipedia docs\n",
    "\n",
    "embeddings_tokens_limit= openai_embeddings.embedding_ctx_length\n",
    "\n",
    "context_size = OpenAI.modelname_to_contextsize(model_id)  # The GPT3.5 limit\n",
    "\n",
    "# 10% for the prompt without context\n",
    "prompt_tokens = int(context_size * (10 / 100))  \n",
    "\n",
    "# 20% for the response\n",
    "output_tokens = int(context_size * (20 / 100))  \n",
    "\n",
    "# Minimum tokens for one document\n",
    "min_doc_tokens = 200\n",
    "\n",
    "# Maximum size for each documents to inject\n",
    "doc_tokens = (context_size - prompt_tokens - output_tokens ) // top_k\n",
    "if doc_tokens > embeddings_tokens_limit:\n",
    "    top_k = (context_size - prompt_tokens - output_tokens ) // embeddings_tokens_limit\n",
    "elif doc_tokens < min_doc_tokens:\n",
    "    top_k = (context_size - prompt_tokens - output_tokens ) // min_doc_tokens\n",
    "\n",
    "# Then, the maximum nomber of tokens for the prompt\n",
    "input_tokens = context_size - output_tokens\n",
    "\n",
    "print(f\"{top_k=} {context_size=} {prompt_tokens=}, {doc_tokens=}, {input_tokens=}, {output_tokens=}\")"
   ],
   "outputs": [
    {
     "name": "stdout",
     "output_type": "stream",
     "text": [
      "top_k=4 context_size=4096 prompt_tokens=409, doc_tokens=717, input_tokens=3277, output_tokens=819\n"
     ]
    }
   ],
   "execution_count": 38
  },
  {
   "cell_type": "markdown",
   "id": "8e39c804-d033-4bb3-adf0-ec8f5e0d9168",
   "metadata": {
    "editable": true,
    "slideshow": {
     "slide_type": ""
    },
    "tags": []
   },
   "source": [
    "## Select the LLM\n",
    "Before starting, we need to:\n",
    "- Set the environment variables\n",
    "- Choose a language model (LLM), determine the context size, and set the maximum number of tokens for generation\n",
    "- Enable all caches"
   ]
  },
  {
   "cell_type": "code",
   "id": "53237ba8-cd7c-4cfc-bafe-d980a53ddbbd",
   "metadata": {
    "editable": true,
    "slideshow": {
     "slide_type": ""
    },
    "tags": [],
    "ExecuteTime": {
     "end_time": "2024-06-14T09:05:34.387695Z",
     "start_time": "2024-06-14T09:05:34.327990Z"
    }
   },
   "source": [
    "from langchain_openai import OpenAI\n",
    "llm = OpenAI(\n",
    "    model=model_id,\n",
    "    temperature=0.2,\n",
    "    max_tokens=output_tokens,  # Maximum possible\n",
    ")"
   ],
   "outputs": [],
   "execution_count": 39
  },
  {
   "cell_type": "code",
   "id": "3e12bd3f44158a74",
   "metadata": {
    "editable": true,
    "slideshow": {
     "slide_type": ""
    },
    "tags": [],
    "ExecuteTime": {
     "end_time": "2024-06-14T09:05:35.364938Z",
     "start_time": "2024-06-14T09:05:35.360874Z"
    }
   },
   "source": [
    "# Add a cache\n",
    "from langchain_core import globals\n",
    "from langchain_community.cache import SQLiteCache\n",
    "\n",
    "LANCHAIN_CACHE_PATH = ROOT_PATH + \"/cache_llm\"\n",
    "globals.set_llm_cache(SQLiteCache(database_path=LANCHAIN_CACHE_PATH))"
   ],
   "outputs": [],
   "execution_count": 40
  },
  {
   "cell_type": "markdown",
   "id": "7a0bea32-373d-400d-a887-9aadc2485ab6",
   "metadata": {
    "editable": true,
    "slideshow": {
     "slide_type": ""
    },
    "tags": []
   },
   "source": [
    "# Load the documents\n",
    "\n",
    "We want to retrieve documents about mathematics from wikipedia."
   ]
  },
  {
   "cell_type": "code",
   "id": "af6a3c4bb3423122",
   "metadata": {
    "editable": true,
    "slideshow": {
     "slide_type": ""
    },
    "tags": [],
    "ExecuteTime": {
     "end_time": "2024-06-14T09:05:49.022809Z",
     "start_time": "2024-06-14T09:05:37.377544Z"
    }
   },
   "source": [
    "from langchain_community.retrievers import WikipediaRetriever\n",
    "\n",
    "documents = WikipediaRetriever(\n",
    "    top_k_results=nb_documents_to_import, \n",
    "    doc_content_chars_max=doc_content_chars_max\n",
    ").invoke(\"mathematic\")\n",
    "pretty_print_docs(documents, [\"title\"],kind=\"Documents\")"
   ],
   "outputs": [
    {
     "name": "stdout",
     "output_type": "stream",
     "text": [
      "\u001B[94mDocuments 1:\n",
      "Mathematics is an area of knowledge that includes the topics of numbers, formula...[:3920] 815 toks\u001B[0m\n",
      "\u001B[92mtitle='Mathematics'\u001B[0m\n",
      "----------------------------------------\n",
      "\u001B[94mDocuments 2:\n",
      "Mathematical Reviews is a journal published by the American Mathematical Society...[:3920] 822 toks\u001B[0m\n",
      "\u001B[92mtitle='Mathematical Reviews'\u001B[0m\n",
      "----------------------------------------\n",
      "\u001B[94mDocuments 3:\n",
      "Mathematics competitions or mathematical olympiads are competitive events where ...[:3920] 800 toks\u001B[0m\n",
      "\u001B[92mtitle='List of mathematics competitions'\u001B[0m\n",
      "----------------------------------------\n",
      "\u001B[94mDocuments 4:\n",
      "The history of mathematics deals with the origin of discoveries in mathematics a...[:3920] 789 toks\u001B[0m\n",
      "\u001B[92mtitle='History of mathematics'\u001B[0m\n",
      "----------------------------------------\n",
      "\u001B[94mDocuments 5:\n",
      "Applied mathematics is the application of mathematical methods by different fiel...[:3920] 670 toks\u001B[0m\n",
      "\u001B[92mtitle='Applied mathematics'\u001B[0m\n"
     ]
    }
   ],
   "execution_count": 41
  },
  {
   "cell_type": "markdown",
   "id": "e20ff47d-933e-47be-9849-bccc78cf9309",
   "metadata": {
    "editable": true,
    "slideshow": {
     "slide_type": ""
    },
    "tags": []
   },
   "source": [
    "# Transform documents\n",
    "The idea is to transform a document into multiple versions and calculate a vector for each one."
   ]
  },
  {
   "cell_type": "code",
   "id": "97b6e300-50f4-41ae-a524-05030c2c865c",
   "metadata": {
    "editable": true,
    "slideshow": {
     "slide_type": ""
    },
    "tags": [],
    "ExecuteTime": {
     "end_time": "2024-06-14T09:05:56.870963Z",
     "start_time": "2024-06-14T09:05:56.868154Z"
    }
   },
   "source": [
    "from langchain_text_splitters import *\n",
    "from langchain_rag.document_transformers import *\n",
    "from langchain_rag.document_transformers import DocumentTransformerPipeline"
   ],
   "outputs": [],
   "execution_count": 42
  },
  {
   "cell_type": "markdown",
   "id": "99e513cf-6ac8-4121-81b9-b961afd52d6f",
   "metadata": {
    "editable": true,
    "slideshow": {
     "slide_type": ""
    },
    "tags": []
   },
   "source": [
    "The first step is to split the document to ensure compatibility with the `max_input_tokens`. This could be a transformation pipeline, for an initial wiki split, followed by a size split for example."
   ]
  },
  {
   "cell_type": "code",
   "id": "8ff426ce-ffe1-4f90-927f-af83ce37cef6",
   "metadata": {
    "editable": true,
    "slideshow": {
     "slide_type": ""
    },
    "tags": [],
    "ExecuteTime": {
     "end_time": "2024-06-14T09:05:58.085435Z",
     "start_time": "2024-06-14T09:05:58.082675Z"
    }
   },
   "source": [
    "wiki_splitter = RecursiveCharacterTextSplitter(\n",
    "    separators=[\n",
    "        \"={1,6} .* ={1,6}\",  # See https://en.wikipedia.org/wiki/Help:Wikitext\n",
    "        \"\\n----+\\n\",            \n",
    "        \"\\n\\n\",\n",
    "        \"\\n\",\n",
    "    ],\n",
    "    chunk_size=doc_content_chars_max,\n",
    "    chunk_overlap=0,\n",
    "    is_separator_regex=True)\n",
    "\n",
    "token_splitter = TokenTextSplitter(chunk_size=doc_tokens, chunk_overlap=0)\n",
    "parent_transformer = DocumentTransformerPipeline(transformers=[wiki_splitter,token_splitter])"
   ],
   "outputs": [],
   "execution_count": 43
  },
  {
   "cell_type": "markdown",
   "id": "a640d55a-a466-4de1-abfe-4d5c1d2d76a3",
   "metadata": {
    "editable": true,
    "slideshow": {
     "slide_type": ""
    },
    "tags": []
   },
   "source": [
    "Let's test the transformations."
   ]
  },
  {
   "cell_type": "code",
   "id": "dbb10dc0-6cf2-4e14-b55c-bb846ba97515",
   "metadata": {
    "editable": true,
    "slideshow": {
     "slide_type": ""
    },
    "tags": [],
    "ExecuteTime": {
     "end_time": "2024-06-14T09:05:59.471139Z",
     "start_time": "2024-06-14T09:05:59.462839Z"
    }
   },
   "source": [
    "chunk_documents = parent_transformer.transform_documents(documents)\n",
    "f\"before:{len(documents)} documents, after:{len(chunk_documents)} chunks\""
   ],
   "outputs": [
    {
     "data": {
      "text/plain": [
       "'before:5 documents, after:9 chunks'"
      ]
     },
     "execution_count": 44,
     "metadata": {},
     "output_type": "execute_result"
    }
   ],
   "execution_count": 44
  },
  {
   "cell_type": "code",
   "id": "8b9ef168-4892-400f-be6a-fc714f95c325",
   "metadata": {
    "editable": true,
    "slideshow": {
     "slide_type": ""
    },
    "tags": [],
    "ExecuteTime": {
     "end_time": "2024-06-14T09:05:59.966342Z",
     "start_time": "2024-06-14T09:05:59.961105Z"
    }
   },
   "source": [
    "pretty_print_docs(chunk_documents, kind=\"Chunk\")"
   ],
   "outputs": [
    {
     "name": "stdout",
     "output_type": "stream",
     "text": [
      "\u001B[94mChunk 1:\n",
      "Mathematics is an area of knowledge that includes the topics of numbers, formula...[:3326] 687 toks\u001B[0m\n",
      "----------------------------------------\n",
      "\u001B[94mChunk 2:\n",
      " established.\n",
      "In Latin, and in English until around 1700, the term mathematics m...[:514] 128 toks\u001B[0m\n",
      "----------------------------------------\n",
      "\u001B[94mChunk 3:\n",
      "Mathematical Reviews is a journal published by the American Mathematical Society...[:3321] 697 toks\u001B[0m\n",
      "----------------------------------------\n",
      "\u001B[94mChunk 4:\n",
      "Q is 0.41.\n",
      "\n",
      "\n",
      "== Current Mathematical Publications ==\n",
      "Current Mathematical Public...[:519] 125 toks\u001B[0m\n",
      "----------------------------------------\n",
      "\u001B[94mChunk 5:\n",
      "Mathematics competitions or mathematical olympiads are competitive events where ...[:3236] 660 toks\u001B[0m\n",
      "----------------------------------------\n",
      "\u001B[94mChunk 6:\n",
      "iad — competition whose top performers represent Canada at the International Mat...[:604] 140 toks\u001B[0m\n",
      "----------------------------------------\n",
      "\u001B[94mChunk 7:\n",
      "The history of mathematics deals with the origin of discoveries in mathematics a...[:3531] 711 toks\u001B[0m\n",
      "----------------------------------------\n",
      "\u001B[94mChunk 8:\n",
      " headwaters of the Nile river (northeastern Congo), may be more than 20,000 year...[:309] 78 toks\u001B[0m\n",
      "----------------------------------------\n",
      "\u001B[94mChunk 9:\n",
      "Applied mathematics is the application of mathematical methods by different fiel...[:3920] 670 toks\u001B[0m\n"
     ]
    }
   ],
   "execution_count": 45
  },
  {
   "cell_type": "markdown",
   "id": "79651e78d2831fcc",
   "metadata": {
    "collapsed": false,
    "editable": true,
    "jupyter": {
     "outputs_hidden": false
    },
    "slideshow": {
     "slide_type": ""
    },
    "tags": []
   },
   "source": [
    "We need multiple variations for each chunk."
   ]
  },
  {
   "cell_type": "code",
   "id": "09aa4959-1325-43cd-a22e-0f7c983c8be5",
   "metadata": {
    "editable": true,
    "slideshow": {
     "slide_type": ""
    },
    "tags": [],
    "ExecuteTime": {
     "end_time": "2024-06-14T09:06:01.374398Z",
     "start_time": "2024-06-14T09:06:01.370875Z"
    }
   },
   "source": [
    "chunk_transformer = DocumentTransformers(\n",
    "    transformers=[\n",
    "        GenerateQuestionsTransformer.from_llm(llm),\n",
    "        SummarizeTransformer.from_llm(llm),\n",
    "        CopyDocumentTransformer(),\n",
    "    ]\n",
    ")"
   ],
   "outputs": [],
   "execution_count": 46
  },
  {
   "cell_type": "markdown",
   "id": "a74358ce-b013-4729-a71b-ee4c82f0d51f",
   "metadata": {
    "editable": true,
    "slideshow": {
     "slide_type": ""
    },
    "tags": []
   },
   "source": [
    "> **Note:** that we require all transformations for each chunk, including the original chunk. This is why we include the `CopyDocumentTransformer()`.\n",
    "\n",
    "Now, let's test the transformation for the first document."
   ]
  },
  {
   "cell_type": "code",
   "id": "63cf0377ba48d2ad",
   "metadata": {
    "collapsed": false,
    "editable": true,
    "jupyter": {
     "outputs_hidden": false
    },
    "slideshow": {
     "slide_type": ""
    },
    "tags": [],
    "ExecuteTime": {
     "end_time": "2024-06-14T09:06:02.497751Z",
     "start_time": "2024-06-14T09:06:02.490671Z"
    }
   },
   "source": [
    "variations_of_chunks = chunk_transformer.transform_documents(chunk_documents[:1])\n",
    "# Select the variations for the first chunk\n",
    "pretty_print_docs(variations_of_chunks)"
   ],
   "outputs": [
    {
     "name": "stdout",
     "output_type": "stream",
     "text": [
      "\u001B[94mVariations 1:\n",
      "What are the major subdisciplines of modern mathematics? 12 toks\u001B[0m\n",
      "----------------------------------------\n",
      "\u001B[94mVariations 2:\n",
      "How do mathematicians define their academic discipline? 9 toks\u001B[0m\n",
      "----------------------------------------\n",
      "\u001B[94mVariations 3:\n",
      "What is the relationship between mathematical innovations and scientific discove...[:5] 11 toks\u001B[0m\n",
      "----------------------------------------\n",
      "\u001B[94mVariations 4:\n",
      "SUMMARY:\n",
      "Mathematics is a field of study that deals with numbers, formulas, shap...[:486] 115 toks\u001B[0m\n",
      "----------------------------------------\n",
      "\u001B[94mVariations 5:\n",
      "Mathematics is an area of knowledge that includes the topics of numbers, formula...[:3326] 687 toks\u001B[0m\n"
     ]
    }
   ],
   "execution_count": 47
  },
  {
   "cell_type": "markdown",
   "id": "3be062dd-cf9c-423b-be8b-67a8566b354e",
   "metadata": {
    "editable": true,
    "slideshow": {
     "slide_type": ""
    },
    "tags": []
   },
   "source": [
    "We see 3 questions, a summary of the chunk and the original chunk."
   ]
  },
  {
   "cell_type": "markdown",
   "id": "ff6c2f4a8b3c8248",
   "metadata": {
    "collapsed": false,
    "editable": true,
    "jupyter": {
     "outputs_hidden": false
    },
    "slideshow": {
     "slide_type": ""
    },
    "tags": []
   },
   "source": [
    "![Tree of variations](plantuml/variations.png)"
   ]
  },
  {
   "cell_type": "markdown",
   "id": "9a594c2a-1ddc-4eb7-a7ba-922923fe5dae",
   "metadata": {
    "editable": true,
    "slideshow": {
     "slide_type": ""
    },
    "tags": []
   },
   "source": [
    "# Saving all Variations in a Vector Store\n",
    "Now, our goal is to store the chunks and their respective variations in a vector store. During retrieval, the process begins by fetching the smaller chunks but then involves looking up the parent IDs for those chunks and returning the original chunk.\n",
    "\n",
    "A specialized vector store is designed for this purpose: the `RAGVectorStore`.\n",
    "It's not a standalone vector store but rather a wrapper for another vector store. When you add a document, the document undergoes transformation with the `parent_transformer`, and each chunk is enriched with various versions through the `chunk_transformer`. Each parameter is optional."
   ]
  },
  {
   "cell_type": "markdown",
   "id": "4d873d0e0c5f64d9",
   "metadata": {
    "collapsed": false,
    "editable": true,
    "jupyter": {
     "outputs_hidden": false
    },
    "slideshow": {
     "slide_type": ""
    },
    "tags": []
   },
   "source": [
    "## Build step by step\n",
    "First, we need to create some persistent components:\n",
    "- A standard vector store\n",
    "- A `Docstore` to store each original chunk returned by the *retriever* and the relationship between the document and chunks."
   ]
  },
  {
   "cell_type": "code",
   "id": "dc155113-dd16-4c73-a13c-80d428bd7923",
   "metadata": {
    "editable": true,
    "slideshow": {
     "slide_type": ""
    },
    "tags": [],
    "ExecuteTime": {
     "end_time": "2024-06-14T09:06:05.768142Z",
     "start_time": "2024-06-14T09:06:05.761880Z"
    }
   },
   "source": [
    "from langchain.vectorstores import Chroma\n",
    "import chromadb.segment.impl.metadata.sqlite\n",
    "import chromadb.segment.impl.vector.local_persistent_hnsw\n",
    "chromadb.segment.impl.metadata.sqlite.logger.setLevel(logging.ERROR)\n",
    "chromadb.segment.impl.vector.local_persistent_hnsw.logger.setLevel(logging.ERROR)\n",
    "\n",
    "VS_PATH = ROOT_PATH + \"/vs\"\n",
    "chroma_vectorstore = Chroma(\n",
    "    collection_name=\"all_variations_of_chunks\",\n",
    "    embedding_function=embeddings,\n",
    "    persist_directory=VS_PATH,\n",
    ")"
   ],
   "outputs": [],
   "execution_count": 48
  },
  {
   "cell_type": "code",
   "id": "2d189e7e-3e59-43f0-9a8c-92fd7844c393",
   "metadata": {
    "editable": true,
    "slideshow": {
     "slide_type": ""
    },
    "tags": [],
    "ExecuteTime": {
     "end_time": "2024-06-14T09:06:06.308206Z",
     "start_time": "2024-06-14T09:06:06.305497Z"
    }
   },
   "source": [
    "DOCSTORE_PATH = ROOT_PATH + \"/chunks\"\n",
    "from langchain.storage import EncoderBackedStore,LocalFileStore\n",
    "import pickle\n",
    "\n",
    "docstore = EncoderBackedStore[str, Document](\n",
    "    store=LocalFileStore(root_path=DOCSTORE_PATH),\n",
    "    key_encoder=lambda x: x,\n",
    "    value_serializer=pickle.dumps,\n",
    "    value_deserializer=pickle.loads,\n",
    ")"
   ],
   "outputs": [],
   "execution_count": 49
  },
  {
   "cell_type": "markdown",
   "id": "266663f2-bb6a-46dd-84cc-0ec67a5bf24e",
   "metadata": {
    "editable": true,
    "slideshow": {
     "slide_type": ""
    },
    "tags": []
   },
   "source": [
    "All documents must have a unique ID in their metadata. \n",
    "Then, it's possible to use the advanced `RAGVectorStore`. \n",
    "It's a wrapper around a standard vector store, specialized for managing different transformations and the lifecycle of documents."
   ]
  },
  {
   "cell_type": "code",
   "id": "a4fafbad-c577-40ae-8543-a145d9ca7f89",
   "metadata": {
    "editable": true,
    "slideshow": {
     "slide_type": ""
    },
    "tags": [],
    "ExecuteTime": {
     "end_time": "2024-06-14T09:06:07.208890Z",
     "start_time": "2024-06-14T09:06:07.206394Z"
    }
   },
   "source": [
    "from langchain_rag.vectorstores import RAGVectorStore\n",
    "\n",
    "variation_k = 10\n",
    "rag_vectorstore = RAGVectorStore(\n",
    "    vectorstore=chroma_vectorstore,\n",
    "    docstore=docstore,\n",
    "    source_id_key=\"source\",  # Uniq id of documents\n",
    "    parent_transformer=parent_transformer,\n",
    "    chunk_transformer=chunk_transformer,\n",
    "    #search_kwargs={\"k\": variation_k},\n",
    ")"
   ],
   "outputs": [],
   "execution_count": 50
  },
  {
   "cell_type": "markdown",
   "id": "2039782f-9f63-4885-be09-ba9f7555b2cb",
   "metadata": {
    "editable": true,
    "slideshow": {
     "slide_type": ""
    },
    "tags": []
   },
   "source": [
    "Now, it's time to add documents to this *special* vector store.\n",
    "- If the `parent_transformer` is set, the document is transformed into a new list of chunk documents (generally, this is a split phase).\n",
    "- Then, if the `chunk_transformer` is set, each chunk document is transformed to generate some variations.\n",
    "- Each transformation of all chunks is added to the destination vector store (in this case, it's referred to as \"chroma\").\n",
    "- All chunks are saved in the `Docstore` with the list of all associated variations.\n",
    "- All IDs of chunks generated for each document are saved in the `Docstore`. This makes it possible to remove the document and all associated chunks when needed.\n",
    "- `variation_k` variations is returned in the delegate vectorstore\n",
    "\n",
    "> This takes time, because the transformations are carried out when the documents are added. Among other things, an LLM must be invoked to produce a summary of each chunk."
   ]
  },
  {
   "cell_type": "code",
   "id": "ecd8eba9-36aa-4ed6-b32d-a7eef48289a5",
   "metadata": {
    "editable": true,
    "slideshow": {
     "slide_type": ""
    },
    "tags": [],
    "ExecuteTime": {
     "end_time": "2024-06-14T09:06:20.198388Z",
     "start_time": "2024-06-14T09:06:08.363177Z"
    }
   },
   "source": [
    "ids = rag_vectorstore.add_documents(documents)\n",
    "ids"
   ],
   "outputs": [
    {
     "data": {
      "text/plain": [
       "['6d90af33d816d1b2c2a2e9d277e72862ff076c265da2756ece7d15a517070f5f',\n",
       " '59dd02283f9dcfdbb7cf7f1ae11dcbe986a8e2621aa92c5dbf31be9bc1b07d3b',\n",
       " '1f554dd2f2066bb363c139c91c41292f6330a04cbab43529de8acee6622e5cf6',\n",
       " '492c728729e2274e2af6984dbc84d61d52f4799b7215fe175ad2b4c483a95449',\n",
       " '0806472777356120cf3b933121c1a55a1dd10f402fe6edb1699e3bdfa668e5f4']"
      ]
     },
     "execution_count": 51,
     "metadata": {},
     "output_type": "execute_result"
    }
   ],
   "execution_count": 51
  },
  {
   "cell_type": "markdown",
   "id": "805a0119fbd62cda",
   "metadata": {
    "collapsed": false,
    "editable": true,
    "jupyter": {
     "outputs_hidden": false
    },
    "slideshow": {
     "slide_type": ""
    },
    "tags": []
   },
   "source": [
    "While conducting the search, an embedding is computed for the query and subsequently compared to the embeddings of all the transformed chunks. The metadata for each transformed chunk contains a reference to the ID of the original chunk, allowing for the retrieval of the respective chunk."
   ]
  },
  {
   "cell_type": "markdown",
   "id": "a5c5c65eac9a6017",
   "metadata": {
    "collapsed": false,
    "jupyter": {
     "outputs_hidden": false
    }
   },
   "source": [
    "The IDs returned by `add_documents()` consist of a list of `document IDs`. You can utilize these IDs to remove all documents, related chunks and variations.\n",
    "\n",
    "When you examine the langchain API, you may wonder where to store the document IDs from the vector store."
   ]
  },
  {
   "cell_type": "code",
   "id": "a15b4c8ac0660246",
   "metadata": {
    "collapsed": false,
    "editable": true,
    "jupyter": {
     "outputs_hidden": false
    },
    "slideshow": {
     "slide_type": ""
    },
    "tags": [],
    "ExecuteTime": {
     "end_time": "2024-06-14T09:06:20.425989Z",
     "start_time": "2024-06-14T09:06:20.199542Z"
    }
   },
   "source": [
    "pretty_print_docs(\n",
    "    rag_vectorstore.search(query=query, search_type=\"similarity\"),\n",
    "    [\"source\", \"_chunk_id\"],\n",
    "    kind=\"Chunk\",\n",
    ")"
   ],
   "outputs": [
    {
     "name": "stdout",
     "output_type": "stream",
     "text": [
      "\u001B[94mChunk 1:\n",
      "Applied mathematics is the application of mathematical methods by different fiel...[:3920] 670 toks\u001B[0m\n",
      "\u001B[92msource='https://en.wikipedia.org/wiki/Applied_mathematics',\n",
      "_chunk_id='3742eccb-5cdd-4218-8561-cc74fe757c25'\u001B[0m\n"
     ]
    }
   ],
   "execution_count": 52
  },
  {
   "cell_type": "code",
   "id": "f23ad52eae299824",
   "metadata": {
    "collapsed": false,
    "editable": true,
    "jupyter": {
     "outputs_hidden": false
    },
    "slideshow": {
     "slide_type": ""
    },
    "tags": [],
    "ExecuteTime": {
     "end_time": "2024-06-14T09:06:20.447803Z",
     "start_time": "2024-06-14T09:06:20.426855Z"
    }
   },
   "source": [
    "# Delete documents, chunks and variations\n",
    "rag_vectorstore.delete(ids=ids)"
   ],
   "outputs": [
    {
     "data": {
      "text/plain": [
       "False"
      ]
     },
     "execution_count": 53,
     "metadata": {},
     "output_type": "execute_result"
    }
   ],
   "execution_count": 53
  },
  {
   "cell_type": "markdown",
   "id": "96ba9eb40d3768f7",
   "metadata": {
    "collapsed": false,
    "editable": true,
    "jupyter": {
     "outputs_hidden": false
    },
    "slideshow": {
     "slide_type": ""
    },
    "tags": []
   },
   "source": [
    "# Index Vector Store\n",
    "To manage the lifecycle of the documents in the vector store, you can utilize an `index()`.\n",
    "A `RecordManager` can keep track of the evolution of each document. Use langchain `index()` to import the documents."
   ]
  },
  {
   "cell_type": "code",
   "id": "6d3ea4486d47ea54",
   "metadata": {
    "collapsed": false,
    "editable": true,
    "jupyter": {
     "outputs_hidden": false
    },
    "slideshow": {
     "slide_type": ""
    },
    "tags": [],
    "ExecuteTime": {
     "end_time": "2024-06-14T09:06:20.452496Z",
     "start_time": "2024-06-14T09:06:20.449177Z"
    }
   },
   "source": [
    "from langchain.indexes import index, SQLRecordManager\n",
    "\n",
    "record_manager = SQLRecordManager(\n",
    "    namespace=\"record_manager_cache\", db_url=f\"sqlite:///{ROOT_PATH}/record_manager.db\"\n",
    ")\n",
    "record_manager.create_schema()"
   ],
   "outputs": [],
   "execution_count": 54
  },
  {
   "cell_type": "code",
   "id": "29511638aa0cf089",
   "metadata": {
    "collapsed": false,
    "jupyter": {
     "outputs_hidden": false
    },
    "ExecuteTime": {
     "end_time": "2024-06-14T09:06:20.602519Z",
     "start_time": "2024-06-14T09:06:20.453498Z"
    }
   },
   "source": [
    "# Save all the information in:\n",
    "# - record manager\n",
    "# - docstore\n",
    "# - vectorstore\n",
    "index_kwargs = {\n",
    "    \"record_manager\": record_manager,\n",
    "    \"vector_store\": rag_vectorstore,\n",
    "    \"source_id_key\": \"source\",\n",
    "}\n",
    "result = index(docs_source=documents, cleanup=\"incremental\", **index_kwargs)\n",
    "result"
   ],
   "outputs": [
    {
     "data": {
      "text/plain": [
       "{'num_added': 4, 'num_updated': 0, 'num_skipped': 1, 'num_deleted': 1}"
      ]
     },
     "execution_count": 55,
     "metadata": {},
     "output_type": "execute_result"
    }
   ],
   "execution_count": 55
  },
  {
   "cell_type": "markdown",
   "id": "be721fb41e1d9103",
   "metadata": {
    "collapsed": false,
    "jupyter": {
     "outputs_hidden": false
    }
   },
   "source": [
    "## Alternative factory\n",
    "To simplify the creation of the persistance ecosystem, you can use the `from_vs_in_memory` method for in-memory usage only, and `from_vs_in_sql` for usage with SQL."
   ]
  },
  {
   "cell_type": "markdown",
   "id": "e98aaaa84ea1149c",
   "metadata": {
    "collapsed": false,
    "jupyter": {
     "outputs_hidden": false
    }
   },
   "source": [
    "```python\n",
    "rag_vectorstore, index_kwargs = RAGVectorStore.from_vs_in_memory(\n",
    "    vectorstore=chroma_vectorstore,\n",
    "    parent_transformer=parent_transformer,\n",
    "    chunk_transformer=chunk_transformer,\n",
    "    source_id_key=\"source\",\n",
    ")\n",
    "index(\n",
    "    docs_source=documents,\n",
    "    cleanup=\"incremental\",\n",
    "    **index_kwargs\n",
    ")\n",
    "```"
   ]
  },
  {
   "cell_type": "markdown",
   "id": "3a84d627e4f9eb33",
   "metadata": {
    "collapsed": false,
    "editable": true,
    "jupyter": {
     "outputs_hidden": false
    },
    "slideshow": {
     "slide_type": ""
    },
    "tags": []
   },
   "source": [
    "```python\n",
    "rag_vectorstore, index_kwargs = RAGVectorStore.from_vs_in_sql(\n",
    "    vectorstore=chroma_vectorstore,\n",
    "    parent_transformer=parent_transformer,\n",
    "    chunk_transformer=chunk_transformer,\n",
    "    source_id_key=\"source\",\n",
    "    db_url=f\"sqlite:///{ROOT_PATH}/record_manager.db\",\n",
    ")\n",
    "index(\n",
    "    docs_source=documents,\n",
    "    cleanup=\"incremental\",\n",
    "    **index_kwargs\n",
    ")\n",
    "```"
   ]
  },
  {
   "cell_type": "markdown",
   "id": "d95ff9c58b897997",
   "metadata": {
    "collapsed": false,
    "jupyter": {
     "outputs_hidden": false
    }
   },
   "source": [
    "If you import the same documents, you will notice that all documents are skipped. \n",
    "> Without using `index()`, in a classical vector store, the same document will be present twice. This has the same effect as dividing the `top_k` by two during the search! Because 2 different documents with the same content are returned by the vectorstore."
   ]
  },
  {
   "cell_type": "code",
   "id": "ea7c3fdc0ec4c5fd",
   "metadata": {
    "collapsed": false,
    "jupyter": {
     "outputs_hidden": false
    },
    "ExecuteTime": {
     "end_time": "2024-06-14T09:06:20.616808Z",
     "start_time": "2024-06-14T09:06:20.603336Z"
    }
   },
   "source": [
    "result = index(docs_source=documents, cleanup=\"incremental\", **index_kwargs)\n",
    "result"
   ],
   "outputs": [
    {
     "data": {
      "text/plain": [
       "{'num_added': 0, 'num_updated': 0, 'num_skipped': 5, 'num_deleted': 0}"
      ]
     },
     "execution_count": 56,
     "metadata": {},
     "output_type": "execute_result"
    }
   ],
   "execution_count": 56
  },
  {
   "cell_type": "markdown",
   "id": "e4926718dd8c6b87",
   "metadata": {
    "collapsed": false,
    "jupyter": {
     "outputs_hidden": false
    }
   },
   "source": [
    "If your document is changed, the previous version is deleted.\n",
    "> **Note:** Only the updated document is transformed ! So you save on treatments."
   ]
  },
  {
   "cell_type": "code",
   "id": "892dd66e8de8dc70",
   "metadata": {
    "collapsed": false,
    "jupyter": {
     "outputs_hidden": false
    },
    "ExecuteTime": {
     "end_time": "2024-06-14T09:06:20.676798Z",
     "start_time": "2024-06-14T09:06:20.617610Z"
    }
   },
   "source": [
    "documents[0].page_content += \" Is changed.\"\n",
    "result = index(docs_source=documents, cleanup=\"incremental\", **index_kwargs)\n",
    "result"
   ],
   "outputs": [
    {
     "data": {
      "text/plain": [
       "{'num_added': 1, 'num_updated': 0, 'num_skipped': 4, 'num_deleted': 1}"
      ]
     },
     "execution_count": 57,
     "metadata": {},
     "output_type": "execute_result"
    }
   ],
   "execution_count": 57
  },
  {
   "cell_type": "markdown",
   "id": "348aa8c04f101a3b",
   "metadata": {
    "collapsed": false,
    "jupyter": {
     "outputs_hidden": false
    }
   },
   "source": [
    "To delete the old records, use the `full` strategy."
   ]
  },
  {
   "cell_type": "code",
   "id": "849c68d044cfeef5",
   "metadata": {
    "collapsed": false,
    "jupyter": {
     "outputs_hidden": false
    },
    "ExecuteTime": {
     "end_time": "2024-06-14T09:06:20.698289Z",
     "start_time": "2024-06-14T09:06:20.677619Z"
    }
   },
   "source": [
    "del documents[-1]\n",
    "result = index(docs_source=documents, cleanup=\"full\", **index_kwargs)\n",
    "result"
   ],
   "outputs": [
    {
     "data": {
      "text/plain": [
       "{'num_added': 0, 'num_updated': 0, 'num_skipped': 4, 'num_deleted': 1}"
      ]
     },
     "execution_count": 58,
     "metadata": {},
     "output_type": "execute_result"
    }
   ],
   "execution_count": 58
  },
  {
   "cell_type": "markdown",
   "id": "372d1a1a-6ca2-490d-9086-5ecf221981a4",
   "metadata": {},
   "source": [
    "To delete the all records, use the full strategy and an empty list."
   ]
  },
  {
   "cell_type": "code",
   "id": "f3dbd925-fb40-4a1f-887d-b3cdfce8019d",
   "metadata": {
    "ExecuteTime": {
     "end_time": "2024-06-14T09:06:20.721218Z",
     "start_time": "2024-06-14T09:06:20.699121Z"
    }
   },
   "source": [
    "result = index(docs_source=[], cleanup=\"full\", **index_kwargs)\n",
    "result"
   ],
   "outputs": [
    {
     "data": {
      "text/plain": [
       "{'num_added': 0, 'num_updated': 0, 'num_skipped': 0, 'num_deleted': 4}"
      ]
     },
     "execution_count": 59,
     "metadata": {},
     "output_type": "execute_result"
    }
   ],
   "execution_count": 59
  },
  {
   "cell_type": "code",
   "id": "fb9d91de-2c2d-4171-9fc0-99a0ed631e2b",
   "metadata": {
    "ExecuteTime": {
     "end_time": "2024-06-14T09:06:20.846392Z",
     "start_time": "2024-06-14T09:06:20.722542Z"
    }
   },
   "source": [
    "# Re-import all documents\n",
    "result = index(docs_source=documents, cleanup=\"incremental\", **index_kwargs)\n",
    "result"
   ],
   "outputs": [
    {
     "data": {
      "text/plain": [
       "{'num_added': 4, 'num_updated': 0, 'num_skipped': 0, 'num_deleted': 0}"
      ]
     },
     "execution_count": 60,
     "metadata": {},
     "output_type": "execute_result"
    }
   ],
   "execution_count": 60
  },
  {
   "cell_type": "markdown",
   "id": "53ec51edafcdd6d2",
   "metadata": {
    "collapsed": false,
    "jupyter": {
     "outputs_hidden": false
    }
   },
   "source": [
    "It's important to note that there are three ways to save parts of the data:\n",
    "\n",
    "- In the *vector store*: this includes the bucket, metadata, and the associated embedding vectors.\n",
    "- In the *doc store*: this covers the original bucket and the relationship between parent and chunks before the *chunk transformations*.\n",
    "- In the *SQLRecordManager*: this involves the references of the parent document or chunks.\n",
    "\n",
    "> **Note:** Each source does not manage transactions. If a problem occurs while adding a document, it is highly likely that the sources will be inconsistent."
   ]
  },
  {
   "cell_type": "markdown",
   "id": "2981b01e756e9096",
   "metadata": {
    "collapsed": false,
    "jupyter": {
     "outputs_hidden": false
    }
   },
   "source": [
    "# Use advanced retrievers\n",
    "Just like with the standard vector store, you can convert the `RAGVectorStore` into a `Retriever`."
   ]
  },
  {
   "cell_type": "code",
   "id": "ec70b4b3dcc80eb8",
   "metadata": {
    "collapsed": false,
    "editable": true,
    "jupyter": {
     "outputs_hidden": false
    },
    "slideshow": {
     "slide_type": ""
    },
    "tags": [],
    "ExecuteTime": {
     "end_time": "2024-06-14T09:06:23.477320Z",
     "start_time": "2024-06-14T09:06:23.236425Z"
    }
   },
   "source": [
    "rag_retriever = rag_vectorstore.as_retriever()\n",
    "selected_chunks = rag_retriever.get_relevant_documents(query)\n",
    "pretty_print_docs(selected_chunks, [\"source\", \"_chunk_id\", \"title\"], \"Chunk\")"
   ],
   "outputs": [
    {
     "name": "stdout",
     "output_type": "stream",
     "text": [
      "\u001B[94mChunk 1:\n",
      "Mathematics is an area of knowledge that includes the topics of numbers, formula...[:2417] 431 toks\u001B[0m\n",
      "\u001B[92msource='https://en.wikipedia.org/wiki/Mathematics',\n",
      "_chunk_id='817ce9c2-0328-4117-8a5a-1ca5b717dc37',\n",
      "title='Mathematics'\u001B[0m\n",
      "----------------------------------------\n",
      "\u001B[94mChunk 2:\n",
      "== Etymology ==\n",
      "The word mathematics comes from Ancient Greek máthēma (μάθημα), ...[:1432] 387 toks\u001B[0m\n",
      "\u001B[92msource='https://en.wikipedia.org/wiki/Mathematics',\n",
      "_chunk_id='f9844536-6f1f-4864-8d23-c81ca5efb984',\n",
      "title='Mathematics'\u001B[0m\n"
     ]
    }
   ],
   "execution_count": 61
  },
  {
   "cell_type": "markdown",
   "id": "4d79dba17a046faa",
   "metadata": {
    "collapsed": false,
    "editable": true,
    "jupyter": {
     "outputs_hidden": false
    },
    "slideshow": {
     "slide_type": ""
    },
    "tags": []
   },
   "source": [
    "# Specialized Retrievers\n",
    "It's possible to combine multiple retrievers or use specialized retrievers for advanced applications."
   ]
  },
  {
   "cell_type": "markdown",
   "id": "da5f219067ca4a98",
   "metadata": {
    "collapsed": false,
    "jupyter": {
     "outputs_hidden": false
    }
   },
   "source": [
    "## SelfQueryRetriever\n",
    "The `SelfQueryRetriever` can generate a metadata filter. We use it to provide the option to filter the chunks by the title of the original document."
   ]
  },
  {
   "cell_type": "code",
   "id": "d3b8ab4707aef773",
   "metadata": {
    "collapsed": false,
    "jupyter": {
     "outputs_hidden": false
    },
    "ExecuteTime": {
     "end_time": "2024-06-14T09:06:45.093975Z",
     "start_time": "2024-06-14T09:06:44.757176Z"
    }
   },
   "source": [
    "from langchain.chains.query_constructor.schema import AttributeInfo\n",
    "from langchain.retrievers.self_query.base import SelfQueryRetriever\n",
    "\n",
    "metadata_field_info = [\n",
    "    AttributeInfo(\n",
    "        name=\"title\",\n",
    "        description=\"The title of the document.\",\n",
    "        type=\"string\",\n",
    "    ),\n",
    "]\n",
    "document_content_description = \"Documents on mathematics\"\n",
    "self_retriever = SelfQueryRetriever.from_llm(\n",
    "    llm,\n",
    "    rag_vectorstore,\n",
    "    document_content_description,\n",
    "    metadata_field_info,\n",
    "    use_original_query=True,\n",
    "    verbose=True,\n",
    ")\n",
    "\n",
    "pretty_print_docs(\n",
    "    self_retriever.get_relevant_documents(\n",
    "        \"In the document 'History of mathematics', \" + query\n",
    "    ),\n",
    "    [\"title\"],\n",
    "    kind=\"Chunk\",\n",
    ")"
   ],
   "outputs": [
    {
     "name": "stdout",
     "output_type": "stream",
     "text": [
      "\u001B[94mChunk 1:\n",
      "The history of mathematics deals with the origin of discoveries in mathematics a...[:3531] 711 toks\u001B[0m\n",
      "\u001B[92mtitle='History of mathematics'\u001B[0m\n"
     ]
    }
   ],
   "execution_count": 62
  },
  {
   "cell_type": "markdown",
   "id": "715f98bdc3a46341",
   "metadata": {
    "collapsed": false,
    "jupyter": {
     "outputs_hidden": false
    }
   },
   "source": [
    "> **Note:** We set `use_original_query` because, otherwise, the question can be modified if there is no filter on the metadata to be applied. Which is irrelevant (see [ticket](https://github.com/langchain-ai/langchain/pull/9309) )"
   ]
  },
  {
   "cell_type": "markdown",
   "id": "161e243eadf938e2",
   "metadata": {
    "collapsed": false,
    "jupyter": {
     "outputs_hidden": false
    }
   },
   "source": [
    "## MergerRetriever\n",
    "With filter, we can obtain a retriever specialized in summaries. But then you have to use chroma directly, in order to query the variations."
   ]
  },
  {
   "cell_type": "code",
   "id": "29aca35b60b7c847",
   "metadata": {
    "collapsed": false,
    "editable": true,
    "jupyter": {
     "outputs_hidden": false
    },
    "slideshow": {
     "slide_type": ""
    },
    "tags": [],
    "ExecuteTime": {
     "end_time": "2024-06-14T09:07:19.244851Z",
     "start_time": "2024-06-14T09:07:18.997541Z"
    }
   },
   "source": [
    "summary_retriever = chroma_vectorstore.as_retriever(\n",
    "    search_kwargs={\"filter\": {\"transformer\": {\"$eq\": 'SummarizeTransformer'}}}\n",
    ")\n",
    "pretty_print_docs(summary_retriever.get_relevant_documents(query), [\"transformer\"])"
   ],
   "outputs": [
    {
     "name": "stdout",
     "output_type": "stream",
     "text": [
      "\u001B[94mVariations 1:\n",
      "SUMMARY:\n",
      "Mathematics is a field of study that deals with numbers, formulas, shap...[:559] 119 toks\u001B[0m\n",
      "\u001B[92mtransformer='SummarizeTransformer'\u001B[0m\n",
      "----------------------------------------\n",
      "\u001B[94mVariations 2:\n",
      "SUMMARY:\n",
      "The history of mathematics dates back to ancient civilizations such as ...[:751] 163 toks\u001B[0m\n",
      "\u001B[92mtransformer='SummarizeTransformer'\u001B[0m\n",
      "----------------------------------------\n",
      "\u001B[94mVariations 3:\n",
      "SUMMARY:\n",
      "The word mathematics originated from the Greek word máthēma, meaning \"t...[:743] 183 toks\u001B[0m\n",
      "\u001B[92mtransformer='SummarizeTransformer'\u001B[0m\n",
      "----------------------------------------\n",
      "\u001B[94mVariations 4:\n",
      "SUMMARY:\n",
      "Mathematics competitions are events where participants complete a math ...[:357] 69 toks\u001B[0m\n",
      "\u001B[92mtransformer='SummarizeTransformer'\u001B[0m\n"
     ]
    }
   ],
   "execution_count": 63
  },
  {
   "cell_type": "markdown",
   "id": "30c261a17c2a969d",
   "metadata": {
    "collapsed": false,
    "jupyter": {
     "outputs_hidden": false
    }
   },
   "source": [
    "Just for the demo, we will combine it with the chunk retriever."
   ]
  },
  {
   "cell_type": "code",
   "id": "5bdf6111bcbfc6c2",
   "metadata": {
    "collapsed": false,
    "jupyter": {
     "outputs_hidden": false
    },
    "ExecuteTime": {
     "end_time": "2024-06-14T09:07:23.079680Z",
     "start_time": "2024-06-14T09:07:21.683914Z"
    }
   },
   "source": [
    "from langchain.retrievers.merger_retriever import MergerRetriever\n",
    "\n",
    "merge_retriever = MergerRetriever(retrievers=[self_retriever, summary_retriever])\n",
    "pretty_print_docs(\n",
    "    merge_retriever.get_relevant_documents(query), [\"transformer\"], kind=\"Chunk\"\n",
    ")"
   ],
   "outputs": [
    {
     "name": "stdout",
     "output_type": "stream",
     "text": [
      "\u001B[94mChunk 1:\n",
      "Mathematics is an area of knowledge that includes the topics of numbers, formula...[:2417] 431 toks\u001B[0m\n",
      "\u001B[92mtransformer=None\u001B[0m\n",
      "----------------------------------------\n",
      "\u001B[94mChunk 2:\n",
      "SUMMARY:\n",
      "Mathematics is a field of study that deals with numbers, formulas, shap...[:559] 119 toks\u001B[0m\n",
      "\u001B[92mtransformer='SummarizeTransformer'\u001B[0m\n",
      "----------------------------------------\n",
      "\u001B[94mChunk 3:\n",
      "== Etymology ==\n",
      "The word mathematics comes from Ancient Greek máthēma (μάθημα), ...[:1432] 387 toks\u001B[0m\n",
      "\u001B[92mtransformer=None\u001B[0m\n",
      "----------------------------------------\n",
      "\u001B[94mChunk 4:\n",
      "SUMMARY:\n",
      "The history of mathematics dates back to ancient civilizations such as ...[:751] 163 toks\u001B[0m\n",
      "\u001B[92mtransformer='SummarizeTransformer'\u001B[0m\n",
      "----------------------------------------\n",
      "\u001B[94mChunk 5:\n",
      "SUMMARY:\n",
      "The word mathematics originated from the Greek word máthēma, meaning \"t...[:743] 183 toks\u001B[0m\n",
      "\u001B[92mtransformer='SummarizeTransformer'\u001B[0m\n",
      "----------------------------------------\n",
      "\u001B[94mChunk 6:\n",
      "SUMMARY:\n",
      "Mathematics competitions are events where participants complete a math ...[:357] 69 toks\u001B[0m\n",
      "\u001B[92mtransformer='SummarizeTransformer'\u001B[0m\n"
     ]
    }
   ],
   "execution_count": 64
  },
  {
   "cell_type": "markdown",
   "id": "5577ae97cec80e50",
   "metadata": {
    "collapsed": false,
    "jupyter": {
     "outputs_hidden": false
    }
   },
   "source": [
    "## MultiQueryRetriever\n",
    "Retrieval results may vary with minor changes in query phrasing or if the embeddings do not accurately capture the data's semantics. The `MultiQueryRetriever` streamlines the prompt-tuning process by employing an LLM to generate multiple queries from diverse perspectives based on a user input query. For each query, it retrieves a collection of pertinent documents and combines the unique results from all queries to obtain a larger set of potentially relevant documents."
   ]
  },
  {
   "cell_type": "code",
   "id": "a3be992243890cc9",
   "metadata": {
    "collapsed": false,
    "editable": true,
    "jupyter": {
     "outputs_hidden": false
    },
    "slideshow": {
     "slide_type": ""
    },
    "tags": [],
    "ExecuteTime": {
     "end_time": "2024-06-14T09:07:30.170804Z",
     "start_time": "2024-06-14T09:07:24.985075Z"
    }
   },
   "source": [
    "from langchain.retrievers.multi_query import MultiQueryRetriever,logger\n",
    "logger.setLevel(logging.INFO)\n",
    "\n",
    "query = \"What is the difference between pure and applied mathematics?\"\n",
    "\n",
    "# Generate 3 questions from the user questions, and these version to find a better candidats in vectorstore\n",
    "multi_query_retriever = MultiQueryRetriever.from_llm(\n",
    "    llm=llm,\n",
    "    retriever=merge_retriever,\n",
    ")\n",
    "\n",
    "pretty_print_docs(multi_query_retriever.get_relevant_documents(query), [\"transformer\"],kind=\"Chunk\")\n",
    "final_retriever = multi_query_retriever"
   ],
   "outputs": [
    {
     "name": "stderr",
     "output_type": "stream",
     "text": [
      "INFO:langchain.retrievers.multi_query:Generated queries: ['1. Can you explain the contrast between pure and applied mathematics?', '2. How do pure and applied mathematics differ from each other?', '3. What sets pure and applied mathematics apart from one another?']\n"
     ]
    },
    {
     "name": "stdout",
     "output_type": "stream",
     "text": [
      "\u001B[94mChunk 1:\n",
      "Mathematics is an area of knowledge that includes the topics of numbers, formula...[:2417] 431 toks\u001B[0m\n",
      "\u001B[92mtransformer=None\u001B[0m\n",
      "----------------------------------------\n",
      "\u001B[94mChunk 2:\n",
      "SUMMARY:\n",
      "Mathematics is a field of study that deals with numbers, formulas, shap...[:559] 119 toks\u001B[0m\n",
      "\u001B[92mtransformer='SummarizeTransformer'\u001B[0m\n",
      "----------------------------------------\n",
      "\u001B[94mChunk 3:\n",
      "== Etymology ==\n",
      "The word mathematics comes from Ancient Greek máthēma (μάθημα), ...[:1432] 387 toks\u001B[0m\n",
      "\u001B[92mtransformer=None\u001B[0m\n",
      "----------------------------------------\n",
      "\u001B[94mChunk 4:\n",
      "SUMMARY:\n",
      "The history of mathematics dates back to ancient civilizations such as ...[:751] 163 toks\u001B[0m\n",
      "\u001B[92mtransformer='SummarizeTransformer'\u001B[0m\n",
      "----------------------------------------\n",
      "\u001B[94mChunk 5:\n",
      "SUMMARY:\n",
      "The word mathematics originated from the Greek word máthēma, meaning \"t...[:743] 183 toks\u001B[0m\n",
      "\u001B[92mtransformer='SummarizeTransformer'\u001B[0m\n",
      "----------------------------------------\n",
      "\u001B[94mChunk 6:\n",
      "SUMMARY:\n",
      "Mathematics competitions are events where participants complete a math ...[:357] 69 toks\u001B[0m\n",
      "\u001B[92mtransformer='SummarizeTransformer'\u001B[0m\n"
     ]
    }
   ],
   "execution_count": 65
  },
  {
   "cell_type": "markdown",
   "id": "ee7c70d5449684d8",
   "metadata": {
    "collapsed": false,
    "jupyter": {
     "outputs_hidden": false
    }
   },
   "source": [
    "## Others...\n",
    "Other strategies can be added. This depends on the project, and above all on their relevance to the quality of the documents handled.\n",
    "\n",
    "- The `EnsembleRetriever` takes a list of retrievers as input and ensemble the results of their `get_relevant_documents()` methods and rerank the results based on the [Reciprocal Rank Fusion algorithm](https://plg.uwaterloo.ca/~gvcormac/cormacksigir09-rrf.pdf).\n",
    "- ..."
   ]
  },
  {
   "cell_type": "markdown",
   "id": "3369a18f602a1b83",
   "metadata": {
    "collapsed": false,
    "jupyter": {
     "outputs_hidden": false
    }
   },
   "source": [
    "At this stage, when we employ the retriever:\n",
    "\n",
    "- Multiple queries are generated to locate the relevant documents (via `multi_query_retriever`).\n",
    "- For each query:\n",
    "    - Variations are used for better selection of chunks (via ̀`RagVectorstore`)\n",
    "    - Both the original chunk and the chunk summary are retrieved (via `MergeRetriever`).\n",
    "    - If feasible, a metadata filter is applied (via `SelfQueryRetriever`)\n",
    "- Only this selected candidate can be used to answer a question."
   ]
  },
  {
   "cell_type": "markdown",
   "id": "e231bfd97367dc51",
   "metadata": {
    "collapsed": false,
    "jupyter": {
     "outputs_hidden": false
    }
   },
   "source": [
    "# Use a compressor\n",
    "It's possible to use a *compressor*, to filter the selection, and reduce the volume of each chunks.\n",
    "\n",
    "You can combine some filters in a pipeline.\n",
    "- The [EmbeddingsFilter](https://python.langchain.com/docs/modules/data_connection/retrievers/contextual_compression#embeddingsfilter) can add a similarity threshold between the query and documents\n",
    "- The [CohereRerank](https://python.langchain.com/docs/integrations/retrievers/cohere-reranker) can re-rank the chunks (Need API key).\n",
    "- The [LLMChainFilter](https://python.langchain.com/docs/modules/data_connection/retrievers/contextual_compression#llmchainfilter) decide which of the initially retrieved documents to filter out and which ones to return, without manipulating the document contents.\n",
    "- THe [LongContextReorder](https://python.langchain.com/docs/integrations/retrievers/merger_retriever#re-order-results-to-avoid-performance-degradation) to reorder the selected documents\n",
    "- ..."
   ]
  },
  {
   "cell_type": "code",
   "id": "67cbede89e25ee4",
   "metadata": {
    "collapsed": false,
    "jupyter": {
     "outputs_hidden": false
    },
    "ExecuteTime": {
     "end_time": "2024-06-14T09:07:38.026914Z",
     "start_time": "2024-06-14T09:07:38.023975Z"
    }
   },
   "source": [
    "from langchain.retrievers.document_compressors import EmbeddingsFilter\n",
    "\n",
    "embeddings_filter = EmbeddingsFilter(\n",
    "    embeddings=embeddings,\n",
    "    similarity_threshold=0.7,  # Threshold for determining when two documents are redundant.\n",
    ")"
   ],
   "outputs": [],
   "execution_count": 66
  },
  {
   "cell_type": "code",
   "id": "fd165fb056847283",
   "metadata": {
    "collapsed": false,
    "jupyter": {
     "outputs_hidden": false
    },
    "ExecuteTime": {
     "end_time": "2024-06-14T09:07:40.488014Z",
     "start_time": "2024-06-14T09:07:40.483135Z"
    }
   },
   "source": [
    "from langchain_community.document_transformers import LongContextReorder\n",
    "\n",
    "long_context_reorder = LongContextReorder()"
   ],
   "outputs": [],
   "execution_count": 67
  },
  {
   "cell_type": "code",
   "id": "2d1371cafbc000ab",
   "metadata": {
    "collapsed": false,
    "jupyter": {
     "outputs_hidden": false
    },
    "ExecuteTime": {
     "end_time": "2024-06-14T09:07:41.163073Z",
     "start_time": "2024-06-14T09:07:41.160556Z"
    }
   },
   "source": [
    "# Combine compressors\n",
    "from langchain.retrievers.document_compressors import DocumentCompressorPipeline\n",
    "\n",
    "compressor = DocumentCompressorPipeline(\n",
    "    transformers=[\n",
    "        # embeddings_filter, # Deactivated, so as not to conflict with RAGVectorstore\n",
    "        long_context_reorder,\n",
    "    ]\n",
    ")"
   ],
   "outputs": [],
   "execution_count": 68
  },
  {
   "cell_type": "markdown",
   "id": "4784853ec5a5e5b5",
   "metadata": {
    "collapsed": false,
    "jupyter": {
     "outputs_hidden": false
    }
   },
   "source": [
    "> **Note:** We do not use `embeddings_filter`, because a fragment can have a proximity < 0.7, but one of its variations a higher proximity. We want to keep the fragment in this case."
   ]
  },
  {
   "cell_type": "markdown",
   "id": "a10c8c0a080849fd",
   "metadata": {
    "collapsed": false,
    "jupyter": {
     "outputs_hidden": false
    }
   },
   "source": [
    "Now, we can add a filter with our pipeline."
   ]
  },
  {
   "cell_type": "code",
   "id": "537aa32a60d7b71d",
   "metadata": {
    "collapsed": false,
    "editable": true,
    "jupyter": {
     "outputs_hidden": false
    },
    "slideshow": {
     "slide_type": ""
    },
    "tags": [],
    "ExecuteTime": {
     "end_time": "2024-06-14T09:07:46.437625Z",
     "start_time": "2024-06-14T09:07:45.010309Z"
    }
   },
   "source": [
    "from langchain.retrievers import ContextualCompressionRetriever\n",
    "\n",
    "query = \"What is the difference between pure and applied mathematics?\"\n",
    "\n",
    "compression_retriever = ContextualCompressionRetriever(\n",
    "    base_compressor=compressor, base_retriever=multi_query_retriever\n",
    ")\n",
    "\n",
    "pretty_print_docs(compression_retriever.get_relevant_documents(query))"
   ],
   "outputs": [
    {
     "name": "stderr",
     "output_type": "stream",
     "text": [
      "INFO:langchain.retrievers.multi_query:Generated queries: ['1. Can you explain the contrast between pure and applied mathematics?', '2. How do pure and applied mathematics differ from each other?', '3. What sets pure and applied mathematics apart from one another?']\n"
     ]
    },
    {
     "name": "stdout",
     "output_type": "stream",
     "text": [
      "\u001B[94mVariations 1:\n",
      "SUMMARY:\n",
      "Mathematics is a field of study that deals with numbers, formulas, shap...[:559] 119 toks\u001B[0m\n",
      "----------------------------------------\n",
      "\u001B[94mVariations 2:\n",
      "SUMMARY:\n",
      "The history of mathematics dates back to ancient civilizations such as ...[:751] 163 toks\u001B[0m\n",
      "----------------------------------------\n",
      "\u001B[94mVariations 3:\n",
      "SUMMARY:\n",
      "Mathematics competitions are events where participants complete a math ...[:357] 69 toks\u001B[0m\n",
      "----------------------------------------\n",
      "\u001B[94mVariations 4:\n",
      "SUMMARY:\n",
      "The word mathematics originated from the Greek word máthēma, meaning \"t...[:743] 183 toks\u001B[0m\n",
      "----------------------------------------\n",
      "\u001B[94mVariations 5:\n",
      "== Etymology ==\n",
      "The word mathematics comes from Ancient Greek máthēma (μάθημα), ...[:1432] 387 toks\u001B[0m\n",
      "----------------------------------------\n",
      "\u001B[94mVariations 6:\n",
      "Mathematics is an area of knowledge that includes the topics of numbers, formula...[:2417] 431 toks\u001B[0m\n"
     ]
    }
   ],
   "execution_count": 69
  },
  {
   "cell_type": "code",
   "id": "c613c2674527f644",
   "metadata": {
    "collapsed": false,
    "jupyter": {
     "outputs_hidden": false
    },
    "ExecuteTime": {
     "end_time": "2024-06-14T09:07:47.860131Z",
     "start_time": "2024-06-14T09:07:47.857622Z"
    }
   },
   "source": [
    "final_retriever = compression_retriever"
   ],
   "outputs": [],
   "execution_count": 70
  },
  {
   "cell_type": "markdown",
   "id": "169c4be830f438ca",
   "metadata": {
    "collapsed": false,
    "jupyter": {
     "outputs_hidden": false
    }
   },
   "source": [
    "The final map is:\n",
    "\n",
    "![Chain of retrievers](plantuml/all_retrievers.png)"
   ]
  },
  {
   "cell_type": "markdown",
   "id": "13e195db90457352",
   "metadata": {
    "collapsed": false,
    "jupyter": {
     "outputs_hidden": false
    }
   },
   "source": [
    "# Asking a Question\n",
    "\n",
    "Now, it's possible to utilize this architecture to pose a question. We hope that all these optimisations will lead to a better selection of chunks, based on the user's question."
   ]
  },
  {
   "cell_type": "markdown",
   "id": "e146b3fb5aa1a8c4",
   "metadata": {
    "collapsed": false,
    "jupyter": {
     "outputs_hidden": false
    }
   },
   "source": [
    "A problem can arise if the number of documents to be analysed is too large for the size of the prompt.\n",
    "Several strategies are available to manage this, identified by the \n",
    "[`chain_type`](https://python.langchain.com/docs/use_cases/question_answering/vector_db_qa#chain-type) parameter.\n",
    "\n",
    "> **Note 1**: The version `load_qa_chain()` and `RetrievalQAWithSourcesChain` are subject to hallucinations. They can respond without using the documents provided. This is not the case for `RetrievalQAWithReferencesChain` and `RetrievalQAWithReferencesAndVerbatimsChain`.\n",
    "\n",
    "> **Note 2**: The `map_reduce` chain type, use an approach similar to *compressor*, but working recursively to keep the number of tokens below a threshold. "
   ]
  },
  {
   "cell_type": "code",
   "id": "528d6cea511e95c6",
   "metadata": {
    "collapsed": false,
    "editable": true,
    "jupyter": {
     "outputs_hidden": false
    },
    "slideshow": {
     "slide_type": ""
    },
    "tags": [],
    "ExecuteTime": {
     "end_time": "2024-06-14T09:07:58.421721Z",
     "start_time": "2024-06-14T09:07:53.665287Z"
    }
   },
   "source": [
    "from langchain.chains.question_answering import load_qa_chain\n",
    "query = \"What is the difference between pure and applied mathematics?\"\n",
    "\n",
    "chain = load_qa_chain(\n",
    "    llm,\n",
    "    \n",
    "    chain_type=\"map_reduce\",  # \"stuff\", \"map_reduce\", \"refine\", \"map_rerank\"\n",
    ")\n",
    "result = chain.invoke(\n",
    "    {\n",
    "        \"input_documents\": final_retriever.get_relevant_documents(query),\n",
    "        \"question\": query,\n",
    "    },\n",
    "    callbacks=CALLBACKS,\n",
    ")\n",
    "print(result[\"output_text\"])"
   ],
   "outputs": [
    {
     "name": "stderr",
     "output_type": "stream",
     "text": [
      "INFO:langchain.retrievers.multi_query:Generated queries: ['1. Can you explain the contrast between pure and applied mathematics?', '2. How do pure and applied mathematics differ from each other?', '3. What sets pure and applied mathematics apart from one another?']\n"
     ]
    },
    {
     "name": "stdout",
     "output_type": "stream",
     "text": [
      " Pure mathematics is concerned with abstract concepts and theories, while applied mathematics uses these concepts to solve real-world problems.\n"
     ]
    }
   ],
   "execution_count": 71
  },
  {
   "cell_type": "markdown",
   "id": "c5178548aed66397",
   "metadata": {
    "collapsed": false,
    "jupyter": {
     "outputs_hidden": false
    }
   },
   "source": [
    "If the documents have `sources` and the URLs are not too large, you can use `RetrievalQAWithSourcesChain`."
   ]
  },
  {
   "cell_type": "code",
   "id": "82d24ebb6d278bac",
   "metadata": {
    "collapsed": false,
    "jupyter": {
     "outputs_hidden": false
    },
    "ExecuteTime": {
     "end_time": "2024-06-14T09:08:01.047518Z",
     "start_time": "2024-06-14T09:07:58.426106Z"
    }
   },
   "source": [
    "from langchain.chains import RetrievalQAWithSourcesChain\n",
    "\n",
    "chain = RetrievalQAWithSourcesChain.from_chain_type(\n",
    "    llm=llm,\n",
    "    chain_type=\"map_reduce\",  # \"stuff\", \"map_reduce\", \"refine\", \"map_rerank\"\n",
    "    retriever=final_retriever,\n",
    "    callbacks=CALLBACKS,\n",
    ")\n",
    "result = chain.invoke(query)\n",
    "print(result[\"answer\"])\n",
    "pretty_print_docs(result[\"sources\"])"
   ],
   "outputs": [
    {
     "name": "stderr",
     "output_type": "stream",
     "text": [
      "INFO:langchain.retrievers.multi_query:Generated queries: ['1. Can you explain the contrast between pure and applied mathematics?', '2. How do pure and applied mathematics differ from each other?', '3. What sets pure and applied mathematics apart from one another?']\n"
     ]
    },
    {
     "name": "stdout",
     "output_type": "stream",
     "text": [
      " Pure mathematics is concerned with abstract concepts and theories, while applied mathematics uses these concepts to solve real-world problems.\n",
      "\n",
      "\u001B[92mhttps://en.wikipedia.org/wiki/History_of_mathematics, https://en.wikipedia.org/wiki/Mathematics\u001B[0m\n"
     ]
    }
   ],
   "execution_count": 72
  },
  {
   "cell_type": "code",
   "id": "49beb23b22096ce2",
   "metadata": {
    "collapsed": false,
    "editable": true,
    "jupyter": {
     "outputs_hidden": false
    },
    "slideshow": {
     "slide_type": ""
    },
    "tags": [],
    "ExecuteTime": {
     "end_time": "2024-06-14T09:08:02.120237Z",
     "start_time": "2024-06-14T09:08:02.115727Z"
    }
   },
   "source": [
    "# Clean up\n",
    "import shutil\n",
    "\n",
    "shutil.rmtree(ROOT_PATH)"
   ],
   "outputs": [],
   "execution_count": 73
  },
  {
   "cell_type": "markdown",
   "id": "62089560-bf04-4426-a5f3-acfa656edbd5",
   "metadata": {
    "ExecuteTime": {
     "start_time": "2023-11-07T07:41:47.451317026Z"
    },
    "collapsed": false,
    "editable": true,
    "jupyter": {
     "outputs_hidden": false
    },
    "slideshow": {
     "slide_type": ""
    },
    "tags": []
   },
   "source": [
    "# References\n",
    "- [Why Your RAG Is Not Reliable in a Production Environment](https://towardsdatascience.com/why-your-rag-is-not-reliable-in-a-production-environment-9e6a73b3eddb)\n",
    "- [Forget RAG, the Future is RAG-Fusion](https://towardsdatascience.com/forget-rag-the-future-is-rag-fusion-1147298d8ad1)\n",
    "- [A first intro to Complex RAG](https://medium.com/enterprise-rag/a-first-intro-to-complex-rag-retrieval-augmented-generation-a8624d70090f)\n",
    "- [Advanced RAG Techniques: an Illustrated Overview](https://pub.towardsai.net/advanced-rag-techniques-an-illustrated-overview-04d193d8fec6)\n",
    "- [weblangchain](https://blog.langchain.dev/weblangchain/)\n",
    "- [How Chunk Sizes Affect Semantic Retrieval Results](https://ai.plainenglish.io/investigating-chunk-size-on-semantic-results-b465867d8ca1)"
   ]
  },
  {
   "cell_type": "code",
   "id": "6017e543ff516927",
   "metadata": {
    "collapsed": false,
    "jupyter": {
     "outputs_hidden": false
    }
   },
   "source": [],
   "outputs": [],
   "execution_count": null
  }
 ],
 "metadata": {
  "kernelspec": {
   "display_name": "langchain-rag",
   "language": "python",
   "name": "langchain-rag"
  },
  "language_info": {
   "codemirror_mode": {
    "name": "ipython",
    "version": 3
   },
   "file_extension": ".py",
   "mimetype": "text/x-python",
   "name": "python",
   "nbconvert_exporter": "python",
   "pygments_lexer": "ipython3",
   "version": "3.11.4"
  }
 },
 "nbformat": 4,
 "nbformat_minor": 5
}
