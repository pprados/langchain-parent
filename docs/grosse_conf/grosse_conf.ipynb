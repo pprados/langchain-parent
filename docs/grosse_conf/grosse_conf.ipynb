{
 "cells": [
  {
   "cell_type": "markdown",
   "id": "cbeb8467-1bae-4d91-a395-6c79e9611786",
   "metadata": {
    "editable": true,
    "jp-MarkdownHeadingCollapsed": true,
    "slideshow": {
     "slide_type": "slide"
    },
    "tags": []
   },
   "source": [
    "## Demo Grosse Conf 2024\n",
    "\n",
    "![Image](https://www.lagrosseconf.com/assets/logo.svg)\n"
   ]
  },
  {
   "cell_type": "code",
   "execution_count": null,
   "id": "1568f192-e49b-416f-ac4b-c297885eaab4",
   "metadata": {
    "editable": true,
    "slideshow": {
     "slide_type": ""
    },
    "tags": []
   },
   "outputs": [],
   "source": [
    "# Demo Grosse Conf 2024\n",
    "\n",
    "![Image](https://www.lagrosseconf.com/assets/logo.svg)"
   ]
  },
  {
   "cell_type": "markdown",
   "id": "9b86beba-b0bd-4690-a77b-ae133d3750be",
   "metadata": {
    "slideshow": {
     "slide_type": "slide"
    },
    "tags": []
   },
   "source": [
    "## Prepare environment"
   ]
  },
  {
   "cell_type": "code",
   "execution_count": 1,
   "id": "6ae8e747-2598-4ae5-a101-658b53c3d6f4",
   "metadata": {
    "ExecuteTime": {
     "end_time": "2024-01-30T09:01:31.465463162Z",
     "start_time": "2024-01-30T09:01:29.748914438Z"
    },
    "editable": true,
    "slideshow": {
     "slide_type": ""
    },
    "tags": []
   },
   "outputs": [],
   "source": [
    "#%pip install -q --upgrade pip langchain-rag langchain-openai langchain_qa_with_references python-dotenv wikipedia chromadb lark\n",
    "\n",
    "import logging\n",
    "import pathlib\n",
    "import tempfile\n",
    "import logging\n",
    "from typing import List\n",
    "from typing import Union\n",
    "from langchain_openai import OpenAI\n",
    "from langchain_core.documents import Document\n",
    "import tiktoken\n",
    "\n",
    "import os\n",
    "import shutil\n",
    "\n",
    "from dotenv import load_dotenv\n",
    "\n",
    "load_dotenv(override=True)\n",
    "logging.basicConfig(level=logging.ERROR)\n",
    "\n",
    "ROOT_PATH = tempfile._gettempdir() + \"/rag\"\n",
    "if pathlib.Path(ROOT_PATH).exists():\n",
    "    shutil.rmtree(ROOT_PATH)\n",
    "pathlib.Path(ROOT_PATH).mkdir(exist_ok=True)\n",
    "\n",
    "encoding = tiktoken.encoding_for_model(\"gpt-3.5-turbo\")\n",
    "CALLBACKS = []\n",
    "\n",
    "def pretty_print_docs(\n",
    "        docs: Union[str, List[Document]], metadatas=[], kind: str = \"Variations\"\n",
    "):\n",
    "    def print_metadata(d):\n",
    "        s = \",\\n\".join(\n",
    "            [f\"{metadata}={repr(d.metadata.get(metadata))}\" for metadata in metadatas]\n",
    "        )\n",
    "        if s:\n",
    "            return f\"\\n\\033[92m{s}\\033[0m\"\n",
    "        return \"\"\n",
    "\n",
    "    def print_doc(d, i):\n",
    "        r = f\"\\033[94m{kind} {i + 1}:\\n{d.page_content[:80]}\"\n",
    "        if len(d.page_content) > 80:\n",
    "            r += f\"...[:{max(0, len(d.page_content) - 80)}]\"\n",
    "        r+=f\" {len(encoding.encode(d.page_content))} toks\"\n",
    "        r += f\"\\033[0m{print_metadata(d)}\"\n",
    "        return r\n",
    "\n",
    "    if isinstance(docs, list):\n",
    "        print(f\"\\n{'-' * 40}\\n\".join([print_doc(d, i) for i, d in enumerate(docs)]))\n",
    "    else:\n",
    "        print(f\"\\033[92m{docs}\\033[0m\")\n",
    "\n",
    "if \"OPENAI_API_KEY\" not in os.environ:\n",
    "    os.environ[\"OPENAI_API_KEY\"] = \"\"  # Set api key\"\n",
    "\n",
    "# Add a cache\n",
    "from langchain.cache import SQLiteCache\n",
    "import langchain\n",
    "\n",
    "LANCHAIN_CACHE_PATH = ROOT_PATH + \"/cache_llm\"\n",
    "langchain.llm_cache = SQLiteCache(database_path=LANCHAIN_CACHE_PATH)\n",
    "\n",
    "from langchain_openai import OpenAIEmbeddings\n",
    "\n",
    "openai_embeddings = OpenAIEmbeddings()\n",
    "\n",
    "# Add a cache\n",
    "CACHE_EMBEDDING_PATH = ROOT_PATH + \"/cache_embedding\"\n",
    "from langchain.storage import LocalFileStore\n",
    "\n",
    "fs = LocalFileStore(CACHE_EMBEDDING_PATH)\n",
    "\n",
    "from langchain.embeddings import CacheBackedEmbeddings\n",
    "\n",
    "embeddings = CacheBackedEmbeddings.from_bytes_store(\n",
    "    openai_embeddings,\n",
    "    fs,\n",
    "    namespace=openai_embeddings.model if hasattr(openai_embeddings, \"model\") else \"unknown\",\n",
    ")"
   ]
  },
  {
   "cell_type": "code",
   "execution_count": 2,
   "id": "f1e7da56-3010-46f1-9e30-b81a3a3af890",
   "metadata": {
    "ExecuteTime": {
     "end_time": "2024-01-30T09:01:31.465463162Z",
     "start_time": "2024-01-30T09:01:29.748914438Z"
    },
    "editable": true,
    "slideshow": {
     "slide_type": "subslide"
    },
    "tags": []
   },
   "outputs": [
    {
     "name": "stdout",
     "output_type": "stream",
     "text": [
      "top_k=4 context_size=4096 prompt_tokens=409, doc_tokens=717, input_tokens=3277, output_tokens=819\n"
     ]
    }
   ],
   "source": [
    "# Calculates the parameters\n",
    "nb_documents_to_import = 3  # How many documents should be imported from Wikipedia?\n",
    "doc_content_chars_max = 4000 # First chars for wikipedia docs\n",
    "top_k = 4  # How many chunks should be injected in the prompt to answer the question?\n",
    "\n",
    "embeddings_tokens_limit= openai_embeddings.embedding_ctx_length\n",
    "\n",
    "context_size = 4096  # The GPT3.5 limit\n",
    "\n",
    "# 10% for the prompt without context\n",
    "prompt_tokens = int(context_size * (10 / 100))  \n",
    "\n",
    "# 20% for the response\n",
    "output_tokens = int(context_size * (20 / 100))  \n",
    "\n",
    "# Minimum tokens for one document\n",
    "min_doc_tokens = 200\n",
    "\n",
    "# Maximum size for each documents to inject\n",
    "doc_tokens = (context_size - prompt_tokens - output_tokens ) // top_k\n",
    "if doc_tokens > embeddings_tokens_limit:\n",
    "    top_k = (context_size - prompt_tokens - output_tokens ) // embeddings_tokens_limit\n",
    "elif doc_tokens < min_doc_tokens:\n",
    "    top_k = (context_size - prompt_tokens - output_tokens ) // min_doc_tokens\n",
    "\n",
    "# Then, the maximum nomber of tokens for the prompt\n",
    "input_tokens = context_size - output_tokens\n",
    "\n",
    "print(f\"{top_k=} {context_size=} {prompt_tokens=}, {doc_tokens=}, {input_tokens=}, {output_tokens=}\")"
   ]
  },
  {
   "cell_type": "code",
   "execution_count": 3,
   "id": "5a3f5a9e-c4fd-436e-bd24-4559b3793746",
   "metadata": {
    "ExecuteTime": {
     "end_time": "2024-01-30T09:01:43.470184795Z",
     "start_time": "2024-01-30T09:01:43.343640034Z"
    },
    "editable": true,
    "slideshow": {
     "slide_type": ""
    },
    "tags": []
   },
   "outputs": [],
   "source": [
    "llm = OpenAI(\n",
    "    model=\"gpt-3.5-turbo-instruct\",\n",
    "    temperature=0.2,\n",
    "    max_tokens=output_tokens,\n",
    ")"
   ]
  },
  {
   "cell_type": "markdown",
   "id": "ea739de1-badb-4595-80a4-e8148f4c327d",
   "metadata": {
    "editable": true,
    "slideshow": {
     "slide_type": "slide"
    },
    "tags": []
   },
   "source": [
    "## Lecture des documents"
   ]
  },
  {
   "cell_type": "code",
   "execution_count": 4,
   "id": "af6a3c4bb3423122",
   "metadata": {
    "ExecuteTime": {
     "end_time": "2024-01-30T09:01:52.920806956Z",
     "start_time": "2024-01-30T09:01:44.750141071Z"
    },
    "collapsed": false,
    "editable": true,
    "jupyter": {
     "outputs_hidden": false
    },
    "slideshow": {
     "slide_type": ""
    },
    "tags": []
   },
   "outputs": [
    {
     "name": "stdout",
     "output_type": "stream",
     "text": [
      "\u001b[94mDocuments 1:\n",
      "Mathematics is an area of knowledge that includes the topics of numbers, formula...[:3920] 814 toks\u001b[0m\n",
      "----------------------------------------\n",
      "\u001b[94mDocuments 2:\n",
      "The history of mathematics deals with the origin of discoveries in mathematics a...[:3920] 789 toks\u001b[0m\n",
      "----------------------------------------\n",
      "\u001b[94mDocuments 3:\n",
      "Mathematical Reviews is a journal published by the American Mathematical Society...[:3920] 822 toks\u001b[0m\n"
     ]
    }
   ],
   "source": [
    "# Load documents\n",
    "from langchain_community.retrievers import WikipediaRetriever\n",
    "\n",
    "documents = WikipediaRetriever(\n",
    "    top_k_results=nb_documents_to_import, \n",
    "    doc_content_chars_max=doc_content_chars_max,\n",
    ").get_relevant_documents(\"mathematic\")\n",
    "pretty_print_docs(documents, kind=\"Documents\")"
   ]
  },
  {
   "cell_type": "code",
   "execution_count": 5,
   "id": "7b710173-ea10-4114-99de-1a7b0fbf67fc",
   "metadata": {
    "ExecuteTime": {
     "end_time": "2024-01-30T09:01:54.153494587Z",
     "start_time": "2024-01-30T09:01:54.050196906Z"
    },
    "editable": true,
    "slideshow": {
     "slide_type": ""
    },
    "tags": []
   },
   "outputs": [],
   "source": [
    "query = \"What is the difference between pure and applied mathematics?\""
   ]
  },
  {
   "cell_type": "markdown",
   "id": "91a0fa7e-097c-40d9-8187-fe121c678bff",
   "metadata": {
    "editable": true,
    "slideshow": {
     "slide_type": "skip"
    },
    "tags": []
   },
   "source": [
    "## Disclamer\n",
    "> La démonstration n'a pas vocation à montrer des exemples tirant partie à chaque fois des optimisations. C'est le calcul des métriques qui permettra de s'assurer de la pertinence d'une approche, pour une application spécifique."
   ]
  },
  {
   "cell_type": "markdown",
   "id": "a33d7d91-3cd7-4643-a46a-2e9337fda379",
   "metadata": {
    "editable": true,
    "slideshow": {
     "slide_type": "slide"
    },
    "tags": []
   },
   "source": [
    "## Nous allons commencer par l'import\n",
    "![Import](plantuml/opt_1.png)"
   ]
  },
  {
   "cell_type": "markdown",
   "id": "e20ff47d-933e-47be-9849-bccc78cf9309",
   "metadata": {
    "editable": true,
    "slideshow": {
     "slide_type": "slide"
    },
    "tags": []
   },
   "source": [
    "## Transformation en série des documents"
   ]
  },
  {
   "cell_type": "code",
   "execution_count": 6,
   "id": "97b6e300-50f4-41ae-a524-05030c2c865c",
   "metadata": {
    "ExecuteTime": {
     "end_time": "2024-01-30T09:01:58.161652676Z",
     "start_time": "2024-01-30T09:01:57.402209594Z"
    },
    "editable": true,
    "slideshow": {
     "slide_type": ""
    },
    "tags": []
   },
   "outputs": [],
   "source": [
    "from langchain.text_splitter import *\n",
    "from langchain_rag.document_transformers import *\n",
    "from langchain_rag.document_transformers import DocumentTransformerPipeline"
   ]
  },
  {
   "cell_type": "raw",
   "id": "69875a52-da5e-4601-a42b-46bcb31458a1",
   "metadata": {
    "editable": true,
    "raw_mimetype": "",
    "slideshow": {
     "slide_type": "subslide"
    },
    "tags": []
   },
   "source": [
    "Découpage des documents par rapport au format WIKI"
   ]
  },
  {
   "cell_type": "code",
   "execution_count": 7,
   "id": "9b766ee2-8982-429f-8ac7-4a652265b29c",
   "metadata": {
    "ExecuteTime": {
     "end_time": "2024-01-30T09:02:01.094268557Z",
     "start_time": "2024-01-30T09:02:00.964811361Z"
    },
    "editable": true,
    "slideshow": {
     "slide_type": ""
    },
    "tags": []
   },
   "outputs": [],
   "source": [
    "wiki_splitter = RecursiveCharacterTextSplitter(\n",
    "    separators=[\n",
    "        \"\\n={1,6} .* ={1,6}\",  # See https://en.wikipedia.org/wiki/Help:Wikitext\n",
    "        \"\\n----+\\n\",            \n",
    "        \"\\n\\n\",\n",
    "        \"\\n\",\n",
    "        \" \",\n",
    "    ],\n",
    "    is_separator_regex=True)\n"
   ]
  },
  {
   "cell_type": "code",
   "execution_count": null,
   "id": "46f67113-df51-4575-8df4-3fe94efedb7f",
   "metadata": {
    "ExecuteTime": {
     "end_time": "2024-01-30T09:02:01.912801107Z",
     "start_time": "2024-01-30T09:02:01.760370795Z"
    },
    "editable": true,
    "slideshow": {
     "slide_type": ""
    },
    "tags": []
   },
   "outputs": [],
   "source": []
  },
  {
   "cell_type": "markdown",
   "id": "0cbef1a7-f699-41b4-9e73-812666b85bcf",
   "metadata": {
    "editable": true,
    "slideshow": {
     "slide_type": "subslide"
    },
    "tags": []
   },
   "source": [
    "Découpage des documents par rapport au nombre de tokens"
   ]
  },
  {
   "cell_type": "code",
   "execution_count": 8,
   "id": "e196ee31-3eac-4230-bc57-4b05be6722d0",
   "metadata": {
    "ExecuteTime": {
     "end_time": "2024-01-30T09:02:03.632624362Z",
     "start_time": "2024-01-30T09:02:03.113983089Z"
    },
    "editable": true,
    "slideshow": {
     "slide_type": ""
    },
    "tags": []
   },
   "outputs": [],
   "source": [
    "token_splitter = TokenTextSplitter(\n",
    "    chunk_size=doc_tokens, \n",
    "    chunk_overlap=0)\n",
    "\n",
    "parent_transformer =DocumentTransformerPipeline(transformers=[wiki_splitter,token_splitter])"
   ]
  },
  {
   "cell_type": "code",
   "execution_count": null,
   "id": "88d4cf45-3135-4655-b992-8d489783ec71",
   "metadata": {
    "ExecuteTime": {
     "end_time": "2024-01-30T09:02:04.738653369Z",
     "start_time": "2024-01-30T09:02:04.585554545Z"
    },
    "editable": true,
    "slideshow": {
     "slide_type": ""
    },
    "tags": []
   },
   "outputs": [],
   "source": []
  },
  {
   "cell_type": "markdown",
   "id": "56f93ae4-12f4-4661-8e35-93ccb77bc199",
   "metadata": {
    "editable": true,
    "slideshow": {
     "slide_type": "subslide"
    },
    "tags": []
   },
   "source": [
    "Regardons ce que cela donne en les enchainant"
   ]
  },
  {
   "cell_type": "code",
   "execution_count": 9,
   "id": "dbb10dc0-6cf2-4e14-b55c-bb846ba97515",
   "metadata": {
    "ExecuteTime": {
     "end_time": "2024-01-30T09:02:05.880602208Z",
     "start_time": "2024-01-30T09:02:05.767354815Z"
    },
    "editable": true,
    "slideshow": {
     "slide_type": ""
    },
    "tags": []
   },
   "outputs": [
    {
     "data": {
      "text/plain": [
       "'Avant:3 documents, après:6 chunks'"
      ]
     },
     "execution_count": 9,
     "metadata": {},
     "output_type": "execute_result"
    }
   ],
   "source": [
    "chunk_documents = parent_transformer.transform_documents(documents)\n",
    "f\"Avant:{len(documents)} documents, après:{len(chunk_documents)} chunks\""
   ]
  },
  {
   "cell_type": "code",
   "execution_count": null,
   "id": "fbe4453b-519b-4ecc-b3f8-7ab1a41b40de",
   "metadata": {
    "ExecuteTime": {
     "end_time": "2024-01-30T09:02:07.594903808Z",
     "start_time": "2024-01-30T09:02:07.489349735Z"
    },
    "editable": true,
    "slideshow": {
     "slide_type": ""
    },
    "tags": []
   },
   "outputs": [],
   "source": []
  },
  {
   "cell_type": "code",
   "execution_count": 11,
   "id": "a0dadc6c-bedf-4b90-94f8-db064f02be9e",
   "metadata": {
    "ExecuteTime": {
     "end_time": "2024-01-30T09:02:08.449006540Z",
     "start_time": "2024-01-30T09:02:08.295650035Z"
    },
    "editable": true,
    "slideshow": {
     "slide_type": "subslide"
    },
    "tags": []
   },
   "outputs": [
    {
     "name": "stdout",
     "output_type": "stream",
     "text": [
      "\u001b[94mChunk 1:\n",
      "Mathematics is an area of knowledge that includes the topics of numbers, formula...[:3338] 688 toks\u001b[0m\n",
      "\u001b[92msource='https://en.wikipedia.org/wiki/Mathematics'\u001b[0m\n",
      "----------------------------------------\n",
      "\u001b[94mChunk 2:\n",
      " Latin, and in English until around 1700, the term mathematics more commonly mea...[:502] 126 toks\u001b[0m\n",
      "\u001b[92msource='https://en.wikipedia.org/wiki/Mathematics'\u001b[0m\n",
      "----------------------------------------\n",
      "\u001b[94mChunk 3:\n",
      "The history of mathematics deals with the origin of discoveries in mathematics a...[:3537] 711 toks\u001b[0m\n",
      "\u001b[92msource='https://en.wikipedia.org/wiki/History_of_mathematics'\u001b[0m\n",
      "----------------------------------------\n",
      "\u001b[94mChunk 4:\n",
      " bone, found near the headwaters of the Nile river (northeastern Congo), may be ...[:303] 78 toks\u001b[0m\n",
      "\u001b[92msource='https://en.wikipedia.org/wiki/History_of_mathematics'\u001b[0m\n",
      "----------------------------------------\n",
      "\u001b[94mChunk 5:\n",
      "Mathematical Reviews is a journal published by the American Mathematical Society...[:3352] 699 toks\u001b[0m\n",
      "\u001b[92msource='https://en.wikipedia.org/wiki/Mathematical_Reviews'\u001b[0m\n",
      "----------------------------------------\n",
      "\u001b[94mChunk 6:\n",
      " or lower MCQ than average. The 2018 All Journal MCQ is 0.41.\n",
      "\n",
      "\n",
      "== Current Mathe...[:488] 123 toks\u001b[0m\n",
      "\u001b[92msource='https://en.wikipedia.org/wiki/Mathematical_Reviews'\u001b[0m\n"
     ]
    }
   ],
   "source": [
    "pretty_print_docs(chunk_documents,[\"source\"], kind=\"Chunk\")"
   ]
  },
  {
   "cell_type": "code",
   "execution_count": null,
   "id": "bfa7dc0e-8ea2-425c-aeef-89b848fe2afc",
   "metadata": {
    "ExecuteTime": {
     "end_time": "2024-01-30T09:02:09.673100217Z",
     "start_time": "2024-01-30T09:02:09.583789756Z"
    },
    "editable": true,
    "slideshow": {
     "slide_type": ""
    },
    "tags": []
   },
   "outputs": [],
   "source": []
  },
  {
   "cell_type": "markdown",
   "id": "79651e78d2831fcc",
   "metadata": {
    "collapsed": false,
    "editable": true,
    "jupyter": {
     "outputs_hidden": false
    },
    "slideshow": {
     "slide_type": "slide"
    },
    "tags": []
   },
   "source": [
    "## Transformation en parallèle de chaque chunks\n",
    "Pour chaque chunk, nous souhaitons plusieurs transformations"
   ]
  },
  {
   "cell_type": "code",
   "execution_count": 12,
   "id": "09aa4959-1325-43cd-a22e-0f7c983c8be5",
   "metadata": {
    "ExecuteTime": {
     "end_time": "2024-01-30T09:02:11.383948806Z",
     "start_time": "2024-01-30T09:02:11.241542924Z"
    },
    "editable": true,
    "slideshow": {
     "slide_type": ""
    },
    "tags": []
   },
   "outputs": [],
   "source": [
    "chunk_transformer = DocumentTransformers(\n",
    "    transformers=[\n",
    "        GenerateQuestionsTransformer.from_llm(llm),\n",
    "        SummarizeTransformer.from_llm(llm),\n",
    "        CopyDocumentTransformer(),\n",
    "    ]\n",
    ")"
   ]
  },
  {
   "cell_type": "code",
   "execution_count": 14,
   "id": "63cf0377ba48d2ad",
   "metadata": {
    "ExecuteTime": {
     "end_time": "2024-01-30T09:02:14.725272060Z",
     "start_time": "2024-01-30T09:02:12.263523151Z"
    },
    "collapsed": false,
    "editable": true,
    "jupyter": {
     "outputs_hidden": false
    },
    "slideshow": {
     "slide_type": ""
    },
    "tags": []
   },
   "outputs": [
    {
     "name": "stdout",
     "output_type": "stream",
     "text": [
      "\u001b[94mVariations 1:\n",
      "What are the major subdisciplines of modern mathematics? 12 toks\u001b[0m\n",
      "----------------------------------------\n",
      "\u001b[94mVariations 2:\n",
      "How do mathematicians define their academic discipline? 9 toks\u001b[0m\n",
      "----------------------------------------\n",
      "\u001b[94mVariations 3:\n",
      "What is the relationship between mathematical innovations and scientific discove...[:5] 11 toks\u001b[0m\n",
      "----------------------------------------\n",
      "\u001b[94mVariations 4:\n",
      "SUMMARY:\n",
      "Mathematics is a field of study that deals with numbers, formulas, shap...[:501] 121 toks\u001b[0m\n",
      "----------------------------------------\n",
      "\u001b[94mVariations 5:\n",
      "Mathematics is an area of knowledge that includes the topics of numbers, formula...[:3338] 688 toks\u001b[0m\n"
     ]
    }
   ],
   "source": [
    "variations_of_chunks = chunk_transformer.transform_documents(chunk_documents[:1])\n",
    "# Select the variations for the first chunk\n",
    "pretty_print_docs(variations_of_chunks)"
   ]
  },
  {
   "cell_type": "code",
   "execution_count": null,
   "id": "9e00e577-a50d-48bd-afa7-cef27ad62f95",
   "metadata": {
    "ExecuteTime": {
     "end_time": "2024-01-30T09:02:15.655873729Z",
     "start_time": "2024-01-30T09:02:15.523820878Z"
    },
    "editable": true,
    "slideshow": {
     "slide_type": ""
    },
    "tags": []
   },
   "outputs": [],
   "source": []
  },
  {
   "cell_type": "markdown",
   "id": "ff6c2f4a8b3c8248",
   "metadata": {
    "collapsed": false,
    "editable": true,
    "jupyter": {
     "outputs_hidden": false
    },
    "slideshow": {
     "slide_type": "slide"
    },
    "tags": []
   },
   "source": [
    "![Tree of variations](plantuml/variations.png)"
   ]
  },
  {
   "cell_type": "markdown",
   "id": "9a594c2a-1ddc-4eb7-a7ba-922923fe5dae",
   "metadata": {
    "editable": true,
    "slideshow": {
     "slide_type": "slide"
    },
    "tags": []
   },
   "source": [
    "## Sauvons tous cela dans un vectorstore\n",
    "Nous utilisons un wrapper, `RAGVectorStore` qui s'occupe de tout, et participe à la gestion du cycle de vie des documents."
   ]
  },
  {
   "cell_type": "markdown",
   "id": "4d873d0e0c5f64d9",
   "metadata": {
    "collapsed": false,
    "editable": true,
    "jupyter": {
     "outputs_hidden": false
    },
    "slideshow": {
     "slide_type": "subslide"
    },
    "tags": []
   },
   "source": [
    "### Etape par étape\n",
    "On a besoins de plusieurs composants pour persister les différents éléments:\n",
    "- Un vectostore pour stocker les vecteurs de chaque transformation.\n",
    "- Un `Docstore` pour stoquer tous les chunks avant transformation"
   ]
  },
  {
   "cell_type": "code",
   "execution_count": 15,
   "id": "dc155113-dd16-4c73-a13c-80d428bd7923",
   "metadata": {
    "ExecuteTime": {
     "end_time": "2024-01-30T09:02:26.592013091Z",
     "start_time": "2024-01-30T09:02:20.294488354Z"
    },
    "editable": true,
    "slideshow": {
     "slide_type": "subslide"
    },
    "tags": []
   },
   "outputs": [],
   "source": [
    "# Création d'un vectorstore d'acceuil\n",
    "from langchain_community.vectorstores import Chroma\n",
    "VS_PATH = ROOT_PATH + \"/vs\"\n",
    "chroma_vectorstore = Chroma(\n",
    "    collection_name=\"all_variations_of_chunks\",\n",
    "    embedding_function=embeddings,\n",
    "    persist_directory=VS_PATH,\n",
    ")"
   ]
  },
  {
   "cell_type": "code",
   "execution_count": 16,
   "id": "2d189e7e-3e59-43f0-9a8c-92fd7844c393",
   "metadata": {
    "ExecuteTime": {
     "end_time": "2024-01-30T09:02:26.637340252Z",
     "start_time": "2024-01-30T09:02:26.596317024Z"
    },
    "editable": true,
    "slideshow": {
     "slide_type": "subslide"
    },
    "tags": []
   },
   "outputs": [],
   "source": [
    "# Création d'un Docstore pour stocker les chunks avant transformation\n",
    "DOCSTORE_PATH = ROOT_PATH + \"/chunks\"\n",
    "from langchain.storage import EncoderBackedStore\n",
    "from langchain.storage import LocalFileStore\n",
    "import pickle\n",
    "\n",
    "docstore = EncoderBackedStore[str, Document](\n",
    "    store=LocalFileStore(root_path=DOCSTORE_PATH),\n",
    "    key_encoder=lambda x: x,\n",
    "    value_serializer=pickle.dumps,\n",
    "    value_deserializer=pickle.loads,\n",
    ")"
   ]
  },
  {
   "cell_type": "markdown",
   "id": "266663f2-bb6a-46dd-84cc-0ec67a5bf24e",
   "metadata": {
    "editable": true,
    "slideshow": {
     "slide_type": "subslide"
    },
    "tags": []
   },
   "source": [
    "Tous les documents doivent avoir un ID unique dans les metadata, afin de les identifier lors des mises à jours successives. Rien que du classique."
   ]
  },
  {
   "cell_type": "markdown",
   "id": "43dbc0b2-fcbf-43cf-9949-95116cc88929",
   "metadata": {
    "editable": true,
    "slideshow": {
     "slide_type": "subslide"
    },
    "tags": []
   },
   "source": [
    "Puis, nous ajoutons un VectorStore *maison*"
   ]
  },
  {
   "cell_type": "code",
   "execution_count": 17,
   "id": "27243020-cddf-4cd7-af78-c1c9e77aeb28",
   "metadata": {
    "ExecuteTime": {
     "end_time": "2024-01-30T09:02:26.929194270Z",
     "start_time": "2024-01-30T09:02:26.630256980Z"
    },
    "editable": true,
    "slideshow": {
     "slide_type": ""
    },
    "tags": []
   },
   "outputs": [],
   "source": [
    "# Création d'un RAGVectorStore avec tous les paramètres\n",
    "from langchain_rag.vectorstores import RAGVectorStore\n",
    "\n",
    "variation_k = 10\n",
    "rag_vectorstore = RAGVectorStore(\n",
    "    vectorstore=chroma_vectorstore,\n",
    "    docstore=docstore,\n",
    "    source_id_key=\"source\",  # Uniq id of documents\n",
    "    parent_transformer=parent_transformer,\n",
    "    chunk_transformer=chunk_transformer,\n",
    "    search_kwargs={\"k\": variation_k},\n",
    ")"
   ]
  },
  {
   "cell_type": "markdown",
   "id": "fc63e36d-0db6-4854-88b7-74568619124f",
   "metadata": {
    "editable": true,
    "slideshow": {
     "slide_type": "subslide"
    },
    "tags": []
   },
   "source": [
    "## RAGVectorStore\n",
    "![RagVectorStore](plantuml/all_retrievers_0.png)"
   ]
  },
  {
   "cell_type": "markdown",
   "id": "2039782f-9f63-4885-be09-ba9f7555b2cb",
   "metadata": {
    "editable": true,
    "slideshow": {
     "slide_type": "subslide"
    },
    "tags": []
   },
   "source": [
    "Maintenant, on peut y placer les documents. `RagVectorStore` se charge de toutes les transformations si nécessaire."
   ]
  },
  {
   "cell_type": "code",
   "execution_count": 18,
   "id": "ecd8eba9-36aa-4ed6-b32d-a7eef48289a5",
   "metadata": {
    "ExecuteTime": {
     "end_time": "2024-01-30T09:02:57.208979264Z",
     "start_time": "2024-01-30T09:02:29.464655073Z"
    },
    "editable": true,
    "slideshow": {
     "slide_type": ""
    },
    "tags": []
   },
   "outputs": [
    {
     "data": {
      "text/plain": [
       "['6d90af33d816d1b2c2a2e9d277e72862ff076c265da2756ece7d15a517070f5f',\n",
       " '492c728729e2274e2af6984dbc84d61d52f4799b7215fe175ad2b4c483a95449',\n",
       " '59dd02283f9dcfdbb7cf7f1ae11dcbe986a8e2621aa92c5dbf31be9bc1b07d3b']"
      ]
     },
     "execution_count": 18,
     "metadata": {},
     "output_type": "execute_result"
    }
   ],
   "source": [
    "ids = rag_vectorstore.add_documents(documents)\n",
    "chroma_vectorstore.persist()\n",
    "ids  # Les id des \"documents\" sauvegardées (et non des chunks)"
   ]
  },
  {
   "cell_type": "code",
   "execution_count": null,
   "id": "1d51a4c5-df7f-452c-9930-9e173e39c9ae",
   "metadata": {
    "ExecuteTime": {
     "end_time": "2024-01-30T09:02:57.211710416Z",
     "start_time": "2024-01-30T09:02:57.196449916Z"
    },
    "editable": true,
    "slideshow": {
     "slide_type": ""
    },
    "tags": []
   },
   "outputs": [],
   "source": []
  },
  {
   "cell_type": "markdown",
   "id": "805a0119fbd62cda",
   "metadata": {
    "collapsed": false,
    "editable": true,
    "jupyter": {
     "outputs_hidden": false
    },
    "slideshow": {
     "slide_type": "subslide"
    },
    "tags": []
   },
   "source": [
    "On peut alors faire une recherche de proximité, en tenant compte des variations."
   ]
  },
  {
   "cell_type": "code",
   "execution_count": 19,
   "id": "a15b4c8ac0660246",
   "metadata": {
    "ExecuteTime": {
     "end_time": "2024-01-30T09:02:57.438569593Z",
     "start_time": "2024-01-30T09:02:57.196830219Z"
    },
    "collapsed": false,
    "editable": true,
    "jupyter": {
     "outputs_hidden": false
    },
    "slideshow": {
     "slide_type": ""
    },
    "tags": []
   },
   "outputs": [
    {
     "name": "stdout",
     "output_type": "stream",
     "text": [
      "\u001b[94mChunk 1:\n",
      "Mathematics is an area of knowledge that includes the topics of numbers, formula...[:3338] 688 toks\u001b[0m\n",
      "\u001b[92msource='https://en.wikipedia.org/wiki/Mathematics',\n",
      "_chunk_id='05f14b5f-9d80-4da8-a3b2-e8c04ac94379'\u001b[0m\n",
      "----------------------------------------\n",
      "\u001b[94mChunk 2:\n",
      "The history of mathematics deals with the origin of discoveries in mathematics a...[:3537] 711 toks\u001b[0m\n",
      "\u001b[92msource='https://en.wikipedia.org/wiki/History_of_mathematics',\n",
      "_chunk_id='b0a07223-c1e9-46e7-8a29-178bfa11dfc1'\u001b[0m\n"
     ]
    }
   ],
   "source": [
    "pretty_print_docs(\n",
    "    rag_vectorstore.search(query=query, search_type=\"similarity\",k=2),\n",
    "    [\"source\", \"_chunk_id\"],\n",
    "    kind=\"Chunk\",\n",
    ")"
   ]
  },
  {
   "cell_type": "code",
   "execution_count": null,
   "id": "97f219f6-c542-4d7a-a16c-b32b052ede51",
   "metadata": {
    "ExecuteTime": {
     "end_time": "2024-01-30T09:02:57.463346442Z",
     "start_time": "2024-01-30T09:02:57.445744690Z"
    },
    "editable": true,
    "slideshow": {
     "slide_type": ""
    },
    "tags": []
   },
   "outputs": [],
   "source": []
  },
  {
   "cell_type": "markdown",
   "id": "0b7dc632-b45d-4517-92ee-e1c07d51e5cd",
   "metadata": {
    "editable": true,
    "slideshow": {
     "slide_type": "subslide"
    },
    "tags": []
   },
   "source": [
    "Et regarder le score ajusté de chaque fragment."
   ]
  },
  {
   "cell_type": "code",
   "execution_count": 20,
   "id": "2a94c8c6-db67-419a-a937-76970faa3ff5",
   "metadata": {
    "ExecuteTime": {
     "end_time": "2024-01-30T09:02:57.808125885Z",
     "start_time": "2024-01-30T09:02:57.449959804Z"
    },
    "editable": true,
    "slideshow": {
     "slide_type": ""
    },
    "tags": []
   },
   "outputs": [
    {
     "data": {
      "text/plain": [
       "[0.31326667435123784,\n",
       " 0.34496356843704257,\n",
       " 0.3457736659913206,\n",
       " 0.3612211012362359]"
      ]
     },
     "execution_count": 20,
     "metadata": {},
     "output_type": "execute_result"
    }
   ],
   "source": [
    "# La plus petite valeur est meilleure.\n",
    "[score for _,score in rag_vectorstore.similarity_search_with_score(query=query)]"
   ]
  },
  {
   "cell_type": "code",
   "execution_count": 21,
   "id": "f23ad52eae299824",
   "metadata": {
    "ExecuteTime": {
     "end_time": "2023-11-07T08:05:13.241888129Z",
     "start_time": "2023-11-07T08:05:13.110065388Z"
    },
    "collapsed": false,
    "editable": true,
    "jupyter": {
     "outputs_hidden": false
    },
    "slideshow": {
     "slide_type": ""
    },
    "tags": []
   },
   "outputs": [],
   "source": [
    "rag_vectorstore.delete(ids=ids)\n",
    "chroma_vectorstore.persist()"
   ]
  },
  {
   "cell_type": "markdown",
   "id": "96ba9eb40d3768f7",
   "metadata": {
    "collapsed": false,
    "editable": true,
    "jupyter": {
     "outputs_hidden": false
    },
    "slideshow": {
     "slide_type": "slide"
    },
    "tags": []
   },
   "source": [
    "## Index Vector Store\n",
    "Langchain propose une API pour gérer le cycle de vie des documents dans le VS.\n",
    "Il faut pour cela un `RecordManager` qui va garder le lien entre le document et ses chunks. Il faut alors utiliser `index()` pour importer les documents."
   ]
  },
  {
   "cell_type": "code",
   "execution_count": 22,
   "id": "6d3ea4486d47ea54",
   "metadata": {
    "ExecuteTime": {
     "end_time": "2023-11-07T08:05:15.019016282Z",
     "start_time": "2023-11-07T08:05:14.908310637Z"
    },
    "collapsed": false,
    "editable": true,
    "jupyter": {
     "outputs_hidden": false
    },
    "slideshow": {
     "slide_type": "subslide"
    },
    "tags": []
   },
   "outputs": [],
   "source": [
    "from langchain.indexes import index, SQLRecordManager\n",
    "\n",
    "record_manager = SQLRecordManager(\n",
    "    namespace=\"record_manager_cache\", db_url=f\"sqlite:///{ROOT_PATH}/record_manager.db\"\n",
    ")\n",
    "record_manager.create_schema()"
   ]
  },
  {
   "cell_type": "code",
   "execution_count": 23,
   "id": "29511638aa0cf089",
   "metadata": {
    "ExecuteTime": {
     "end_time": "2023-11-07T08:05:16.808873792Z",
     "start_time": "2023-11-07T08:05:16.538123415Z"
    },
    "collapsed": false,
    "editable": true,
    "jupyter": {
     "outputs_hidden": false
    },
    "slideshow": {
     "slide_type": ""
    },
    "tags": []
   },
   "outputs": [
    {
     "data": {
      "text/plain": [
       "{'num_added': 3, 'num_updated': 0, 'num_skipped': 0, 'num_deleted': 0}"
      ]
     },
     "execution_count": 23,
     "metadata": {},
     "output_type": "execute_result"
    }
   ],
   "source": [
    "# Save all the information in:\n",
    "# - record manager\n",
    "# - docstore\n",
    "# - vectorstore\n",
    "index_kwargs = {\n",
    "    \"record_manager\": record_manager,\n",
    "    \"vector_store\": rag_vectorstore,\n",
    "    \"source_id_key\": \"source\",\n",
    "}\n",
    "result = index(docs_source=documents, cleanup=\"incremental\", **index_kwargs)\n",
    "chroma_vectorstore.persist()\n",
    "result"
   ]
  },
  {
   "cell_type": "code",
   "execution_count": null,
   "id": "57a26259-2ee1-4980-ba19-554d89487de8",
   "metadata": {
    "editable": true,
    "slideshow": {
     "slide_type": ""
    },
    "tags": []
   },
   "outputs": [],
   "source": []
  },
  {
   "cell_type": "markdown",
   "id": "3a886113-732e-47f4-a3c8-4ae47ec959a2",
   "metadata": {
    "editable": true,
    "slideshow": {
     "slide_type": "subslide"
    },
    "tags": []
   },
   "source": [
    "## RAGVectorStore + index()\n",
    "![RagVectorStore](plantuml/all_retrievers_1.png)"
   ]
  },
  {
   "cell_type": "markdown",
   "id": "d95ff9c58b897997",
   "metadata": {
    "collapsed": false,
    "editable": true,
    "jupyter": {
     "outputs_hidden": false
    },
    "slideshow": {
     "slide_type": "subslide"
    },
    "tags": []
   },
   "source": [
    "Si on importe les mêmes documents, `index()` le sait et agit en conséquence. Tous les documents sont évités (et donc, les transformations également)."
   ]
  },
  {
   "cell_type": "code",
   "execution_count": 24,
   "id": "ea7c3fdc0ec4c5fd",
   "metadata": {
    "ExecuteTime": {
     "end_time": "2023-11-07T08:05:25.489420077Z",
     "start_time": "2023-11-07T08:05:25.387303162Z"
    },
    "collapsed": false,
    "editable": true,
    "jupyter": {
     "outputs_hidden": false
    },
    "slideshow": {
     "slide_type": ""
    },
    "tags": []
   },
   "outputs": [
    {
     "data": {
      "text/plain": [
       "{'num_added': 0, 'num_updated': 0, 'num_skipped': 3, 'num_deleted': 0}"
      ]
     },
     "execution_count": 24,
     "metadata": {},
     "output_type": "execute_result"
    }
   ],
   "source": [
    "result = index(docs_source=documents, cleanup=\"incremental\", **index_kwargs)\n",
    "chroma_vectorstore.persist()\n",
    "result"
   ]
  },
  {
   "cell_type": "code",
   "execution_count": null,
   "id": "b4d171a3-2869-421e-b1d6-d3bde300d2cd",
   "metadata": {
    "editable": true,
    "slideshow": {
     "slide_type": ""
    },
    "tags": []
   },
   "outputs": [],
   "source": []
  },
  {
   "cell_type": "markdown",
   "id": "e4926718dd8c6b87",
   "metadata": {
    "collapsed": false,
    "editable": true,
    "jupyter": {
     "outputs_hidden": false
    },
    "slideshow": {
     "slide_type": "subslide"
    },
    "tags": []
   },
   "source": [
    "Si un document évolue, la version précédante est supprimée.\n",
    "> **Note:** Seul les nouveaux documents sont transformé par RAGVectorStore."
   ]
  },
  {
   "cell_type": "code",
   "execution_count": 25,
   "id": "892dd66e8de8dc70",
   "metadata": {
    "ExecuteTime": {
     "end_time": "2023-11-07T08:05:29.866292849Z",
     "start_time": "2023-11-07T08:05:27.314901745Z"
    },
    "collapsed": false,
    "editable": true,
    "jupyter": {
     "outputs_hidden": false
    },
    "slideshow": {
     "slide_type": ""
    },
    "tags": []
   },
   "outputs": [
    {
     "data": {
      "text/plain": [
       "{'num_added': 1, 'num_updated': 0, 'num_skipped': 2, 'num_deleted': 1}"
      ]
     },
     "execution_count": 25,
     "metadata": {},
     "output_type": "execute_result"
    }
   ],
   "source": [
    "documents[0].page_content += \" Is changed.\"\n",
    "result = index(docs_source=documents, cleanup=\"incremental\", **index_kwargs)\n",
    "chroma_vectorstore.persist()\n",
    "result"
   ]
  },
  {
   "cell_type": "code",
   "execution_count": null,
   "id": "6cc77656-b7b0-4ddb-8806-474c6bf95032",
   "metadata": {
    "editable": true,
    "slideshow": {
     "slide_type": ""
    },
    "tags": []
   },
   "outputs": [],
   "source": []
  },
  {
   "cell_type": "markdown",
   "id": "348aa8c04f101a3b",
   "metadata": {
    "collapsed": false,
    "editable": true,
    "jupyter": {
     "outputs_hidden": false
    },
    "slideshow": {
     "slide_type": "subslide"
    },
    "tags": []
   },
   "source": [
    "Pour supprimer un ancien document, il faut utiliser la stratégie `full`."
   ]
  },
  {
   "cell_type": "code",
   "execution_count": 26,
   "id": "849c68d044cfeef5",
   "metadata": {
    "ExecuteTime": {
     "end_time": "2023-11-07T08:05:32.436953786Z",
     "start_time": "2023-11-07T08:05:32.349266936Z"
    },
    "collapsed": false,
    "editable": true,
    "jupyter": {
     "outputs_hidden": false
    },
    "slideshow": {
     "slide_type": ""
    },
    "tags": []
   },
   "outputs": [
    {
     "data": {
      "text/plain": [
       "{'num_added': 0, 'num_updated': 0, 'num_skipped': 2, 'num_deleted': 1}"
      ]
     },
     "execution_count": 26,
     "metadata": {},
     "output_type": "execute_result"
    }
   ],
   "source": [
    "del documents[-1]\n",
    "result = index(docs_source=documents, cleanup=\"full\", **index_kwargs)\n",
    "chroma_vectorstore.persist()\n",
    "result"
   ]
  },
  {
   "cell_type": "code",
   "execution_count": null,
   "id": "12be640f-24ab-4682-8c32-0a4957517861",
   "metadata": {
    "editable": true,
    "slideshow": {
     "slide_type": ""
    },
    "tags": []
   },
   "outputs": [],
   "source": []
  },
  {
   "cell_type": "markdown",
   "id": "53ec51edafcdd6d2",
   "metadata": {
    "collapsed": false,
    "editable": true,
    "jupyter": {
     "outputs_hidden": false
    },
    "slideshow": {
     "slide_type": "subslide"
    },
    "tags": []
   },
   "source": [
    "Il y a donc 3 sources pour sauver les documents:\n",
    "\n",
    "- Dans le *vector store*: les vecteurs des transformations.\n",
    "- Dans un autre *doc store* (ou le même): les chunks avant transformation.\n",
    "- Dans le *SQLRecordManager*: les liens entre les documents et les fragments.\n",
    "\n",
    "> **Note:** Il est à noter que tous cela n'est pas transactionnel !"
   ]
  },
  {
   "cell_type": "markdown",
   "id": "fe815140-8fa7-42bf-9041-3e1f2566af33",
   "metadata": {
    "editable": true,
    "slideshow": {
     "slide_type": "subslide"
    },
    "tags": []
   },
   "source": [
    "![Tree of variations](plantuml/variations.png)"
   ]
  },
  {
   "cell_type": "markdown",
   "id": "3d7782e4-fecd-4fa3-ab2f-bcd01837d722",
   "metadata": {
    "editable": true,
    "slideshow": {
     "slide_type": "subslide"
    },
    "tags": []
   },
   "source": [
    "## RAGVectorStore\n",
    "![RagVectorStore](plantuml/all_retrievers_1.png)"
   ]
  },
  {
   "cell_type": "markdown",
   "id": "223b5900-524b-4154-8b57-a9075dbb8f41",
   "metadata": {
    "editable": true,
    "slideshow": {
     "slide_type": "slide"
    },
    "tags": []
   },
   "source": [
    "## Attaquons les retrievers\n",
    "![Retrivers](plantuml/opt_2.png)"
   ]
  },
  {
   "cell_type": "markdown",
   "id": "2981b01e756e9096",
   "metadata": {
    "collapsed": false,
    "editable": true,
    "jupyter": {
     "outputs_hidden": false
    },
    "slideshow": {
     "slide_type": "subslide"
    },
    "tags": []
   },
   "source": [
    "## Améliorer les retrievers\n",
    "Comme tous vector store, on peut convertir `RAGVectorStore` en `Retriever`."
   ]
  },
  {
   "cell_type": "code",
   "execution_count": 27,
   "id": "ec70b4b3dcc80eb8",
   "metadata": {
    "ExecuteTime": {
     "end_time": "2023-11-07T08:05:38.615637927Z",
     "start_time": "2023-11-07T08:05:38.175162770Z"
    },
    "collapsed": false,
    "editable": true,
    "jupyter": {
     "outputs_hidden": false
    },
    "slideshow": {
     "slide_type": ""
    },
    "tags": []
   },
   "outputs": [
    {
     "name": "stdout",
     "output_type": "stream",
     "text": [
      "\u001b[94mChunk 1:\n",
      "Mathematics is an area of knowledge that includes the topics of numbers, formula...[:2415] 430 toks\u001b[0m\n",
      "\u001b[92msource='https://en.wikipedia.org/wiki/Mathematics',\n",
      "_chunk_id='9941311f-98df-42c3-8150-af4b374c7958'\u001b[0m\n",
      "----------------------------------------\n",
      "\u001b[94mChunk 2:\n",
      "== Etymology ==\n",
      "The word mathematics comes from Ancient Greek máthēma (μάθημα), ...[:1434] 387 toks\u001b[0m\n",
      "\u001b[92msource='https://en.wikipedia.org/wiki/Mathematics',\n",
      "_chunk_id='b8a9c247-4e46-4ab0-8179-c9baa72022a5'\u001b[0m\n",
      "----------------------------------------\n",
      "\u001b[94mChunk 3:\n",
      "The history of mathematics deals with the origin of discoveries in mathematics a...[:3537] 711 toks\u001b[0m\n",
      "\u001b[92msource='https://en.wikipedia.org/wiki/History_of_mathematics',\n",
      "_chunk_id='3afd054a-5563-4ac8-88b6-a3c73a6a5c3b'\u001b[0m\n"
     ]
    }
   ],
   "source": [
    "rag_retriever = rag_vectorstore.as_retriever()\n",
    "selected_chunks = rag_retriever.get_relevant_documents(query)\n",
    "pretty_print_docs(selected_chunks, [\"source\", \"_chunk_id\"],kind=\"Chunk\")"
   ]
  },
  {
   "cell_type": "code",
   "execution_count": null,
   "id": "7c73e018-57f4-49ab-a432-921e72b70843",
   "metadata": {
    "editable": true,
    "slideshow": {
     "slide_type": ""
    },
    "tags": []
   },
   "outputs": [],
   "source": []
  },
  {
   "cell_type": "markdown",
   "id": "4d79dba17a046faa",
   "metadata": {
    "collapsed": false,
    "editable": true,
    "jupyter": {
     "outputs_hidden": false
    },
    "slideshow": {
     "slide_type": "slide"
    },
    "tags": []
   },
   "source": [
    "## Complexifions l'enchainement des Retrievers\n",
    "Il est possible de combiner plusieurs retrievers ou utiliser des retrievers avancés pour certaines applications."
   ]
  },
  {
   "cell_type": "markdown",
   "id": "da5f219067ca4a98",
   "metadata": {
    "collapsed": false,
    "editable": true,
    "jupyter": {
     "outputs_hidden": false
    },
    "slideshow": {
     "slide_type": "slide"
    },
    "tags": []
   },
   "source": [
    "### SelfQueryRetriever\n",
    "Le `SelfQueryRetriever` peut générer un filtre sur les méta-données. \n",
    "A titre d'exemple, nous l'utilisons pour pouvoir filtrer sur le titre du document. Mais généralement, on peut faire une extraction de mot clés lors de l'import (lors d'une transformation), pour les ajouter dans les méta-données. Ensuite, le retriever peut filtrer les documents sur ces mots clées."
   ]
  },
  {
   "cell_type": "code",
   "execution_count": 29,
   "id": "d3b8ab4707aef773",
   "metadata": {
    "ExecuteTime": {
     "end_time": "2023-11-07T08:05:42.427426818Z",
     "start_time": "2023-11-07T08:05:41.137292364Z"
    },
    "collapsed": false,
    "editable": true,
    "jupyter": {
     "outputs_hidden": false
    },
    "slideshow": {
     "slide_type": "subslide"
    },
    "tags": []
   },
   "outputs": [
    {
     "name": "stdout",
     "output_type": "stream",
     "text": [
      "\u001b[94mChunk 1:\n",
      "The history of mathematics deals with the origin of discoveries in mathematics a...[:3537] 711 toks\u001b[0m\n",
      "\u001b[92mtitle='History of mathematics'\u001b[0m\n",
      "----------------------------------------\n",
      "\u001b[94mChunk 2:\n",
      " bone, found near the headwaters of the Nile river (northeastern Congo), may be ...[:303] 78 toks\u001b[0m\n",
      "\u001b[92mtitle='History of mathematics'\u001b[0m\n"
     ]
    }
   ],
   "source": [
    "from langchain.chains.query_constructor.schema import AttributeInfo\n",
    "from langchain.retrievers.self_query.base import SelfQueryRetriever\n",
    "\n",
    "metadata_field_info = [\n",
    "    AttributeInfo(\n",
    "        name=\"title\",\n",
    "        description=\"The title of the document.\",\n",
    "        type=\"string\",\n",
    "    ),\n",
    "]\n",
    "document_content_description = \"Documents on mathematics\"\n",
    "self_retriever = SelfQueryRetriever.from_llm(\n",
    "    llm,\n",
    "    rag_vectorstore,\n",
    "    document_content_description,\n",
    "    metadata_field_info,\n",
    "    use_original_query=True,\n",
    "    verbose=True,\n",
    ")\n",
    "\n",
    "pretty_print_docs(\n",
    "    self_retriever.get_relevant_documents(\n",
    "        \"In the document 'History of mathematics', \" + query\n",
    "    ),\n",
    "    [\"title\"],\n",
    "    kind=\"Chunk\",\n",
    ")"
   ]
  },
  {
   "cell_type": "code",
   "execution_count": null,
   "id": "d52a6b0d-ccec-4da0-83cb-e98f05656bdc",
   "metadata": {
    "editable": true,
    "slideshow": {
     "slide_type": ""
    },
    "tags": []
   },
   "outputs": [],
   "source": []
  },
  {
   "cell_type": "markdown",
   "id": "161e243eadf938e2",
   "metadata": {
    "collapsed": false,
    "editable": true,
    "jupyter": {
     "outputs_hidden": false
    },
    "slideshow": {
     "slide_type": "slide"
    },
    "tags": []
   },
   "source": [
    "### MergerRetriever\n",
    "Avec les filtres, on peut avoir un `retriever` qui ne retourne que les résumés."
   ]
  },
  {
   "cell_type": "code",
   "execution_count": 30,
   "id": "29aca35b60b7c847",
   "metadata": {
    "ExecuteTime": {
     "end_time": "2023-11-07T08:05:44.755742366Z",
     "start_time": "2023-11-07T08:05:44.459787863Z"
    },
    "collapsed": false,
    "editable": true,
    "jupyter": {
     "outputs_hidden": false
    },
    "slideshow": {
     "slide_type": ""
    },
    "tags": []
   },
   "outputs": [
    {
     "name": "stdout",
     "output_type": "stream",
     "text": [
      "\u001b[94mChunk 1:\n",
      "SUMMARY:\n",
      "Mathematics is a field of study that deals with numbers, formulas, shap...[:629] 127 toks\u001b[0m\n",
      "\u001b[92mtransformer='SummarizeTransformer'\u001b[0m\n",
      "----------------------------------------\n",
      "\u001b[94mChunk 2:\n",
      "SUMMARY:\n",
      "The history of mathematics dates back to ancient civilizations such as ...[:594] 128 toks\u001b[0m\n",
      "\u001b[92mtransformer='SummarizeTransformer'\u001b[0m\n",
      "----------------------------------------\n",
      "\u001b[94mChunk 3:\n",
      "SUMMARY:\n",
      "The word mathematics originated from the Greek word máthēma, meaning \"t...[:723] 178 toks\u001b[0m\n",
      "\u001b[92mtransformer='SummarizeTransformer'\u001b[0m\n",
      "----------------------------------------\n",
      "\u001b[94mChunk 4:\n",
      "SUMMARY:\n",
      "The Ishango bone, discovered in northeastern Congo near the Nile river,...[:238] 65 toks\u001b[0m\n",
      "\u001b[92mtransformer='SummarizeTransformer'\u001b[0m\n"
     ]
    }
   ],
   "source": [
    "summary_retriever = chroma_vectorstore.as_retriever(\n",
    "    search_kwargs={\"filter\": {\"transformer\": {\"$eq\": 'SummarizeTransformer'}}}\n",
    ")\n",
    "pretty_print_docs(summary_retriever.get_relevant_documents(query), [\"transformer\"],kind=\"Chunk\")"
   ]
  },
  {
   "cell_type": "code",
   "execution_count": null,
   "id": "f19514c1-fcc9-4bc0-9c9a-060fec4f3aad",
   "metadata": {
    "editable": true,
    "slideshow": {
     "slide_type": ""
    },
    "tags": []
   },
   "outputs": [],
   "source": []
  },
  {
   "cell_type": "markdown",
   "id": "30c261a17c2a969d",
   "metadata": {
    "collapsed": false,
    "editable": true,
    "jupyter": {
     "outputs_hidden": false
    },
    "slideshow": {
     "slide_type": "slide"
    },
    "tags": []
   },
   "source": [
    "### MergerRetriever\n",
    "Pour la démo, on peut alors combiner le retriever normal, et le retriever de résumé."
   ]
  },
  {
   "cell_type": "code",
   "execution_count": 31,
   "id": "5bdf6111bcbfc6c2",
   "metadata": {
    "ExecuteTime": {
     "end_time": "2023-11-07T08:05:49.101813406Z",
     "start_time": "2023-11-07T08:05:48.095294103Z"
    },
    "collapsed": false,
    "editable": true,
    "jupyter": {
     "outputs_hidden": false
    },
    "slideshow": {
     "slide_type": ""
    },
    "tags": []
   },
   "outputs": [
    {
     "name": "stdout",
     "output_type": "stream",
     "text": [
      "\u001b[94mChunk 1:\n",
      "Mathematics is an area of knowledge that includes the topics of numbers, formula...[:2415] 430 toks\u001b[0m\n",
      "\u001b[92mtransformer=None\u001b[0m\n",
      "----------------------------------------\n",
      "\u001b[94mChunk 2:\n",
      "SUMMARY:\n",
      "Mathematics is a field of study that deals with numbers, formulas, shap...[:629] 127 toks\u001b[0m\n",
      "\u001b[92mtransformer='SummarizeTransformer'\u001b[0m\n",
      "----------------------------------------\n",
      "\u001b[94mChunk 3:\n",
      "== Etymology ==\n",
      "The word mathematics comes from Ancient Greek máthēma (μάθημα), ...[:1434] 387 toks\u001b[0m\n",
      "\u001b[92mtransformer=None\u001b[0m\n",
      "----------------------------------------\n",
      "\u001b[94mChunk 4:\n",
      "SUMMARY:\n",
      "The history of mathematics dates back to ancient civilizations such as ...[:594] 128 toks\u001b[0m\n",
      "\u001b[92mtransformer='SummarizeTransformer'\u001b[0m\n",
      "----------------------------------------\n",
      "\u001b[94mChunk 5:\n",
      "The history of mathematics deals with the origin of discoveries in mathematics a...[:3537] 711 toks\u001b[0m\n",
      "\u001b[92mtransformer=None\u001b[0m\n",
      "----------------------------------------\n",
      "\u001b[94mChunk 6:\n",
      "SUMMARY:\n",
      "The word mathematics originated from the Greek word máthēma, meaning \"t...[:723] 178 toks\u001b[0m\n",
      "\u001b[92mtransformer='SummarizeTransformer'\u001b[0m\n",
      "----------------------------------------\n",
      "\u001b[94mChunk 7:\n",
      "SUMMARY:\n",
      "The Ishango bone, discovered in northeastern Congo near the Nile river,...[:238] 65 toks\u001b[0m\n",
      "\u001b[92mtransformer='SummarizeTransformer'\u001b[0m\n"
     ]
    }
   ],
   "source": [
    "from langchain.retrievers.merger_retriever import MergerRetriever\n",
    "\n",
    "query = \"What is the difference between pure and applied mathematics?\"\n",
    "merge_retriever = MergerRetriever(retrievers=[self_retriever, summary_retriever])\n",
    "pretty_print_docs(\n",
    "    merge_retriever.get_relevant_documents(query), [\"transformer\"], kind=\"Chunk\"\n",
    ")"
   ]
  },
  {
   "cell_type": "code",
   "execution_count": null,
   "id": "938ad448-7ac4-445b-a624-68bda0c27c51",
   "metadata": {
    "editable": true,
    "slideshow": {
     "slide_type": ""
    },
    "tags": []
   },
   "outputs": [],
   "source": []
  },
  {
   "cell_type": "markdown",
   "id": "5577ae97cec80e50",
   "metadata": {
    "collapsed": false,
    "editable": true,
    "jupyter": {
     "outputs_hidden": false
    },
    "slideshow": {
     "slide_type": "slide"
    },
    "tags": []
   },
   "source": [
    "### MultiQueryRetriever\n",
    "Les résultats peuvent évoluer suite à une petite modification dans la question. Pour augmenter le périmètre des documents retournés, il est envisagable de dérivé la question en plusieurs questions, et de cumuler alors les meilleurs documents."
   ]
  },
  {
   "cell_type": "code",
   "execution_count": 32,
   "id": "a3be992243890cc9",
   "metadata": {
    "ExecuteTime": {
     "end_time": "2023-11-07T08:05:53.976165884Z",
     "start_time": "2023-11-07T08:05:49.950948885Z"
    },
    "collapsed": false,
    "editable": true,
    "jupyter": {
     "outputs_hidden": false
    },
    "slideshow": {
     "slide_type": "subslide"
    },
    "tags": []
   },
   "outputs": [
    {
     "name": "stderr",
     "output_type": "stream",
     "text": [
      "INFO:langchain.retrievers.multi_query:Generated queries: ['1. How does pure mathematics differ from applied mathematics?', '2. Can you explain the distinction between pure and applied mathematics?', '3. In what ways do pure and applied mathematics vary from each other?']\n"
     ]
    },
    {
     "name": "stdout",
     "output_type": "stream",
     "text": [
      "\u001b[94mVariations 1:\n",
      "Mathematics is an area of knowledge that includes the topics of numbers, formula...[:2415] 430 toks\u001b[0m\n",
      "\u001b[92mtransformer=None\u001b[0m\n",
      "----------------------------------------\n",
      "\u001b[94mVariations 2:\n",
      "SUMMARY:\n",
      "Mathematics is a field of study that deals with numbers, formulas, shap...[:629] 127 toks\u001b[0m\n",
      "\u001b[92mtransformer='SummarizeTransformer'\u001b[0m\n",
      "----------------------------------------\n",
      "\u001b[94mVariations 3:\n",
      "== Etymology ==\n",
      "The word mathematics comes from Ancient Greek máthēma (μάθημα), ...[:1434] 387 toks\u001b[0m\n",
      "\u001b[92mtransformer=None\u001b[0m\n",
      "----------------------------------------\n",
      "\u001b[94mVariations 4:\n",
      "SUMMARY:\n",
      "The word mathematics originated from the Greek word máthēma, meaning \"t...[:723] 178 toks\u001b[0m\n",
      "\u001b[92mtransformer='SummarizeTransformer'\u001b[0m\n",
      "----------------------------------------\n",
      "\u001b[94mVariations 5:\n",
      "The history of mathematics deals with the origin of discoveries in mathematics a...[:3537] 711 toks\u001b[0m\n",
      "\u001b[92mtransformer=None\u001b[0m\n",
      "----------------------------------------\n",
      "\u001b[94mVariations 6:\n",
      "SUMMARY:\n",
      "The history of mathematics dates back to ancient civilizations such as ...[:594] 128 toks\u001b[0m\n",
      "\u001b[92mtransformer='SummarizeTransformer'\u001b[0m\n",
      "----------------------------------------\n",
      "\u001b[94mVariations 7:\n",
      "SUMMARY:\n",
      "The Ishango bone, discovered in northeastern Congo near the Nile river,...[:238] 65 toks\u001b[0m\n",
      "\u001b[92mtransformer='SummarizeTransformer'\u001b[0m\n"
     ]
    }
   ],
   "source": [
    "import langchain.retrievers.multi_query\n",
    "langchain.retrievers.multi_query.logger.setLevel(logging.INFO)\n",
    "from langchain.retrievers.multi_query import MultiQueryRetriever\n",
    "\n",
    "# Generate 3 questions from the user questions, and these version to find a better candidats in vectorstore\n",
    "multi_query_retriever = MultiQueryRetriever.from_llm(\n",
    "    llm=llm,\n",
    "    retriever=merge_retriever,\n",
    ")\n",
    "\n",
    "query = \"What is the difference between pure and applied mathematics?\"\n",
    "pretty_print_docs(multi_query_retriever.get_relevant_documents(query), [\"transformer\"])\n",
    "final_retriever = multi_query_retriever"
   ]
  },
  {
   "cell_type": "code",
   "execution_count": null,
   "id": "1a15c7ac-e990-43c6-8ebc-f64dde534f22",
   "metadata": {
    "editable": true,
    "slideshow": {
     "slide_type": ""
    },
    "tags": []
   },
   "outputs": [],
   "source": []
  },
  {
   "cell_type": "markdown",
   "id": "ee7c70d5449684d8",
   "metadata": {
    "collapsed": false,
    "editable": true,
    "jupyter": {
     "outputs_hidden": false
    },
    "slideshow": {
     "slide_type": "slide"
    },
    "tags": []
   },
   "source": [
    "### EnsembleRetriever\n",
    "`EnsembleRetriever` prend une liste retriever, récupère les documents de chacun, puis les classes à nouveau.\n",
    "Nous n'appliquons pas cela pour la démo.\n",
    "\n",
    "Plusieurs autres approches peuvent être ajoutées..."
   ]
  },
  {
   "cell_type": "markdown",
   "id": "3369a18f602a1b83",
   "metadata": {
    "collapsed": false,
    "editable": true,
    "jupyter": {
     "outputs_hidden": false
    },
    "slideshow": {
     "slide_type": "slide"
    },
    "tags": []
   },
   "source": [
    "## Synthèse\n",
    "À cette étape, lors de l'utilisation du retriver:\n",
    "\n",
    "- Plusieurs requêtes sont génénées pour retrouver plus de document (via `multi_query_retriever`)\n",
    "- Pour chaque requete:\n",
    "    - Les variations sont utilisées pour mieux retrouver les fragments\n",
    "    - L'original et/ou le résumé du fragment peuvent être retourné\n",
    "    - Si possible, un filtre sur les méta-données est appliqué (via `self_retriever`)\n",
    "- Seul les meilleurs candidats sont utilisé pour répondre à la question. \n"
   ]
  },
  {
   "cell_type": "markdown",
   "id": "b8a171d3-dc6a-49c1-b569-305e3828f29f",
   "metadata": {
    "editable": true,
    "slideshow": {
     "slide_type": "subslide"
    },
    "tags": []
   },
   "source": [
    "![Retriever](plantuml/all_retrievers_2.png)"
   ]
  },
  {
   "cell_type": "markdown",
   "id": "b3c7edcc-b38e-4088-9a01-f9d87882c2b7",
   "metadata": {
    "editable": true,
    "slideshow": {
     "slide_type": "slide"
    },
    "tags": []
   },
   "source": [
    "## Enfin, attaquons ici\n",
    "![Compressor](plantuml/opt_3.png)"
   ]
  },
  {
   "cell_type": "markdown",
   "id": "e231bfd97367dc51",
   "metadata": {
    "collapsed": false,
    "editable": true,
    "jupyter": {
     "outputs_hidden": false
    },
    "slideshow": {
     "slide_type": "subslide"
    },
    "tags": []
   },
   "source": [
    "## Utiliser des *compressor*\n",
    "Depuis la liste des documents sélectionné, il est possible d'utiliser des *compressor*, pour filtre la sélection.\n",
    "\n",
    "On peut combiner plusieurs filtres dans un pipeline.\n",
    "- Le [EmbeddingsFilter](https://python.langchain.com/docs/modules/data_connection/retrievers/contextual_compression#embeddingsfilter) peut analyser la proximité entre les documents, pour supprimer les redondances\n",
    "- Le [CohereRerank](https://python.langchain.com/docs/integrations/retrievers/cohere-reranker) peut renoter les candidats et filtrer sur un seuil.\n",
    "- Le [LLMChainFilter](https://python.langchain.com/docs/modules/data_connection/retrievers/contextual_compression#llmchainfilter) peut supprimer les documents n'étant pas en rapport avec la question.\n",
    "- Le [LongContextReorder](https://python.langchain.com/docs/integrations/retrievers/merger_retriever#re-order-results-to-avoid-performance-degradation) peut finalement les reclasser, pour améliorer la production de la réponse.\n",
    "- le [ChainExtractor](https://python.langchain.com/docs/modules/data_connection/retrievers/contextual_compression#adding-contextual-compression-with-an-llmchainextractor) récupère uniquement les données pertinentes des documents, pour répondre à la question\n",
    "- ..."
   ]
  },
  {
   "cell_type": "code",
   "execution_count": 33,
   "id": "67cbede89e25ee4",
   "metadata": {
    "ExecuteTime": {
     "start_time": "2023-11-07T07:41:47.403950808Z"
    },
    "collapsed": false,
    "editable": true,
    "jupyter": {
     "outputs_hidden": false
    },
    "slideshow": {
     "slide_type": "subslide"
    },
    "tags": []
   },
   "outputs": [],
   "source": [
    "from langchain.retrievers.document_compressors import EmbeddingsFilter\n",
    "\n",
    "embeddings_filter = EmbeddingsFilter(\n",
    "    embeddings=embeddings,\n",
    "    similarity_threshold=0.7,  # Threshold for determining when two documents are redundant.\n",
    ")"
   ]
  },
  {
   "cell_type": "code",
   "execution_count": 34,
   "id": "fd165fb056847283",
   "metadata": {
    "ExecuteTime": {
     "start_time": "2023-11-07T07:41:47.404023357Z"
    },
    "collapsed": false,
    "editable": true,
    "jupyter": {
     "outputs_hidden": false
    },
    "slideshow": {
     "slide_type": "subslide"
    },
    "tags": []
   },
   "outputs": [],
   "source": [
    "from langchain.document_transformers import LongContextReorder\n",
    "\n",
    "long_context_reorder = LongContextReorder()"
   ]
  },
  {
   "cell_type": "code",
   "execution_count": 35,
   "id": "2d1371cafbc000ab",
   "metadata": {
    "ExecuteTime": {
     "start_time": "2023-11-07T07:41:47.404094104Z"
    },
    "collapsed": false,
    "editable": true,
    "jupyter": {
     "outputs_hidden": false
    },
    "slideshow": {
     "slide_type": "subslide"
    },
    "tags": []
   },
   "outputs": [],
   "source": [
    "# Combine compressors\n",
    "from langchain.retrievers.document_compressors import DocumentCompressorPipeline\n",
    "\n",
    "compressor = DocumentCompressorPipeline(\n",
    "    transformers=[\n",
    "        # embeddings_filter,\n",
    "        long_context_reorder,\n",
    "    ]\n",
    ")"
   ]
  },
  {
   "cell_type": "markdown",
   "id": "4784853ec5a5e5b5",
   "metadata": {
    "collapsed": false,
    "editable": true,
    "jupyter": {
     "outputs_hidden": false
    },
    "slideshow": {
     "slide_type": ""
    },
    "tags": []
   },
   "source": [
    "> **Note:** Nous n'utilisons pas `embeddings_filter`, parceque, un fragment peut avoir une proximité < 0.7, mais sa variation une proximité supérieure. Nous souhaitons justement, garder le fragment remonté via sa variation."
   ]
  },
  {
   "cell_type": "markdown",
   "id": "a10c8c0a080849fd",
   "metadata": {
    "collapsed": false,
    "editable": true,
    "jupyter": {
     "outputs_hidden": false
    },
    "slideshow": {
     "slide_type": "subslide"
    },
    "tags": []
   },
   "source": [
    "Maintenant, on peut ajouter les filtres à notre pipeline."
   ]
  },
  {
   "cell_type": "code",
   "execution_count": 36,
   "id": "537aa32a60d7b71d",
   "metadata": {
    "ExecuteTime": {
     "start_time": "2023-11-07T07:41:47.404164493Z"
    },
    "collapsed": false,
    "editable": true,
    "jupyter": {
     "outputs_hidden": false
    },
    "slideshow": {
     "slide_type": ""
    },
    "tags": []
   },
   "outputs": [
    {
     "name": "stderr",
     "output_type": "stream",
     "text": [
      "INFO:langchain.retrievers.multi_query:Generated queries: ['1. How does pure mathematics differ from applied mathematics?', '2. Can you explain the distinction between pure and applied mathematics?', '3. In what ways do pure and applied mathematics vary from each other?']\n"
     ]
    },
    {
     "name": "stdout",
     "output_type": "stream",
     "text": [
      "\u001b[94mChunk 1:\n",
      "Mathematics is an area of knowledge that includes the topics of numbers, formula...[:2415] 430 toks\u001b[0m\n",
      "----------------------------------------\n",
      "\u001b[94mChunk 2:\n",
      "== Etymology ==\n",
      "The word mathematics comes from Ancient Greek máthēma (μάθημα), ...[:1434] 387 toks\u001b[0m\n",
      "----------------------------------------\n",
      "\u001b[94mChunk 3:\n",
      "The history of mathematics deals with the origin of discoveries in mathematics a...[:3537] 711 toks\u001b[0m\n",
      "----------------------------------------\n",
      "\u001b[94mChunk 4:\n",
      "SUMMARY:\n",
      "The Ishango bone, discovered in northeastern Congo near the Nile river,...[:238] 65 toks\u001b[0m\n",
      "----------------------------------------\n",
      "\u001b[94mChunk 5:\n",
      "SUMMARY:\n",
      "The history of mathematics dates back to ancient civilizations such as ...[:594] 128 toks\u001b[0m\n",
      "----------------------------------------\n",
      "\u001b[94mChunk 6:\n",
      "SUMMARY:\n",
      "The word mathematics originated from the Greek word máthēma, meaning \"t...[:723] 178 toks\u001b[0m\n",
      "----------------------------------------\n",
      "\u001b[94mChunk 7:\n",
      "SUMMARY:\n",
      "Mathematics is a field of study that deals with numbers, formulas, shap...[:629] 127 toks\u001b[0m\n"
     ]
    }
   ],
   "source": [
    "from langchain.retrievers import ContextualCompressionRetriever\n",
    "\n",
    "compression_retriever = ContextualCompressionRetriever(\n",
    "    base_compressor=compressor, base_retriever=multi_query_retriever\n",
    ")\n",
    "\n",
    "pretty_print_docs(compression_retriever.get_relevant_documents(query),kind=\"Chunk\")"
   ]
  },
  {
   "cell_type": "code",
   "execution_count": null,
   "id": "df4d4cfa-91f2-4b6a-b06f-7c6c567d4c5c",
   "metadata": {
    "editable": true,
    "slideshow": {
     "slide_type": ""
    },
    "tags": []
   },
   "outputs": [],
   "source": []
  },
  {
   "cell_type": "markdown",
   "id": "4111b876-1e23-4a88-882c-2d3f5856678b",
   "metadata": {
    "editable": true,
    "jp-MarkdownHeadingCollapsed": true,
    "slideshow": {
     "slide_type": "slide"
    },
    "tags": []
   },
   "source": [
    "## Pour Finir..."
   ]
  },
  {
   "cell_type": "code",
   "execution_count": 37,
   "id": "c613c2674527f644",
   "metadata": {
    "ExecuteTime": {
     "end_time": "2023-11-07T07:41:47.517405275Z",
     "start_time": "2023-11-07T07:41:47.450639283Z"
    },
    "collapsed": false,
    "editable": true,
    "jupyter": {
     "outputs_hidden": false
    },
    "slideshow": {
     "slide_type": "subslide"
    },
    "tags": []
   },
   "outputs": [],
   "source": [
    "final_retriever = compression_retriever"
   ]
  },
  {
   "cell_type": "markdown",
   "id": "7f5e186c-d6ec-4830-ae35-21618e292b49",
   "metadata": {
    "editable": true,
    "slideshow": {
     "slide_type": "slide"
    },
    "tags": []
   },
   "source": [
    "![Chain of retrievers](plantuml/all_retrievers.png)"
   ]
  },
  {
   "cell_type": "markdown",
   "id": "13e195db90457352",
   "metadata": {
    "collapsed": false,
    "editable": true,
    "jupyter": {
     "outputs_hidden": false
    },
    "slideshow": {
     "slide_type": "slide"
    },
    "tags": []
   },
   "source": [
    "## Posons la question\n",
    "\n",
    "Maintenant, il est possible d'utiliser cette architecture pour répondre à la question."
   ]
  },
  {
   "cell_type": "markdown",
   "id": "e146b3fb5aa1a8c4",
   "metadata": {
    "collapsed": false,
    "editable": true,
    "jupyter": {
     "outputs_hidden": false
    },
    "slideshow": {
     "slide_type": "subslide"
    },
    "tags": []
   },
   "source": [
    "Il peut y avoir une difficulté, si l'intégration des documents dépasse le nombre de token autorisé.\n",
    "Il existe plusieurs stratégie pour gérer cela, identifié par le paramètre  \n",
    "[`chain_type`](https://python.langchain.com/docs/use_cases/question_answering/vector_db_qa#chain-type).\n",
    "\n",
    "> **Note 1**: La version `load_qa_chain()` et `RetrievalQAWithSourcesChain` est sujette à des hallucations. Elle peut répondre sans utiliser les documents. Ce n'est pas le cas de `RetrievalQAWithReferencesChain` et `RetrievalQAWithReferencesAndVerbatimsChain`.\n",
    "\n",
    "> **Note 2**: L'approche `map_reduce`, utilise une approche similaire aux *compressor*, mais fonctionent récursivement, pour rester sous le seul du nombre de tokens. "
   ]
  },
  {
   "cell_type": "code",
   "execution_count": 38,
   "id": "528d6cea511e95c6",
   "metadata": {
    "ExecuteTime": {
     "start_time": "2023-11-07T07:41:47.450908550Z"
    },
    "collapsed": false,
    "editable": true,
    "jupyter": {
     "outputs_hidden": false
    },
    "slideshow": {
     "slide_type": "subslide"
    },
    "tags": []
   },
   "outputs": [
    {
     "name": "stdout",
     "output_type": "stream",
     "text": [
      " Pure mathematics is developed independently from any application, while applied mathematics is developed in close correlation with its applications.\n"
     ]
    }
   ],
   "source": [
    "from langchain.chains.question_answering import load_qa_chain\n",
    "langchain.retrievers.multi_query.logger.setLevel(logging.ERROR)\n",
    "chain = load_qa_chain(\n",
    "    llm,\n",
    "    chain_type=\"stuff\",  # \"stuff\", \"map_reduce\", \"refine\", \"map_rerank\"\n",
    ")\n",
    "result = chain.invoke(\n",
    "    {\n",
    "        \"input_documents\": final_retriever.get_relevant_documents(query),\n",
    "        \"question\": query,\n",
    "    },\n",
    "    callbacks=CALLBACKS,\n",
    ")\n",
    "print(result[\"output_text\"])"
   ]
  },
  {
   "cell_type": "code",
   "execution_count": null,
   "id": "314888d1-b0d2-4373-9de4-f755a097e277",
   "metadata": {
    "editable": true,
    "slideshow": {
     "slide_type": ""
    },
    "tags": []
   },
   "outputs": [],
   "source": []
  },
  {
   "cell_type": "markdown",
   "id": "c5178548aed66397",
   "metadata": {
    "collapsed": false,
    "editable": true,
    "jupyter": {
     "outputs_hidden": false
    },
    "slideshow": {
     "slide_type": "subslide"
    },
    "tags": []
   },
   "source": [
    "Si le document possède une `sources` et que les URLs consomment trop de tokens, vous pouvez utiliser `RetrievalQAWithSourcesChain`."
   ]
  },
  {
   "cell_type": "code",
   "execution_count": 39,
   "id": "82d24ebb6d278bac",
   "metadata": {
    "ExecuteTime": {
     "start_time": "2023-11-07T07:41:47.451007431Z"
    },
    "collapsed": false,
    "editable": true,
    "jupyter": {
     "outputs_hidden": false
    },
    "slideshow": {
     "slide_type": ""
    },
    "tags": []
   },
   "outputs": [
    {
     "name": "stdout",
     "output_type": "stream",
     "text": [
      " Pure mathematics is developed independently from any application, while applied mathematics is developed in close correlation with its applications.\n",
      "\n",
      "\u001b[92mhttps://en.wikipedia.org/wiki/Mathematics\u001b[0m\n"
     ]
    }
   ],
   "source": [
    "from langchain.chains import RetrievalQAWithSourcesChain\n",
    "\n",
    "chain = RetrievalQAWithSourcesChain.from_chain_type(\n",
    "    llm=llm,\n",
    "    chain_type=\"map_reduce\",  # \"stuff\", \"map_reduce\", \"refine\", \"map_rerank\"\n",
    "    retriever=final_retriever,\n",
    "    callbacks=CALLBACKS,\n",
    ")\n",
    "result = chain.invoke(query)\n",
    "print(result[\"answer\"])\n",
    "pretty_print_docs(result[\"sources\"])"
   ]
  },
  {
   "cell_type": "code",
   "execution_count": null,
   "id": "10e158c6-b30e-499e-8039-9dad927eefd1",
   "metadata": {
    "editable": true,
    "slideshow": {
     "slide_type": ""
    },
    "tags": []
   },
   "outputs": [],
   "source": []
  },
  {
   "cell_type": "code",
   "execution_count": 40,
   "id": "49beb23b22096ce2",
   "metadata": {
    "ExecuteTime": {
     "start_time": "2023-11-07T07:41:47.451241156Z"
    },
    "collapsed": false,
    "editable": true,
    "jupyter": {
     "outputs_hidden": false
    },
    "slideshow": {
     "slide_type": "skip"
    },
    "tags": []
   },
   "outputs": [],
   "source": [
    "# Clean up\n",
    "import shutil\n",
    "\n",
    "shutil.rmtree(ROOT_PATH)"
   ]
  },
  {
   "cell_type": "markdown",
   "id": "adf215c1-2451-4f8f-bef0-3414262d58ec",
   "metadata": {
    "editable": false,
    "slideshow": {
     "slide_type": "slide"
    },
    "tags": []
   },
   "source": [
    "Retour à la théorie"
   ]
  },
  {
   "cell_type": "markdown",
   "id": "62089560-bf04-4426-a5f3-acfa656edbd5",
   "metadata": {
    "ExecuteTime": {
     "start_time": "2023-11-07T07:41:47.451317026Z"
    },
    "collapsed": false,
    "editable": true,
    "jupyter": {
     "outputs_hidden": false
    },
    "slideshow": {
     "slide_type": "skip"
    },
    "tags": []
   },
   "source": [
    "## References\n",
    "- [Why Your RAG Is Not Reliable in a Production Environment](https://towardsdatascience.com/why-your-rag-is-not-reliable-in-a-production-environment-9e6a73b3eddb)\n",
    "- [Forget RAG, the Future is RAG-Fusion](https://towardsdatascience.com/forget-rag-the-future-is-rag-fusion-1147298d8ad1)\n",
    "- [A first intro to Complex RAG](https://medium.com/enterprise-rag/a-first-intro-to-complex-rag-retrieval-augmented-generation-a8624d70090f)\n",
    "- [Advanced RAG Techniques: an Illustrated Overview](https://pub.towardsai.net/advanced-rag-techniques-an-illustrated-overview-04d193d8fec6)"
   ]
  },
  {
   "cell_type": "code",
   "execution_count": null,
   "id": "f8ae3feb-230c-4442-a1c3-5a1154521b8d",
   "metadata": {
    "editable": true,
    "slideshow": {
     "slide_type": ""
    },
    "tags": []
   },
   "outputs": [],
   "source": []
  }
 ],
 "metadata": {
  "kernelspec": {
   "display_name": "langchain-rag",
   "language": "python",
   "name": "langchain-rag"
  },
  "language_info": {
   "codemirror_mode": {
    "name": "ipython",
    "version": 3
   },
   "file_extension": ".py",
   "mimetype": "text/x-python",
   "name": "python",
   "nbconvert_exporter": "python",
   "pygments_lexer": "ipython3",
   "version": "3.11.4"
  },
  "toc": {
   "base_numbering": 1
  }
 },
 "nbformat": 4,
 "nbformat_minor": 5
}
